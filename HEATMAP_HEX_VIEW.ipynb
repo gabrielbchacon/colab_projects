{
  "nbformat": 4,
  "nbformat_minor": 0,
  "metadata": {
    "colab": {
      "name": "HEATMAP_HEX_VIEW.ipynb",
      "provenance": [],
      "include_colab_link": true
    },
    "kernelspec": {
      "name": "python3",
      "display_name": "Python 3"
    }
  },
  "cells": [
    {
      "cell_type": "markdown",
      "metadata": {
        "id": "view-in-github",
        "colab_type": "text"
      },
      "source": [
        "<a href=\"https://colab.research.google.com/github/gabrielbchacon/colab_projects/blob/main/HEATMAP_HEX_VIEW.ipynb\" target=\"_parent\"><img src=\"https://colab.research.google.com/assets/colab-badge.svg\" alt=\"Open In Colab\"/></a>"
      ]
    },
    {
      "cell_type": "markdown",
      "metadata": {
        "id": "18xO4g4a3756"
      },
      "source": [
        "# Instalando as bibliotecas\n",
        "\n",
        "\n",
        "\n"
      ]
    },
    {
      "cell_type": "code",
      "metadata": {
        "id": "jttb0lAfDEpj",
        "colab": {
          "base_uri": "https://localhost:8080/"
        },
        "outputId": "94940d88-e2ff-485d-85fd-938ff4a0a5f6"
      },
      "source": [
        "!pip install folium\n",
        "# Install GDAL and Geopandas\n",
        "!apt install gdal-bin python-gdal python3-gdal --quiet\n",
        "!apt install python3-rtree --quiet\n",
        "!pip install git+git://github.com/geopandas/geopandas.git --quiet\n",
        "!pip install descartes --quiet\n",
        "!pip install geopy\n",
        "!pip install plotly_express\n",
        "!pip install ipython-autotime"
      ],
      "execution_count": null,
      "outputs": [
        {
          "output_type": "stream",
          "text": [
            "Requirement already satisfied: folium in /usr/local/lib/python3.7/dist-packages (0.8.3)\n",
            "Requirement already satisfied: six in /usr/local/lib/python3.7/dist-packages (from folium) (1.15.0)\n",
            "Requirement already satisfied: branca>=0.3.0 in /usr/local/lib/python3.7/dist-packages (from folium) (0.4.2)\n",
            "Requirement already satisfied: jinja2 in /usr/local/lib/python3.7/dist-packages (from folium) (2.11.3)\n",
            "Requirement already satisfied: numpy in /usr/local/lib/python3.7/dist-packages (from folium) (1.19.5)\n",
            "Requirement already satisfied: requests in /usr/local/lib/python3.7/dist-packages (from folium) (2.23.0)\n",
            "Requirement already satisfied: MarkupSafe>=0.23 in /usr/local/lib/python3.7/dist-packages (from jinja2->folium) (2.0.1)\n",
            "Requirement already satisfied: chardet<4,>=3.0.2 in /usr/local/lib/python3.7/dist-packages (from requests->folium) (3.0.4)\n",
            "Requirement already satisfied: certifi>=2017.4.17 in /usr/local/lib/python3.7/dist-packages (from requests->folium) (2021.5.30)\n",
            "Requirement already satisfied: urllib3!=1.25.0,!=1.25.1,<1.26,>=1.21.1 in /usr/local/lib/python3.7/dist-packages (from requests->folium) (1.24.3)\n",
            "Requirement already satisfied: idna<3,>=2.5 in /usr/local/lib/python3.7/dist-packages (from requests->folium) (2.10)\n",
            "Reading package lists...\n",
            "Building dependency tree...\n",
            "Reading state information...\n",
            "gdal-bin is already the newest version (2.2.3+dfsg-2).\n",
            "python-gdal is already the newest version (2.2.3+dfsg-2).\n",
            "python3-gdal is already the newest version (2.2.3+dfsg-2).\n",
            "0 upgraded, 0 newly installed, 0 to remove and 40 not upgraded.\n",
            "Reading package lists...\n",
            "Building dependency tree...\n",
            "Reading state information...\n",
            "python3-rtree is already the newest version (0.8.3+ds-1).\n",
            "0 upgraded, 0 newly installed, 0 to remove and 40 not upgraded.\n",
            "Requirement already satisfied: geopy in /usr/local/lib/python3.7/dist-packages (1.17.0)\n",
            "Requirement already satisfied: geographiclib<2,>=1.49 in /usr/local/lib/python3.7/dist-packages (from geopy) (1.52)\n",
            "Requirement already satisfied: plotly_express in /usr/local/lib/python3.7/dist-packages (0.4.1)\n",
            "Requirement already satisfied: patsy>=0.5 in /usr/local/lib/python3.7/dist-packages (from plotly_express) (0.5.1)\n",
            "Requirement already satisfied: pandas>=0.20.0 in /usr/local/lib/python3.7/dist-packages (from plotly_express) (1.1.5)\n",
            "Requirement already satisfied: numpy>=1.11 in /usr/local/lib/python3.7/dist-packages (from plotly_express) (1.19.5)\n",
            "Requirement already satisfied: statsmodels>=0.9.0 in /usr/local/lib/python3.7/dist-packages (from plotly_express) (0.10.2)\n",
            "Requirement already satisfied: plotly>=4.1.0 in /usr/local/lib/python3.7/dist-packages (from plotly_express) (4.4.1)\n",
            "Requirement already satisfied: scipy>=0.18 in /usr/local/lib/python3.7/dist-packages (from plotly_express) (1.4.1)\n",
            "Requirement already satisfied: pytz>=2017.2 in /usr/local/lib/python3.7/dist-packages (from pandas>=0.20.0->plotly_express) (2018.9)\n",
            "Requirement already satisfied: python-dateutil>=2.7.3 in /usr/local/lib/python3.7/dist-packages (from pandas>=0.20.0->plotly_express) (2.8.1)\n",
            "Requirement already satisfied: six in /usr/local/lib/python3.7/dist-packages (from patsy>=0.5->plotly_express) (1.15.0)\n",
            "Requirement already satisfied: retrying>=1.3.3 in /usr/local/lib/python3.7/dist-packages (from plotly>=4.1.0->plotly_express) (1.3.3)\n",
            "Requirement already satisfied: ipython-autotime in /usr/local/lib/python3.7/dist-packages (0.3.1)\n",
            "Requirement already satisfied: ipython in /usr/local/lib/python3.7/dist-packages (from ipython-autotime) (5.5.0)\n",
            "Requirement already satisfied: traitlets>=4.2 in /usr/local/lib/python3.7/dist-packages (from ipython->ipython-autotime) (5.0.5)\n",
            "Requirement already satisfied: prompt-toolkit<2.0.0,>=1.0.4 in /usr/local/lib/python3.7/dist-packages (from ipython->ipython-autotime) (1.0.18)\n",
            "Requirement already satisfied: setuptools>=18.5 in /usr/local/lib/python3.7/dist-packages (from ipython->ipython-autotime) (57.2.0)\n",
            "Requirement already satisfied: decorator in /usr/local/lib/python3.7/dist-packages (from ipython->ipython-autotime) (4.4.2)\n",
            "Requirement already satisfied: pexpect in /usr/local/lib/python3.7/dist-packages (from ipython->ipython-autotime) (4.8.0)\n",
            "Requirement already satisfied: simplegeneric>0.8 in /usr/local/lib/python3.7/dist-packages (from ipython->ipython-autotime) (0.8.1)\n",
            "Requirement already satisfied: pygments in /usr/local/lib/python3.7/dist-packages (from ipython->ipython-autotime) (2.6.1)\n",
            "Requirement already satisfied: pickleshare in /usr/local/lib/python3.7/dist-packages (from ipython->ipython-autotime) (0.7.5)\n",
            "Requirement already satisfied: six>=1.9.0 in /usr/local/lib/python3.7/dist-packages (from prompt-toolkit<2.0.0,>=1.0.4->ipython->ipython-autotime) (1.15.0)\n",
            "Requirement already satisfied: wcwidth in /usr/local/lib/python3.7/dist-packages (from prompt-toolkit<2.0.0,>=1.0.4->ipython->ipython-autotime) (0.2.5)\n",
            "Requirement already satisfied: ipython-genutils in /usr/local/lib/python3.7/dist-packages (from traitlets>=4.2->ipython->ipython-autotime) (0.2.0)\n",
            "Requirement already satisfied: ptyprocess>=0.5 in /usr/local/lib/python3.7/dist-packages (from pexpect->ipython->ipython-autotime) (0.7.0)\n"
          ],
          "name": "stdout"
        }
      ]
    },
    {
      "cell_type": "code",
      "metadata": {
        "colab": {
          "base_uri": "https://localhost:8080/"
        },
        "id": "bkr4WKEV9nFr",
        "outputId": "de70bdac-9718-4a1f-c1db-b4d0df809321"
      },
      "source": [
        "!pip install tqdm==4.36.0"
      ],
      "execution_count": null,
      "outputs": [
        {
          "output_type": "stream",
          "text": [
            "Requirement already satisfied: tqdm==4.36.0 in /usr/local/lib/python3.7/dist-packages (4.36.0)\n"
          ],
          "name": "stdout"
        }
      ]
    },
    {
      "cell_type": "code",
      "metadata": {
        "colab": {
          "base_uri": "https://localhost:8080/"
        },
        "id": "Sh6Nk1Sy6oXK",
        "outputId": "975b0b97-9ebd-4afb-b759-3f7623a534a5"
      },
      "source": [
        "!pip install googlemaps"
      ],
      "execution_count": null,
      "outputs": [
        {
          "output_type": "stream",
          "text": [
            "Requirement already satisfied: googlemaps in /usr/local/lib/python3.7/dist-packages (4.4.7)\n",
            "Requirement already satisfied: requests<3.0,>=2.20.0 in /usr/local/lib/python3.7/dist-packages (from googlemaps) (2.23.0)\n",
            "Requirement already satisfied: chardet<4,>=3.0.2 in /usr/local/lib/python3.7/dist-packages (from requests<3.0,>=2.20.0->googlemaps) (3.0.4)\n",
            "Requirement already satisfied: urllib3!=1.25.0,!=1.25.1,<1.26,>=1.21.1 in /usr/local/lib/python3.7/dist-packages (from requests<3.0,>=2.20.0->googlemaps) (1.24.3)\n",
            "Requirement already satisfied: idna<3,>=2.5 in /usr/local/lib/python3.7/dist-packages (from requests<3.0,>=2.20.0->googlemaps) (2.10)\n",
            "Requirement already satisfied: certifi>=2017.4.17 in /usr/local/lib/python3.7/dist-packages (from requests<3.0,>=2.20.0->googlemaps) (2021.5.30)\n"
          ],
          "name": "stdout"
        }
      ]
    },
    {
      "cell_type": "code",
      "metadata": {
        "colab": {
          "base_uri": "https://localhost:8080/"
        },
        "id": "y94H0Q0Q4Klp",
        "outputId": "cab5a762-dfc3-48d5-f797-2f015851ec51"
      },
      "source": [
        "!pip install h3"
      ],
      "execution_count": null,
      "outputs": [
        {
          "output_type": "stream",
          "text": [
            "Requirement already satisfied: h3 in /usr/local/lib/python3.7/dist-packages (3.7.3)\n"
          ],
          "name": "stdout"
        }
      ]
    },
    {
      "cell_type": "code",
      "metadata": {
        "colab": {
          "base_uri": "https://localhost:8080/"
        },
        "id": "B7kwRUMFOnMo",
        "outputId": "ed379726-8f7b-4404-98a2-d44967247368"
      },
      "source": [
        "!pip install geojson"
      ],
      "execution_count": null,
      "outputs": [
        {
          "output_type": "stream",
          "text": [
            "Requirement already satisfied: geojson in /usr/local/lib/python3.7/dist-packages (2.5.0)\n"
          ],
          "name": "stdout"
        }
      ]
    },
    {
      "cell_type": "code",
      "metadata": {
        "id": "xlL_vbtzBh9Z",
        "colab": {
          "base_uri": "https://localhost:8080/"
        },
        "outputId": "2459005a-243e-41da-d379-671617d2ef73"
      },
      "source": [
        "#importando as bibliotecas\n",
        "import pandas as pd\n",
        "import numpy as np\n",
        "from datetime import datetime, timedelta\n",
        "import math\n",
        "\n",
        "import folium\n",
        "from folium import plugins\n",
        "import matplotlib.pyplot as plt\n",
        "import matplotlib.patches as mpatches\n",
        "import seaborn as sns\n",
        "from folium import Map, Marker, GeoJson\n",
        "\n",
        "\n",
        "%matplotlib inline\n",
        "\n",
        "%load_ext autotime\n",
        "\n",
        "import geopandas as gpd\n",
        "import geopy\n",
        "from geopy.geocoders import Nominatim\n",
        "from geopy.extra.rate_limiter import RateLimiter\n",
        "\n",
        "import plotly_express as px\n",
        "import tqdm\n",
        "from tqdm import tqdm\n",
        "from tqdm._tqdm_notebook import tqdm_notebook\n",
        "\n"
      ],
      "execution_count": null,
      "outputs": [
        {
          "output_type": "stream",
          "text": [
            "time: 903 ms (started: 2021-07-20 00:42:15 +00:00)\n"
          ],
          "name": "stdout"
        }
      ]
    },
    {
      "cell_type": "code",
      "metadata": {
        "colab": {
          "base_uri": "https://localhost:8080/"
        },
        "id": "_OKTTl1p4FOv",
        "outputId": "6c823504-80ea-4fcb-9cea-927f63dfdece"
      },
      "source": [
        "from h3 import h3\n",
        "\n",
        "def visualize_hexagons(hexagons, color=\"red\", folium_map=None):\n",
        "    \"\"\"\n",
        "    hexagons is a list of hexcluster. Each hexcluster is a list of hexagons. \n",
        "    eg. [[hex1, hex2], [hex3, hex4]]\n",
        "    \"\"\"\n",
        "    polylines = []\n",
        "    lat = []\n",
        "    lng = []\n",
        "    for hex in hexagons:\n",
        "        polygons = h3.h3_set_to_multi_polygon([hex], geo_json=False)\n",
        "        # flatten polygons into loops.\n",
        "        outlines = [loop for polygon in polygons for loop in polygon]\n",
        "        polyline = [outline + [outline[0]] for outline in outlines][0]\n",
        "        lat.extend(map(lambda v:v[0],polyline))\n",
        "        lng.extend(map(lambda v:v[1],polyline))\n",
        "        polylines.append(polyline)\n",
        "    \n",
        "    if folium_map is None:\n",
        "        m = folium.Map(location=[sum(lat)/len(lat), sum(lng)/len(lng)], zoom_start=13, tiles='cartodbpositron')\n",
        "    else:\n",
        "        m = folium_map\n",
        "    for polyline in polylines:\n",
        "        my_PolyLine=folium.PolyLine(locations=polyline,weight=8,color=color)\n",
        "        m.add_child(my_PolyLine)\n",
        "    return m\n",
        "    \n",
        "\n",
        "def visualize_polygon(polyline, color):\n",
        "    polyline.append(polyline[0])\n",
        "    lat = [p[0] for p in polyline]\n",
        "    lng = [p[1] for p in polyline]\n",
        "    m = folium.Map(location=[sum(lat)/len(lat), sum(lng)/len(lng)], zoom_start=13, tiles='cartodbpositron')\n",
        "    my_PolyLine=folium.PolyLine(locations=polyline,weight=8,color=color)\n",
        "    m.add_child(my_PolyLine)\n",
        "    return m\n",
        "\n",
        "import googlemaps"
      ],
      "execution_count": null,
      "outputs": [
        {
          "output_type": "stream",
          "text": [
            "time: 46.7 ms (started: 2021-07-20 00:42:15 +00:00)\n"
          ],
          "name": "stdout"
        }
      ]
    },
    {
      "cell_type": "code",
      "metadata": {
        "colab": {
          "base_uri": "https://localhost:8080/"
        },
        "id": "idAdDS_6Jcfz",
        "outputId": "4587d1d8-58d6-4e6e-ff5d-4fe5aa8edec2"
      },
      "source": [
        "def counts_by_hexagon(df, resolution):\n",
        "    \"\"\"\n",
        "    Use h3.geo_to_h3 to index each data point into the spatial index of the specified resolution.\n",
        "    Use h3.h3_to_geo_boundary to obtain the geometries of these hexagons\n",
        "    \n",
        "    Ex counts_by_hexagon(data, 9)\n",
        "    \"\"\"\n",
        "    df = df.iloc[:,[1,2]]\n",
        "    \n",
        "    df[\"hex_id\"] = df.apply(lambda row: h3.geo_to_h3(row.lat, row.lng, resolution), axis = 1)\n",
        "    \n",
        "    df_aggreg = df.groupby(by = \"hex_id\").size().reset_index()\n",
        "    df_aggreg.columns = [\"hex_id\", \"value\"]\n",
        "    \n",
        "    df_aggreg[\"geometry\"] =  df_aggreg.hex_id.apply(lambda x: \n",
        "                                                           {    \"type\" : \"Polygon\",\n",
        "                                                                 \"coordinates\": \n",
        "                                                                [h3.h3_to_geo_boundary(x ,geo_json=True)]\n",
        "                                                            }\n",
        "                                                        )\n",
        "    \n",
        "    return df_aggreg"
      ],
      "execution_count": null,
      "outputs": [
        {
          "output_type": "stream",
          "text": [
            "time: 11.2 ms (started: 2021-07-20 00:42:15 +00:00)\n"
          ],
          "name": "stdout"
        }
      ]
    },
    {
      "cell_type": "code",
      "metadata": {
        "colab": {
          "base_uri": "https://localhost:8080/"
        },
        "id": "3s99vU1GKpGo",
        "outputId": "0ec6fa77-2839-41a4-b91d-c5b64e06bbe1"
      },
      "source": [
        "import geojson\n",
        "import json\n",
        "from geojson.feature import *\n",
        "\n",
        "\n",
        "def hexagons_dataframe_to_geojson(df_hex, file_output = None):\n",
        "    \"\"\"\n",
        "    Produce the GeoJSON for a dataframe that has a geometry column in geojson \n",
        "    format already, along with the columns hex_id and value\n",
        "    \n",
        "    Ex counts_by_hexagon(data)\n",
        "    \"\"\"    \n",
        "    list_features = []\n",
        "    \n",
        "    for i,row in df_hex.iterrows():\n",
        "        feature = Feature(geometry = row[\"geometry\"] , id=row[\"hex_id\"], properties = {\"value\" : row[\"value\"]})\n",
        "        list_features.append(feature)\n",
        "        \n",
        "    feat_collection = FeatureCollection(list_features)\n",
        "    \n",
        "    geojson_result = json.dumps(feat_collection)\n",
        "    \n",
        "    #optionally write to file\n",
        "    if file_output is not None:\n",
        "        with open(file_output,\"w\") as f:\n",
        "            json.dump(feat_collection,f)\n",
        "    \n",
        "    return geojson_result\n"
      ],
      "execution_count": null,
      "outputs": [
        {
          "output_type": "stream",
          "text": [
            "time: 19.1 ms (started: 2021-07-20 00:42:15 +00:00)\n"
          ],
          "name": "stdout"
        }
      ]
    },
    {
      "cell_type": "code",
      "metadata": {
        "colab": {
          "base_uri": "https://localhost:8080/"
        },
        "id": "t4f9iPxoK6wx",
        "outputId": "b41d20d6-866b-4cfc-e3d2-19bbc87f1a84"
      },
      "source": [
        "import branca.colormap as cm\n",
        "\n",
        "\n",
        "def choropleth_map(df_aggreg, border_color = 'black', fill_opacity = 0.7, initial_map = None, with_legend = False,\n",
        "                   kind = \"linear\"):\n",
        "    \n",
        "    \"\"\"\n",
        "    Creates choropleth maps given the aggregated data.\n",
        "    \"\"\"    \n",
        "    #colormap\n",
        "    min_value = df_aggreg[\"value\"].min()\n",
        "    max_value = df_aggreg[\"value\"].max()\n",
        "    m = round ((min_value + max_value ) / 2 , 0)\n",
        "    \n",
        "    #take resolution from the first row\n",
        "    res = h3.h3_get_resolution(df_aggreg.loc[0,'hex_id'])\n",
        "    \n",
        "    if initial_map is None:\n",
        "        initial_map = Map(location= [-23.6835,-46.7674], zoom_start=12, tiles=\"cartodbpositron\", \n",
        "                attr= '© <a href=\"http://www.openstreetmap.org/copyright\">OpenStreetMap</a> contributors © <a href=\"http://cartodb.com/attributions#basemaps\">CartoDB</a>')\n",
        "        \n",
        "\n",
        "    #the colormap \n",
        "    #color names accepted https://github.com/python-visualization/branca/blob/master/branca/_cnames.json\n",
        "    if kind == \"linear\":\n",
        "        custom_cm = cm.LinearColormap(['green','yellow','red'], vmin=min_value, vmax=max_value)\n",
        "    elif kind == \"outlier\":\n",
        "        #for outliers, values would be -11,0,1\n",
        "        custom_cm = cm.LinearColormap(['blue','white','red'], vmin=min_value, vmax=max_value)\n",
        "    elif kind == \"filled_nulls\":\n",
        "        custom_cm = cm.LinearColormap(['sienna','green','yellow','red'], \n",
        "                                      index=[0,min_value,m,max_value],vmin=min_value,vmax=max_value)\n",
        "   \n",
        "\n",
        "    #create geojson data from dataframe\n",
        "    geojson_data = hexagons_dataframe_to_geojson(df_hex = df_aggreg)\n",
        "    \n",
        "    #plot on map\n",
        "    name_layer = \"Choropleth \" + str(res)\n",
        "    if kind != \"linear\":\n",
        "        name_layer = name_layer + kind\n",
        "        \n",
        "    GeoJson(\n",
        "        geojson_data,\n",
        "        style_function=lambda feature: {\n",
        "            'fillColor': custom_cm(feature['properties']['value']),\n",
        "            'color': border_color,\n",
        "            'weight': 1,\n",
        "            'fillOpacity': fill_opacity \n",
        "        }, \n",
        "        name = name_layer\n",
        "    ).add_to(initial_map)\n",
        "\n",
        "\n",
        "    #add legend (not recommended if multiple layers)\n",
        "    if with_legend == True:\n",
        "        custom_cm.add_to(initial_map)\n",
        "    \n",
        "    \n",
        "    \n",
        "    return initial_map"
      ],
      "execution_count": null,
      "outputs": [
        {
          "output_type": "stream",
          "text": [
            "time: 40.4 ms (started: 2021-07-20 01:11:31 +00:00)\n"
          ],
          "name": "stdout"
        }
      ]
    },
    {
      "cell_type": "code",
      "metadata": {
        "colab": {
          "base_uri": "https://localhost:8080/"
        },
        "id": "qHXCgYmj-3Y6",
        "outputId": "97c54e91-2959-4cd4-e885-7deccaf46870"
      },
      "source": [
        "H3_res = 5\n",
        "def geo_to_h3(row):\n",
        "  return h3.geo_to_h3(lat=row.lat,lng=row.lng,resolution = H3_res)"
      ],
      "execution_count": null,
      "outputs": [
        {
          "output_type": "stream",
          "text": [
            "time: 1.42 ms (started: 2021-07-20 01:10:16 +00:00)\n"
          ],
          "name": "stdout"
        }
      ]
    },
    {
      "cell_type": "code",
      "metadata": {
        "id": "O9MxYSNv_eML",
        "colab": {
          "base_uri": "https://localhost:8080/"
        },
        "outputId": "e47bd152-68fe-49c1-88e9-85b9519ed3eb"
      },
      "source": [
        "locator = Nominatim(user_agent=\"myGeocoder\", timeout=10)\n",
        "rgeocode = RateLimiter(locator.reverse, min_delay_seconds=0.001)\n",
        "rgeocode"
      ],
      "execution_count": null,
      "outputs": [
        {
          "output_type": "execute_result",
          "data": {
            "text/plain": [
              "<geopy.extra.rate_limiter.RateLimiter at 0x7f9cd5359910>"
            ]
          },
          "metadata": {
            "tags": []
          },
          "execution_count": 55
        },
        {
          "output_type": "stream",
          "text": [
            "time: 8.57 ms (started: 2021-07-20 01:10:18 +00:00)\n"
          ],
          "name": "stdout"
        }
      ]
    },
    {
      "cell_type": "code",
      "metadata": {
        "colab": {
          "base_uri": "https://localhost:8080/"
        },
        "id": "wbOh9I3GbRlP",
        "outputId": "2a7a7c07-e916-495f-e859-f195b3320df3"
      },
      "source": [
        "def get_map_dest(df):\n",
        "  df_dest = df[['NUM_BO', 'LONGITUDE', 'LATITUDE']].rename(columns = {'LONGITUDE': 'lng', 'LATITUDE': 'lat'}, inplace = False)\n",
        "  df_dest['h3_cell'] = df_dest.apply(geo_to_h3,axis=1)\n",
        "  df_h3_matrix = df_dest[['NUM_BO','h3_cell']]\n",
        "  df_h3 = (df_h3_matrix\n",
        "                          .groupby('h3_cell')\n",
        "                          .NUM_BO\n",
        "                          .agg(list)\n",
        "                          .to_frame(\"ids\")\n",
        "                          .reset_index())\n",
        "  df_h3['count'] =(df_h3['ids']\n",
        "                      .apply(lambda NUM_BO:len(NUM_BO)))\n",
        "  # Counts how many points are within the hex\n",
        "  df_dest_aggreg = counts_by_hexagon(df = df_dest, resolution = 9)\n",
        "  df_dest_aggreg.sort_values(by = \"value\", ascending = False, inplace = True)\n",
        "  # Creates a map using Folium\n",
        "  hexmap = choropleth_map(df_aggreg = df_dest_aggreg, with_legend = True)\n",
        "\n",
        "  df_dest_aggreg_9 = counts_by_hexagon(df = df_dest, resolution = 9)\n",
        "  df_dest_aggreg_8 = counts_by_hexagon(df = df_dest, resolution = 8)\n",
        "  df_dest_aggreg_7 = counts_by_hexagon(df = df_dest, resolution = 7)\n",
        "  df_dest_aggreg_6 = counts_by_hexagon(df = df_dest, resolution =6)\n",
        "  df_dest_aggreg_5 = counts_by_hexagon(df = df_dest, resolution =5)\n",
        "\n",
        "  hexmap9_dest = choropleth_map(df_aggreg = df_dest_aggreg_9,with_legend = False)\n",
        "  hexmap8_dest = choropleth_map(df_aggreg = df_dest_aggreg_8, initial_map = hexmap9_dest, with_legend = True)\n",
        "  hexmap7_dest = choropleth_map(df_aggreg = df_dest_aggreg_7, initial_map = hexmap8_dest , with_legend = False)\n",
        "  hexmap6_dest = choropleth_map(df_aggreg = df_dest_aggreg_6, initial_map = hexmap7_dest, with_legend = False)\n",
        "  hexmap5_dest = choropleth_map(df_aggreg = df_dest_aggreg_5, initial_map = hexmap6_dest, with_legend = False)\n",
        "\n",
        "\n",
        "  folium.map.LayerControl('bottomright', collapsed=False).add_to(hexmap6_dest)\n",
        "  return hexmap9_dest "
      ],
      "execution_count": null,
      "outputs": [
        {
          "output_type": "stream",
          "text": [
            "time: 27.8 ms (started: 2021-07-20 01:53:37 +00:00)\n"
          ],
          "name": "stdout"
        }
      ]
    },
    {
      "cell_type": "markdown",
      "metadata": {
        "id": "vmPUudi04A9z"
      },
      "source": [
        "# Aplicação"
      ]
    },
    {
      "cell_type": "code",
      "metadata": {
        "id": "G6MZHrOQBwKg",
        "colab": {
          "base_uri": "https://localhost:8080/",
          "height": 935
        },
        "outputId": "d1f971c2-aace-482c-fb7c-b8e5549fc78b"
      },
      "source": [
        "df = pd.read_csv('/content/crimes (1).csv', encoding = \"ISO-8859-1\")\n",
        "df\n",
        "\n"
      ],
      "execution_count": null,
      "outputs": [
        {
          "output_type": "execute_result",
          "data": {
            "text/html": [
              "<div>\n",
              "<style scoped>\n",
              "    .dataframe tbody tr th:only-of-type {\n",
              "        vertical-align: middle;\n",
              "    }\n",
              "\n",
              "    .dataframe tbody tr th {\n",
              "        vertical-align: top;\n",
              "    }\n",
              "\n",
              "    .dataframe thead th {\n",
              "        text-align: right;\n",
              "    }\n",
              "</style>\n",
              "<table border=\"1\" class=\"dataframe\">\n",
              "  <thead>\n",
              "    <tr style=\"text-align: right;\">\n",
              "      <th></th>\n",
              "      <th>Unnamed: 0</th>\n",
              "      <th>ANO_BO</th>\n",
              "      <th>NUM_BO</th>\n",
              "      <th>NUMERO_BOLETIM</th>\n",
              "      <th>BO_INICIADO</th>\n",
              "      <th>BO_EMITIDO</th>\n",
              "      <th>DATAOCORRENCIA</th>\n",
              "      <th>HORAOCORRENCIA</th>\n",
              "      <th>PERIDOOCORRENCIA</th>\n",
              "      <th>DATACOMUNICACAO</th>\n",
              "      <th>DATAELABORACAO</th>\n",
              "      <th>BO_AUTORIA</th>\n",
              "      <th>FLAGRANTE</th>\n",
              "      <th>NUMERO_BOLETIM_PRINCIPAL</th>\n",
              "      <th>LOGRADOURO</th>\n",
              "      <th>NUMERO</th>\n",
              "      <th>BAIRRO</th>\n",
              "      <th>CIDADE</th>\n",
              "      <th>UF</th>\n",
              "      <th>LATITUDE</th>\n",
              "      <th>LONGITUDE</th>\n",
              "      <th>DESCRICAOLOCAL</th>\n",
              "      <th>EXAME</th>\n",
              "      <th>SOLUCAO</th>\n",
              "      <th>DELEGACIA_NOME</th>\n",
              "      <th>DELEGACIA_CIRCUNSCRICAO</th>\n",
              "      <th>ESPECIE</th>\n",
              "      <th>RUBRICA</th>\n",
              "      <th>DESDOBRAMENTO</th>\n",
              "      <th>STATUS</th>\n",
              "      <th>TIPOPESSOA</th>\n",
              "      <th>VITIMAFATAL</th>\n",
              "      <th>NATURALIDADE</th>\n",
              "      <th>NACIONALIDADE</th>\n",
              "      <th>SEXO</th>\n",
              "      <th>DATANASCIMENTO</th>\n",
              "      <th>IDADE</th>\n",
              "      <th>ESTADOCIVIL</th>\n",
              "      <th>PROFISSAO</th>\n",
              "      <th>GRAUINSTRUCAO</th>\n",
              "      <th>CORCUTIS</th>\n",
              "      <th>NATUREZAVINCULADA</th>\n",
              "      <th>TIPOVINCULO</th>\n",
              "      <th>RELACIONAMENTO</th>\n",
              "      <th>PARENTESCO</th>\n",
              "      <th>PLACA_VEICULO</th>\n",
              "      <th>UF_VEICULO</th>\n",
              "      <th>CIDADE_VEICULO</th>\n",
              "      <th>DESCR_COR_VEICULO</th>\n",
              "      <th>DESCR_MARCA_VEICULO</th>\n",
              "      <th>ANO_FABRICACAO</th>\n",
              "      <th>ANO_MODELO</th>\n",
              "      <th>DESCR_TIPO_VEICULO</th>\n",
              "      <th>QUANT_CELULAR</th>\n",
              "      <th>MARCA_CELULAR</th>\n",
              "    </tr>\n",
              "  </thead>\n",
              "  <tbody>\n",
              "    <tr>\n",
              "      <th>0</th>\n",
              "      <td>0</td>\n",
              "      <td>2018</td>\n",
              "      <td>8741</td>\n",
              "      <td>8741/2018</td>\n",
              "      <td>31/12/2018 23:50:15</td>\n",
              "      <td>01/01/2019 00:06:43</td>\n",
              "      <td>31/12/2018</td>\n",
              "      <td>23:30</td>\n",
              "      <td>A NOITE</td>\n",
              "      <td>31/12/2018</td>\n",
              "      <td>31/12/2018 23:50:15</td>\n",
              "      <td>Desconhecida</td>\n",
              "      <td>NÃ£o</td>\n",
              "      <td>NaN</td>\n",
              "      <td>AVENIDA MARECHAL TITO</td>\n",
              "      <td>3000.0</td>\n",
              "      <td>VILA CURUCA</td>\n",
              "      <td>S.PAULO</td>\n",
              "      <td>SP</td>\n",
              "      <td>-23.493959</td>\n",
              "      <td>-46.417180</td>\n",
              "      <td>Via pÃºblica</td>\n",
              "      <td>NaN</td>\n",
              "      <td>BO PARA REGISTRO</td>\n",
              "      <td>04Âº D.P. GUARULHOS</td>\n",
              "      <td>59Âº D.P. JARDIM DOS IPES</td>\n",
              "      <td>TÃ­tulo II - PatrimÃ´nio (arts. 155 a 183)</td>\n",
              "      <td>Roubo (art. 157) - VEICULO</td>\n",
              "      <td>NaN</td>\n",
              "      <td>Consumado</td>\n",
              "      <td>NaN</td>\n",
              "      <td>NaN</td>\n",
              "      <td>NaN</td>\n",
              "      <td>NaN</td>\n",
              "      <td>NaN</td>\n",
              "      <td>NaN</td>\n",
              "      <td>NaN</td>\n",
              "      <td>NaN</td>\n",
              "      <td>NaN</td>\n",
              "      <td>NaN</td>\n",
              "      <td>NaN</td>\n",
              "      <td>NaN</td>\n",
              "      <td>NaN</td>\n",
              "      <td>NaN</td>\n",
              "      <td>NaN</td>\n",
              "      <td>FJT8505</td>\n",
              "      <td>SP</td>\n",
              "      <td>SAO PAULO</td>\n",
              "      <td>Preta</td>\n",
              "      <td>CHEVROLET/ONIX 1.0MT LT</td>\n",
              "      <td>2013.0</td>\n",
              "      <td>2013.0</td>\n",
              "      <td>AUTOMOVEL</td>\n",
              "      <td>1.0</td>\n",
              "      <td>Samsung</td>\n",
              "    </tr>\n",
              "    <tr>\n",
              "      <th>1</th>\n",
              "      <td>1</td>\n",
              "      <td>2018</td>\n",
              "      <td>5767</td>\n",
              "      <td>5767/2018</td>\n",
              "      <td>31/12/2018 23:52:58</td>\n",
              "      <td>01/01/2019 00:18:30</td>\n",
              "      <td>31/12/2018</td>\n",
              "      <td>23:20</td>\n",
              "      <td>A NOITE</td>\n",
              "      <td>31/12/2018</td>\n",
              "      <td>31/12/2018 23:52:58</td>\n",
              "      <td>Desconhecida</td>\n",
              "      <td>NÃ£o</td>\n",
              "      <td>NaN</td>\n",
              "      <td>RUA HIPOLITO DE CAMARGO</td>\n",
              "      <td>100.0</td>\n",
              "      <td>GUAIANASES</td>\n",
              "      <td>S.PAULO</td>\n",
              "      <td>SP</td>\n",
              "      <td>-23.543206</td>\n",
              "      <td>-46.415893</td>\n",
              "      <td>Via pÃºblica</td>\n",
              "      <td>NaN</td>\n",
              "      <td>BO PARA INVESTIGAÃÃO</td>\n",
              "      <td>44Âº D.P. GUAIANAZES</td>\n",
              "      <td>44Âº D.P. GUAIANAZES</td>\n",
              "      <td>TÃ­tulo II - PatrimÃ´nio (arts. 155 a 183)</td>\n",
              "      <td>Roubo (art. 157) - VEICULO</td>\n",
              "      <td>NaN</td>\n",
              "      <td>Consumado</td>\n",
              "      <td>NaN</td>\n",
              "      <td>NaN</td>\n",
              "      <td>NaN</td>\n",
              "      <td>NaN</td>\n",
              "      <td>NaN</td>\n",
              "      <td>NaN</td>\n",
              "      <td>NaN</td>\n",
              "      <td>NaN</td>\n",
              "      <td>NaN</td>\n",
              "      <td>NaN</td>\n",
              "      <td>NaN</td>\n",
              "      <td>NaN</td>\n",
              "      <td>NaN</td>\n",
              "      <td>NaN</td>\n",
              "      <td>NaN</td>\n",
              "      <td>FOX4452</td>\n",
              "      <td>SP</td>\n",
              "      <td>SAO PAULO</td>\n",
              "      <td>Vermelho</td>\n",
              "      <td>VW/FOX 1.0</td>\n",
              "      <td>2007.0</td>\n",
              "      <td>2008.0</td>\n",
              "      <td>AUTOMOVEL</td>\n",
              "      <td>1.0</td>\n",
              "      <td>Motorola</td>\n",
              "    </tr>\n",
              "    <tr>\n",
              "      <th>2</th>\n",
              "      <td>2</td>\n",
              "      <td>2018</td>\n",
              "      <td>4244</td>\n",
              "      <td>4244/2018</td>\n",
              "      <td>31/12/2018 23:57:19</td>\n",
              "      <td>01/01/2019 00:24:54</td>\n",
              "      <td>31/12/2018</td>\n",
              "      <td>NaN</td>\n",
              "      <td>A NOITE</td>\n",
              "      <td>31/12/2018</td>\n",
              "      <td>31/12/2018 23:57:19</td>\n",
              "      <td>Desconhecida</td>\n",
              "      <td>NÃ£o</td>\n",
              "      <td>NaN</td>\n",
              "      <td>AVENIDA JOSE PINHEIRO BORGES</td>\n",
              "      <td>2700.0</td>\n",
              "      <td>ITAQUERA</td>\n",
              "      <td>S.PAULO</td>\n",
              "      <td>SP</td>\n",
              "      <td>-23.526569</td>\n",
              "      <td>-46.432396</td>\n",
              "      <td>Via pÃºblica</td>\n",
              "      <td>NaN</td>\n",
              "      <td>ENCAMINHAMENTO DP ÃREA DO FATO</td>\n",
              "      <td>103Âº D.P. COHABII/ITAQU.</td>\n",
              "      <td>68Âº D.P. LAGEADO</td>\n",
              "      <td>TÃ­tulo II - PatrimÃ´nio (arts. 155 a 183)</td>\n",
              "      <td>Roubo (art. 157) - VEICULO</td>\n",
              "      <td>NaN</td>\n",
              "      <td>Consumado</td>\n",
              "      <td>NaN</td>\n",
              "      <td>NaN</td>\n",
              "      <td>NaN</td>\n",
              "      <td>NaN</td>\n",
              "      <td>NaN</td>\n",
              "      <td>NaN</td>\n",
              "      <td>NaN</td>\n",
              "      <td>NaN</td>\n",
              "      <td>NaN</td>\n",
              "      <td>NaN</td>\n",
              "      <td>NaN</td>\n",
              "      <td>NaN</td>\n",
              "      <td>NaN</td>\n",
              "      <td>NaN</td>\n",
              "      <td>NaN</td>\n",
              "      <td>PUN2058</td>\n",
              "      <td>SP</td>\n",
              "      <td>SAO PAULO</td>\n",
              "      <td>Cinza</td>\n",
              "      <td>FIAT/UNO VIVACE 1.0</td>\n",
              "      <td>2014.0</td>\n",
              "      <td>2014.0</td>\n",
              "      <td>AUTOMOVEL</td>\n",
              "      <td>1.0</td>\n",
              "      <td>Xiaomi</td>\n",
              "    </tr>\n",
              "    <tr>\n",
              "      <th>3</th>\n",
              "      <td>3</td>\n",
              "      <td>2018</td>\n",
              "      <td>12901</td>\n",
              "      <td>12901/2018</td>\n",
              "      <td>31/12/2018 21:26:42</td>\n",
              "      <td>01/01/2019 00:26:44</td>\n",
              "      <td>31/12/2018</td>\n",
              "      <td>19:10</td>\n",
              "      <td>A NOITE</td>\n",
              "      <td>31/12/2018</td>\n",
              "      <td>31/12/2018 21:26:42</td>\n",
              "      <td>Conhecida</td>\n",
              "      <td>NÃ£o</td>\n",
              "      <td>NaN</td>\n",
              "      <td>RUA SÃO LAZARO DE JERUSALEM</td>\n",
              "      <td>10.0</td>\n",
              "      <td>LAJEADO</td>\n",
              "      <td>S.PAULO</td>\n",
              "      <td>SP</td>\n",
              "      <td>-23.521743</td>\n",
              "      <td>-46.418703</td>\n",
              "      <td>Via pÃºblica</td>\n",
              "      <td>IC</td>\n",
              "      <td>ENCAMINHAMENTO DP ÃREA DO FATO</td>\n",
              "      <td>50Âº D.P. ITAIM PAULISTA</td>\n",
              "      <td>67Âº D.P. JARDIM ROBRU</td>\n",
              "      <td>LocalizaÃ§Ã£o e/ou DevoluÃ§Ã£o</td>\n",
              "      <td>LocalizaÃ§Ã£o/ApreensÃ£o e Entrega de veÃ­culo</td>\n",
              "      <td>NaN</td>\n",
              "      <td>Consumado</td>\n",
              "      <td>NaN</td>\n",
              "      <td>NaN</td>\n",
              "      <td>NaN</td>\n",
              "      <td>NaN</td>\n",
              "      <td>NaN</td>\n",
              "      <td>NaN</td>\n",
              "      <td>NaN</td>\n",
              "      <td>NaN</td>\n",
              "      <td>NaN</td>\n",
              "      <td>NaN</td>\n",
              "      <td>NaN</td>\n",
              "      <td>NaN</td>\n",
              "      <td>NaN</td>\n",
              "      <td>NaN</td>\n",
              "      <td>NaN</td>\n",
              "      <td>NaN</td>\n",
              "      <td>NaN</td>\n",
              "      <td>NaN</td>\n",
              "      <td>NaN</td>\n",
              "      <td>NaN</td>\n",
              "      <td>0.0</td>\n",
              "      <td>0.0</td>\n",
              "      <td>NaN</td>\n",
              "      <td>1.0</td>\n",
              "      <td>LG</td>\n",
              "    </tr>\n",
              "    <tr>\n",
              "      <th>4</th>\n",
              "      <td>4</td>\n",
              "      <td>2018</td>\n",
              "      <td>12901</td>\n",
              "      <td>12901/2018</td>\n",
              "      <td>31/12/2018 21:26:42</td>\n",
              "      <td>01/01/2019 00:26:44</td>\n",
              "      <td>31/12/2018</td>\n",
              "      <td>19:10</td>\n",
              "      <td>A NOITE</td>\n",
              "      <td>31/12/2018</td>\n",
              "      <td>31/12/2018 21:26:42</td>\n",
              "      <td>Conhecida</td>\n",
              "      <td>NÃ£o</td>\n",
              "      <td>NaN</td>\n",
              "      <td>RUA SÃO LAZARO DE JERUSALEM</td>\n",
              "      <td>10.0</td>\n",
              "      <td>LAJEADO</td>\n",
              "      <td>S.PAULO</td>\n",
              "      <td>SP</td>\n",
              "      <td>-23.521743</td>\n",
              "      <td>-46.418703</td>\n",
              "      <td>Via pÃºblica</td>\n",
              "      <td>IC</td>\n",
              "      <td>ENCAMINHAMENTO DP ÃREA DO FATO</td>\n",
              "      <td>50Âº D.P. ITAIM PAULISTA</td>\n",
              "      <td>67Âº D.P. JARDIM ROBRU</td>\n",
              "      <td>LocalizaÃ§Ã£o e/ou DevoluÃ§Ã£o</td>\n",
              "      <td>LocalizaÃ§Ã£o/ApreensÃ£o e Entrega de veÃ­culo</td>\n",
              "      <td>NaN</td>\n",
              "      <td>Consumado</td>\n",
              "      <td>NaN</td>\n",
              "      <td>NaN</td>\n",
              "      <td>NaN</td>\n",
              "      <td>NaN</td>\n",
              "      <td>NaN</td>\n",
              "      <td>NaN</td>\n",
              "      <td>NaN</td>\n",
              "      <td>NaN</td>\n",
              "      <td>NaN</td>\n",
              "      <td>NaN</td>\n",
              "      <td>NaN</td>\n",
              "      <td>NaN</td>\n",
              "      <td>NaN</td>\n",
              "      <td>NaN</td>\n",
              "      <td>NaN</td>\n",
              "      <td>DUM3446</td>\n",
              "      <td>SP</td>\n",
              "      <td>SAO PAULO</td>\n",
              "      <td>Cinza</td>\n",
              "      <td>GM/CORSA HATCH MAXX</td>\n",
              "      <td>2007.0</td>\n",
              "      <td>2007.0</td>\n",
              "      <td>AUTOMOVEL</td>\n",
              "      <td>1.0</td>\n",
              "      <td>LG</td>\n",
              "    </tr>\n",
              "    <tr>\n",
              "      <th>...</th>\n",
              "      <td>...</td>\n",
              "      <td>...</td>\n",
              "      <td>...</td>\n",
              "      <td>...</td>\n",
              "      <td>...</td>\n",
              "      <td>...</td>\n",
              "      <td>...</td>\n",
              "      <td>...</td>\n",
              "      <td>...</td>\n",
              "      <td>...</td>\n",
              "      <td>...</td>\n",
              "      <td>...</td>\n",
              "      <td>...</td>\n",
              "      <td>...</td>\n",
              "      <td>...</td>\n",
              "      <td>...</td>\n",
              "      <td>...</td>\n",
              "      <td>...</td>\n",
              "      <td>...</td>\n",
              "      <td>...</td>\n",
              "      <td>...</td>\n",
              "      <td>...</td>\n",
              "      <td>...</td>\n",
              "      <td>...</td>\n",
              "      <td>...</td>\n",
              "      <td>...</td>\n",
              "      <td>...</td>\n",
              "      <td>...</td>\n",
              "      <td>...</td>\n",
              "      <td>...</td>\n",
              "      <td>...</td>\n",
              "      <td>...</td>\n",
              "      <td>...</td>\n",
              "      <td>...</td>\n",
              "      <td>...</td>\n",
              "      <td>...</td>\n",
              "      <td>...</td>\n",
              "      <td>...</td>\n",
              "      <td>...</td>\n",
              "      <td>...</td>\n",
              "      <td>...</td>\n",
              "      <td>...</td>\n",
              "      <td>...</td>\n",
              "      <td>...</td>\n",
              "      <td>...</td>\n",
              "      <td>...</td>\n",
              "      <td>...</td>\n",
              "      <td>...</td>\n",
              "      <td>...</td>\n",
              "      <td>...</td>\n",
              "      <td>...</td>\n",
              "      <td>...</td>\n",
              "      <td>...</td>\n",
              "      <td>...</td>\n",
              "      <td>...</td>\n",
              "    </tr>\n",
              "    <tr>\n",
              "      <th>74336</th>\n",
              "      <td>7796</td>\n",
              "      <td>2021</td>\n",
              "      <td>2284</td>\n",
              "      <td>2284/2021</td>\n",
              "      <td>30/04/2021 23:52:32</td>\n",
              "      <td>30/04/2021 23:52:32</td>\n",
              "      <td>30/04/2021</td>\n",
              "      <td>16:40</td>\n",
              "      <td>A TARDE</td>\n",
              "      <td>01/05/2021</td>\n",
              "      <td>30/04/2021 23:52:32</td>\n",
              "      <td>Conhecida</td>\n",
              "      <td>Sim</td>\n",
              "      <td>NaN</td>\n",
              "      <td>PARQUE DOM PEDRO II</td>\n",
              "      <td>1.0</td>\n",
              "      <td>SE</td>\n",
              "      <td>S.PAULO</td>\n",
              "      <td>SP</td>\n",
              "      <td>-23.545025</td>\n",
              "      <td>-46.631091</td>\n",
              "      <td>Via pÃºblica</td>\n",
              "      <td>NaN</td>\n",
              "      <td>BO PARA FLAGRANTE</td>\n",
              "      <td>08Âº D.P. BRAS</td>\n",
              "      <td>01Âº D.P. SE</td>\n",
              "      <td>TÃ­tulo II - PatrimÃ´nio (arts. 155 a 183)</td>\n",
              "      <td>Roubo (art. 157) - TRANSEUNTE</td>\n",
              "      <td>NaN</td>\n",
              "      <td>Consumado</td>\n",
              "      <td>NaN</td>\n",
              "      <td>NaN</td>\n",
              "      <td>NaN</td>\n",
              "      <td>NaN</td>\n",
              "      <td>NaN</td>\n",
              "      <td>NaN</td>\n",
              "      <td>NaN</td>\n",
              "      <td>NaN</td>\n",
              "      <td>NaN</td>\n",
              "      <td>NaN</td>\n",
              "      <td>NaN</td>\n",
              "      <td>NaN</td>\n",
              "      <td>NaN</td>\n",
              "      <td>NaN</td>\n",
              "      <td>NaN</td>\n",
              "      <td>NaN</td>\n",
              "      <td>NaN</td>\n",
              "      <td>NaN</td>\n",
              "      <td>NaN</td>\n",
              "      <td>NaN</td>\n",
              "      <td>0.0</td>\n",
              "      <td>0.0</td>\n",
              "      <td>NaN</td>\n",
              "      <td>1.0</td>\n",
              "      <td>Apple</td>\n",
              "    </tr>\n",
              "    <tr>\n",
              "      <th>74337</th>\n",
              "      <td>7797</td>\n",
              "      <td>2021</td>\n",
              "      <td>2284</td>\n",
              "      <td>2284/2021</td>\n",
              "      <td>30/04/2021 23:52:32</td>\n",
              "      <td>30/04/2021 23:52:32</td>\n",
              "      <td>30/04/2021</td>\n",
              "      <td>16:40</td>\n",
              "      <td>A TARDE</td>\n",
              "      <td>01/05/2021</td>\n",
              "      <td>30/04/2021 23:52:32</td>\n",
              "      <td>Conhecida</td>\n",
              "      <td>Sim</td>\n",
              "      <td>NaN</td>\n",
              "      <td>PARQUE DOM PEDRO II</td>\n",
              "      <td>1.0</td>\n",
              "      <td>SE</td>\n",
              "      <td>S.PAULO</td>\n",
              "      <td>SP</td>\n",
              "      <td>-23.545025</td>\n",
              "      <td>-46.631091</td>\n",
              "      <td>Via pÃºblica</td>\n",
              "      <td>NaN</td>\n",
              "      <td>BO PARA FLAGRANTE</td>\n",
              "      <td>08Âº D.P. BRAS</td>\n",
              "      <td>01Âº D.P. SE</td>\n",
              "      <td>TÃ­tulo II - PatrimÃ´nio (arts. 155 a 183)</td>\n",
              "      <td>Roubo (art. 157) - TRANSEUNTE</td>\n",
              "      <td>NaN</td>\n",
              "      <td>Consumado</td>\n",
              "      <td>NaN</td>\n",
              "      <td>NaN</td>\n",
              "      <td>NaN</td>\n",
              "      <td>NaN</td>\n",
              "      <td>NaN</td>\n",
              "      <td>NaN</td>\n",
              "      <td>NaN</td>\n",
              "      <td>NaN</td>\n",
              "      <td>NaN</td>\n",
              "      <td>NaN</td>\n",
              "      <td>NaN</td>\n",
              "      <td>NaN</td>\n",
              "      <td>NaN</td>\n",
              "      <td>NaN</td>\n",
              "      <td>NaN</td>\n",
              "      <td>NaN</td>\n",
              "      <td>NaN</td>\n",
              "      <td>NaN</td>\n",
              "      <td>NaN</td>\n",
              "      <td>NaN</td>\n",
              "      <td>0.0</td>\n",
              "      <td>0.0</td>\n",
              "      <td>NaN</td>\n",
              "      <td>1.0</td>\n",
              "      <td>Samsung</td>\n",
              "    </tr>\n",
              "    <tr>\n",
              "      <th>74338</th>\n",
              "      <td>7798</td>\n",
              "      <td>2021</td>\n",
              "      <td>758960</td>\n",
              "      <td>758960/2021</td>\n",
              "      <td>30/04/2021 23:53:00</td>\n",
              "      <td>30/04/2021 23:52:59</td>\n",
              "      <td>29/04/2021</td>\n",
              "      <td>17:30</td>\n",
              "      <td>A TARDE</td>\n",
              "      <td>30/04/2021</td>\n",
              "      <td>30/04/2021 23:53:00</td>\n",
              "      <td>Desconhecida</td>\n",
              "      <td>NÃ£o</td>\n",
              "      <td>NaN</td>\n",
              "      <td>RUA ACAFRAO DA TERRA</td>\n",
              "      <td>72.0</td>\n",
              "      <td>CAPAO REDONDO</td>\n",
              "      <td>S.PAULO</td>\n",
              "      <td>SP</td>\n",
              "      <td>-23.679724</td>\n",
              "      <td>-46.798140</td>\n",
              "      <td>Via PÃºblica</td>\n",
              "      <td>NaN</td>\n",
              "      <td>BO PARA REGISTRO</td>\n",
              "      <td>DELEGACIA ELETRONICA</td>\n",
              "      <td>47Âº D.P. CAPAO REDONDO</td>\n",
              "      <td>TÃ­tulo II - PatrimÃ´nio (arts. 155 a 183)</td>\n",
              "      <td>Roubo (art. 157) - OUTROS</td>\n",
              "      <td>NaN</td>\n",
              "      <td>Consumado</td>\n",
              "      <td>NaN</td>\n",
              "      <td>NaN</td>\n",
              "      <td>NaN</td>\n",
              "      <td>NaN</td>\n",
              "      <td>NaN</td>\n",
              "      <td>NaN</td>\n",
              "      <td>NaN</td>\n",
              "      <td>NaN</td>\n",
              "      <td>NaN</td>\n",
              "      <td>NaN</td>\n",
              "      <td>NaN</td>\n",
              "      <td>NaN</td>\n",
              "      <td>NaN</td>\n",
              "      <td>NaN</td>\n",
              "      <td>NaN</td>\n",
              "      <td>NaN</td>\n",
              "      <td>NaN</td>\n",
              "      <td>NaN</td>\n",
              "      <td>NaN</td>\n",
              "      <td>NaN</td>\n",
              "      <td>0.0</td>\n",
              "      <td>0.0</td>\n",
              "      <td>NaN</td>\n",
              "      <td>NaN</td>\n",
              "      <td>LG</td>\n",
              "    </tr>\n",
              "    <tr>\n",
              "      <th>74339</th>\n",
              "      <td>7799</td>\n",
              "      <td>2021</td>\n",
              "      <td>758950</td>\n",
              "      <td>758950/2021</td>\n",
              "      <td>30/04/2021 23:53:36</td>\n",
              "      <td>30/04/2021 23:53:04</td>\n",
              "      <td>30/04/2021</td>\n",
              "      <td>22:00</td>\n",
              "      <td>A NOITE</td>\n",
              "      <td>30/04/2021</td>\n",
              "      <td>30/04/2021 23:53:36</td>\n",
              "      <td>Desconhecida</td>\n",
              "      <td>NÃ£o</td>\n",
              "      <td>NaN</td>\n",
              "      <td>RUA PROFESSOR HAROLDO NOGUEIRA</td>\n",
              "      <td>2.0</td>\n",
              "      <td>JARDIM TANAY</td>\n",
              "      <td>S.PAULO</td>\n",
              "      <td>SP</td>\n",
              "      <td>-23.767439</td>\n",
              "      <td>-46.692445</td>\n",
              "      <td>Via PÃºblica</td>\n",
              "      <td>NaN</td>\n",
              "      <td>BO PARA REGISTRO</td>\n",
              "      <td>DELEGACIA ELETRONICA</td>\n",
              "      <td>85Âº D.P. JARDIM MIRNA</td>\n",
              "      <td>TÃ­tulo II - PatrimÃ´nio (arts. 155 a 183)</td>\n",
              "      <td>Roubo (art. 157) - OUTROS</td>\n",
              "      <td>NaN</td>\n",
              "      <td>Consumado</td>\n",
              "      <td>NaN</td>\n",
              "      <td>NaN</td>\n",
              "      <td>NaN</td>\n",
              "      <td>NaN</td>\n",
              "      <td>NaN</td>\n",
              "      <td>NaN</td>\n",
              "      <td>NaN</td>\n",
              "      <td>NaN</td>\n",
              "      <td>NaN</td>\n",
              "      <td>NaN</td>\n",
              "      <td>NaN</td>\n",
              "      <td>NaN</td>\n",
              "      <td>NaN</td>\n",
              "      <td>NaN</td>\n",
              "      <td>NaN</td>\n",
              "      <td>NaN</td>\n",
              "      <td>NaN</td>\n",
              "      <td>NaN</td>\n",
              "      <td>NaN</td>\n",
              "      <td>NaN</td>\n",
              "      <td>0.0</td>\n",
              "      <td>0.0</td>\n",
              "      <td>NaN</td>\n",
              "      <td>NaN</td>\n",
              "      <td>XIAOMI</td>\n",
              "    </tr>\n",
              "    <tr>\n",
              "      <th>74340</th>\n",
              "      <td>7800</td>\n",
              "      <td>2021</td>\n",
              "      <td>758980</td>\n",
              "      <td>758980/2021</td>\n",
              "      <td>30/04/2021 23:58:15</td>\n",
              "      <td>30/04/2021 23:57:15</td>\n",
              "      <td>30/04/2021</td>\n",
              "      <td>22:30</td>\n",
              "      <td>A NOITE</td>\n",
              "      <td>30/04/2021</td>\n",
              "      <td>30/04/2021 23:58:15</td>\n",
              "      <td>Desconhecida</td>\n",
              "      <td>NÃ£o</td>\n",
              "      <td>NaN</td>\n",
              "      <td>RUA PASTORAL</td>\n",
              "      <td>164.0</td>\n",
              "      <td>GRAJAU</td>\n",
              "      <td>S.PAULO</td>\n",
              "      <td>SP</td>\n",
              "      <td>-23.750446</td>\n",
              "      <td>-46.693886</td>\n",
              "      <td>Via PÃºblica</td>\n",
              "      <td>NaN</td>\n",
              "      <td>BO PARA REGISTRO</td>\n",
              "      <td>DELEGACIA ELETRONICA</td>\n",
              "      <td>85Âº D.P. JARDIM MIRNA</td>\n",
              "      <td>TÃ­tulo II - PatrimÃ´nio (arts. 155 a 183)</td>\n",
              "      <td>Roubo (art. 157) - OUTROS</td>\n",
              "      <td>NaN</td>\n",
              "      <td>Consumado</td>\n",
              "      <td>NaN</td>\n",
              "      <td>NaN</td>\n",
              "      <td>NaN</td>\n",
              "      <td>NaN</td>\n",
              "      <td>NaN</td>\n",
              "      <td>NaN</td>\n",
              "      <td>NaN</td>\n",
              "      <td>NaN</td>\n",
              "      <td>NaN</td>\n",
              "      <td>NaN</td>\n",
              "      <td>NaN</td>\n",
              "      <td>NaN</td>\n",
              "      <td>NaN</td>\n",
              "      <td>NaN</td>\n",
              "      <td>NaN</td>\n",
              "      <td>NaN</td>\n",
              "      <td>NaN</td>\n",
              "      <td>NaN</td>\n",
              "      <td>NaN</td>\n",
              "      <td>NaN</td>\n",
              "      <td>0.0</td>\n",
              "      <td>0.0</td>\n",
              "      <td>NaN</td>\n",
              "      <td>NaN</td>\n",
              "      <td>SAMSUNG</td>\n",
              "    </tr>\n",
              "  </tbody>\n",
              "</table>\n",
              "<p>74341 rows × 55 columns</p>\n",
              "</div>"
            ],
            "text/plain": [
              "       Unnamed: 0  ANO_BO  ...  QUANT_CELULAR MARCA_CELULAR\n",
              "0               0    2018  ...            1.0       Samsung\n",
              "1               1    2018  ...            1.0      Motorola\n",
              "2               2    2018  ...            1.0        Xiaomi\n",
              "3               3    2018  ...            1.0            LG\n",
              "4               4    2018  ...            1.0            LG\n",
              "...           ...     ...  ...            ...           ...\n",
              "74336        7796    2021  ...            1.0         Apple\n",
              "74337        7797    2021  ...            1.0       Samsung\n",
              "74338        7798    2021  ...            NaN            LG\n",
              "74339        7799    2021  ...            NaN        XIAOMI\n",
              "74340        7800    2021  ...            NaN       SAMSUNG\n",
              "\n",
              "[74341 rows x 55 columns]"
            ]
          },
          "metadata": {
            "tags": []
          },
          "execution_count": 77
        },
        {
          "output_type": "stream",
          "text": [
            "time: 1.04 s (started: 2021-07-20 01:42:38 +00:00)\n"
          ],
          "name": "stdout"
        }
      ]
    },
    {
      "cell_type": "code",
      "metadata": {
        "colab": {
          "base_uri": "https://localhost:8080/"
        },
        "id": "JMeMYpukXa5T",
        "outputId": "ade3a996-af20-4b3c-824f-f30c007d972e"
      },
      "source": [
        "df['ESPECIE'].value_counts()"
      ],
      "execution_count": null,
      "outputs": [
        {
          "output_type": "execute_result",
          "data": {
            "text/plain": [
              "TÃ­tulo II - PatrimÃ´nio (arts. 155 a 183)                   68442\n",
              "LocalizaÃ§Ã£o e/ou DevoluÃ§Ã£o                                3978\n",
              "Ato infracional                                                785\n",
              "TÃ­tulo I - Pessoa (arts. 121 a 154)                           269\n",
              "Outros - nÃ£o criminal                                         149\n",
              "L 8069/90 - ECA                                                123\n",
              "TÃ­tulo XI - AdministraÃ§Ã£o pÃºblica (arts. 312 a 359-H)      115\n",
              "Acidente de trÃ¢nsito                                          108\n",
              "TÃ­tulo IX - Paz pÃºblica (arts. 286 a 288)                     69\n",
              "Captura procurado                                               59\n",
              "L 10826/03 - Estatuto do Desarmamento                           58\n",
              "ApreensÃ£o de Adolescente                                       43\n",
              "L 9503/97 - CÃ³digo de TrÃ¢nsito Brasileiro                     39\n",
              "TÃ­tulo X - FÃ© pÃºblica (arts. 289 a 311)                      34\n",
              "Pessoa                                                          19\n",
              "Excludentes de Ilicitude - CPB                                  15\n",
              "L 12850/13 - DefiniÃ§Ã£o de OrganizaÃ§Ã£o Criminosa             15\n",
              "L 11340/06 ViolÃªncia DomÃ©stica                                10\n",
              "Perda/Extravio                                                   3\n",
              "L 12737/12 - Delitos de InformÃ¡tica                             2\n",
              "DL 3688/41 - ContravenÃ§Ãµes Penais                              2\n",
              "L 11343/06 - Entorpecentes                                       2\n",
              "TÃ­tulo VIII - Incolumidade pÃºblica (arts. 250 a 285)           1\n",
              "L 9455/97 - Tortura                                              1\n",
              "Name: ESPECIE, dtype: int64"
            ]
          },
          "metadata": {
            "tags": []
          },
          "execution_count": 84
        },
        {
          "output_type": "stream",
          "text": [
            "time: 18.6 ms (started: 2021-07-20 02:08:48 +00:00)\n"
          ],
          "name": "stdout"
        }
      ]
    },
    {
      "cell_type": "code",
      "metadata": {
        "colab": {
          "base_uri": "https://localhost:8080/",
          "height": 166
        },
        "id": "HOv20tFkqlDG",
        "outputId": "c4e5ea53-73b2-454b-dc05-1a53e8dc2744"
      },
      "source": [
        "df[df['RUBRICA'] == 'Tortura (Art. 1Âº)']"
      ],
      "execution_count": null,
      "outputs": [
        {
          "output_type": "execute_result",
          "data": {
            "text/html": [
              "<div>\n",
              "<style scoped>\n",
              "    .dataframe tbody tr th:only-of-type {\n",
              "        vertical-align: middle;\n",
              "    }\n",
              "\n",
              "    .dataframe tbody tr th {\n",
              "        vertical-align: top;\n",
              "    }\n",
              "\n",
              "    .dataframe thead th {\n",
              "        text-align: right;\n",
              "    }\n",
              "</style>\n",
              "<table border=\"1\" class=\"dataframe\">\n",
              "  <thead>\n",
              "    <tr style=\"text-align: right;\">\n",
              "      <th></th>\n",
              "      <th>Unnamed: 0</th>\n",
              "      <th>ANO_BO</th>\n",
              "      <th>NUM_BO</th>\n",
              "      <th>NUMERO_BOLETIM</th>\n",
              "      <th>BO_INICIADO</th>\n",
              "      <th>BO_EMITIDO</th>\n",
              "      <th>DATAOCORRENCIA</th>\n",
              "      <th>HORAOCORRENCIA</th>\n",
              "      <th>PERIDOOCORRENCIA</th>\n",
              "      <th>DATACOMUNICACAO</th>\n",
              "      <th>DATAELABORACAO</th>\n",
              "      <th>BO_AUTORIA</th>\n",
              "      <th>FLAGRANTE</th>\n",
              "      <th>NUMERO_BOLETIM_PRINCIPAL</th>\n",
              "      <th>LOGRADOURO</th>\n",
              "      <th>NUMERO</th>\n",
              "      <th>BAIRRO</th>\n",
              "      <th>CIDADE</th>\n",
              "      <th>UF</th>\n",
              "      <th>LATITUDE</th>\n",
              "      <th>LONGITUDE</th>\n",
              "      <th>DESCRICAOLOCAL</th>\n",
              "      <th>EXAME</th>\n",
              "      <th>SOLUCAO</th>\n",
              "      <th>DELEGACIA_NOME</th>\n",
              "      <th>DELEGACIA_CIRCUNSCRICAO</th>\n",
              "      <th>ESPECIE</th>\n",
              "      <th>RUBRICA</th>\n",
              "      <th>DESDOBRAMENTO</th>\n",
              "      <th>STATUS</th>\n",
              "      <th>TIPOPESSOA</th>\n",
              "      <th>VITIMAFATAL</th>\n",
              "      <th>NATURALIDADE</th>\n",
              "      <th>NACIONALIDADE</th>\n",
              "      <th>SEXO</th>\n",
              "      <th>DATANASCIMENTO</th>\n",
              "      <th>IDADE</th>\n",
              "      <th>ESTADOCIVIL</th>\n",
              "      <th>PROFISSAO</th>\n",
              "      <th>GRAUINSTRUCAO</th>\n",
              "      <th>CORCUTIS</th>\n",
              "      <th>NATUREZAVINCULADA</th>\n",
              "      <th>TIPOVINCULO</th>\n",
              "      <th>RELACIONAMENTO</th>\n",
              "      <th>PARENTESCO</th>\n",
              "      <th>PLACA_VEICULO</th>\n",
              "      <th>UF_VEICULO</th>\n",
              "      <th>CIDADE_VEICULO</th>\n",
              "      <th>DESCR_COR_VEICULO</th>\n",
              "      <th>DESCR_MARCA_VEICULO</th>\n",
              "      <th>ANO_FABRICACAO</th>\n",
              "      <th>ANO_MODELO</th>\n",
              "      <th>DESCR_TIPO_VEICULO</th>\n",
              "      <th>QUANT_CELULAR</th>\n",
              "      <th>MARCA_CELULAR</th>\n",
              "    </tr>\n",
              "  </thead>\n",
              "  <tbody>\n",
              "    <tr>\n",
              "      <th>28705</th>\n",
              "      <td>8675</td>\n",
              "      <td>2019</td>\n",
              "      <td>2240</td>\n",
              "      <td>2240/2019</td>\n",
              "      <td>21/03/2019 07:44:50</td>\n",
              "      <td>21/03/2019 18:17:16</td>\n",
              "      <td>21/03/2019</td>\n",
              "      <td>03:30</td>\n",
              "      <td>DE MADRUGADA</td>\n",
              "      <td>21/03/2019</td>\n",
              "      <td>21/03/2019 07:44:50</td>\n",
              "      <td>Conhecida</td>\n",
              "      <td>Sim</td>\n",
              "      <td>NaN</td>\n",
              "      <td>AVENIDA AIRTON PRETINI</td>\n",
              "      <td>1.0</td>\n",
              "      <td>TATUAPE</td>\n",
              "      <td>S.PAULO</td>\n",
              "      <td>SP</td>\n",
              "      <td>-23.523772</td>\n",
              "      <td>-46.557853</td>\n",
              "      <td>Via pÃºblica</td>\n",
              "      <td>NaN</td>\n",
              "      <td>BO PARA FLAGRANTE</td>\n",
              "      <td>10Âº D.P. PENHA DE FRANCA</td>\n",
              "      <td>10Âº D.P. PENHA DE FRANCA</td>\n",
              "      <td>L 9455/97 - Tortura</td>\n",
              "      <td>Tortura (Art. 1Âº)</td>\n",
              "      <td>NaN</td>\n",
              "      <td>Consumado</td>\n",
              "      <td>NaN</td>\n",
              "      <td>NaN</td>\n",
              "      <td>NaN</td>\n",
              "      <td>NaN</td>\n",
              "      <td>NaN</td>\n",
              "      <td>NaN</td>\n",
              "      <td>NaN</td>\n",
              "      <td>NaN</td>\n",
              "      <td>NaN</td>\n",
              "      <td>NaN</td>\n",
              "      <td>NaN</td>\n",
              "      <td>NaN</td>\n",
              "      <td>NaN</td>\n",
              "      <td>NaN</td>\n",
              "      <td>NaN</td>\n",
              "      <td>NaN</td>\n",
              "      <td>NaN</td>\n",
              "      <td>NaN</td>\n",
              "      <td>NaN</td>\n",
              "      <td>NaN</td>\n",
              "      <td>0.0</td>\n",
              "      <td>0.0</td>\n",
              "      <td>NaN</td>\n",
              "      <td>2.0</td>\n",
              "      <td>Apple</td>\n",
              "    </tr>\n",
              "  </tbody>\n",
              "</table>\n",
              "</div>"
            ],
            "text/plain": [
              "       Unnamed: 0  ANO_BO  ...  QUANT_CELULAR MARCA_CELULAR\n",
              "28705        8675    2019  ...            2.0         Apple\n",
              "\n",
              "[1 rows x 55 columns]"
            ]
          },
          "metadata": {
            "tags": []
          },
          "execution_count": 83
        },
        {
          "output_type": "stream",
          "text": [
            "time: 87.3 ms (started: 2021-07-20 02:07:05 +00:00)\n"
          ],
          "name": "stdout"
        }
      ]
    },
    {
      "cell_type": "code",
      "metadata": {
        "colab": {
          "base_uri": "https://localhost:8080/"
        },
        "id": "9fkP-JqjUWRL",
        "outputId": "f737593a-3d44-4fe4-dfb9-b7dfbe8f07d4"
      },
      "source": [
        "df_2019 = df[df['ANO_BO'] == 2019]\n",
        "df_2021 = df[df['ANO_BO'] == 2021]"
      ],
      "execution_count": null,
      "outputs": [
        {
          "output_type": "stream",
          "text": [
            "time: 63.5 ms (started: 2021-07-20 01:07:28 +00:00)\n"
          ],
          "name": "stdout"
        }
      ]
    },
    {
      "cell_type": "code",
      "metadata": {
        "colab": {
          "base_uri": "https://localhost:8080/",
          "height": 1000
        },
        "id": "gSgK-VMOaydy",
        "outputId": "5ee40160-38f2-41bd-f13c-b46ce32819d3"
      },
      "source": [
        "get_map_dest(df_2021[df_2021['BAIRRO'] == 'ALTO DE PINHEIROS'])"
      ],
      "execution_count": null,
      "outputs": [
        {
          "output_type": "stream",
          "text": [
            "/usr/local/lib/python3.7/dist-packages/ipykernel_launcher.py:10: SettingWithCopyWarning:\n",
            "\n",
            "\n",
            "A value is trying to be set on a copy of a slice from a DataFrame.\n",
            "Try using .loc[row_indexer,col_indexer] = value instead\n",
            "\n",
            "See the caveats in the documentation: https://pandas.pydata.org/pandas-docs/stable/user_guide/indexing.html#returning-a-view-versus-a-copy\n",
            "\n"
          ],
          "name": "stderr"
        },
        {
          "output_type": "execute_result",
          "data": {
            "text/html": [
              "<div style=\"width:100%;\"><div style=\"position:relative;width:100%;height:0;padding-bottom:60%;\"><span style=\"color:#565656\">Make this Notebook Trusted to load map: File -> Trust Notebook</span><iframe src=\"about:blank\" style=\"position:absolute;width:100%;height:100%;left:0;top:0;border:none !important;\" data-html=%3C%21DOCTYPE%20html%3E%0A%3Chead%3E%20%20%20%20%0A%20%20%20%20%3Cmeta%20http-equiv%3D%22content-type%22%20content%3D%22text/html%3B%20charset%3DUTF-8%22%20/%3E%0A%20%20%20%20%3Cscript%3EL_PREFER_CANVAS%3Dfalse%3B%20L_NO_TOUCH%3Dfalse%3B%20L_DISABLE_3D%3Dfalse%3B%3C/script%3E%0A%20%20%20%20%3Cscript%20src%3D%22https%3A//cdn.jsdelivr.net/npm/leaflet%401.4.0/dist/leaflet.js%22%3E%3C/script%3E%0A%20%20%20%20%3Cscript%20src%3D%22https%3A//code.jquery.com/jquery-1.12.4.min.js%22%3E%3C/script%3E%0A%20%20%20%20%3Cscript%20src%3D%22https%3A//maxcdn.bootstrapcdn.com/bootstrap/3.2.0/js/bootstrap.min.js%22%3E%3C/script%3E%0A%20%20%20%20%3Cscript%20src%3D%22https%3A//cdnjs.cloudflare.com/ajax/libs/Leaflet.awesome-markers/2.0.2/leaflet.awesome-markers.js%22%3E%3C/script%3E%0A%20%20%20%20%3Clink%20rel%3D%22stylesheet%22%20href%3D%22https%3A//cdn.jsdelivr.net/npm/leaflet%401.4.0/dist/leaflet.css%22/%3E%0A%20%20%20%20%3Clink%20rel%3D%22stylesheet%22%20href%3D%22https%3A//maxcdn.bootstrapcdn.com/bootstrap/3.2.0/css/bootstrap.min.css%22/%3E%0A%20%20%20%20%3Clink%20rel%3D%22stylesheet%22%20href%3D%22https%3A//maxcdn.bootstrapcdn.com/bootstrap/3.2.0/css/bootstrap-theme.min.css%22/%3E%0A%20%20%20%20%3Clink%20rel%3D%22stylesheet%22%20href%3D%22https%3A//maxcdn.bootstrapcdn.com/font-awesome/4.6.3/css/font-awesome.min.css%22/%3E%0A%20%20%20%20%3Clink%20rel%3D%22stylesheet%22%20href%3D%22https%3A//cdnjs.cloudflare.com/ajax/libs/Leaflet.awesome-markers/2.0.2/leaflet.awesome-markers.css%22/%3E%0A%20%20%20%20%3Clink%20rel%3D%22stylesheet%22%20href%3D%22https%3A//rawcdn.githack.com/python-visualization/folium/master/folium/templates/leaflet.awesome.rotate.css%22/%3E%0A%20%20%20%20%3Cstyle%3Ehtml%2C%20body%20%7Bwidth%3A%20100%25%3Bheight%3A%20100%25%3Bmargin%3A%200%3Bpadding%3A%200%3B%7D%3C/style%3E%0A%20%20%20%20%3Cstyle%3E%23map%20%7Bposition%3Aabsolute%3Btop%3A0%3Bbottom%3A0%3Bright%3A0%3Bleft%3A0%3B%7D%3C/style%3E%0A%20%20%20%20%0A%20%20%20%20%3Cmeta%20name%3D%22viewport%22%20content%3D%22width%3Ddevice-width%2C%0A%20%20%20%20%20%20%20%20initial-scale%3D1.0%2C%20maximum-scale%3D1.0%2C%20user-scalable%3Dno%22%20/%3E%0A%20%20%20%20%3Cstyle%3E%23map_e91229aebe914947b2c992be44966edd%20%7B%0A%20%20%20%20%20%20%20%20position%3A%20relative%3B%0A%20%20%20%20%20%20%20%20width%3A%20100.0%25%3B%0A%20%20%20%20%20%20%20%20height%3A%20100.0%25%3B%0A%20%20%20%20%20%20%20%20left%3A%200.0%25%3B%0A%20%20%20%20%20%20%20%20top%3A%200.0%25%3B%0A%20%20%20%20%20%20%20%20%7D%0A%20%20%20%20%3C/style%3E%0A%20%20%20%20%3Cscript%20src%3D%22https%3A//cdnjs.cloudflare.com/ajax/libs/d3/3.5.5/d3.min.js%22%3E%3C/script%3E%0A%3C/head%3E%0A%3Cbody%3E%20%20%20%20%0A%20%20%20%20%0A%20%20%20%20%3Cdiv%20class%3D%22folium-map%22%20id%3D%22map_e91229aebe914947b2c992be44966edd%22%20%3E%3C/div%3E%0A%3C/body%3E%0A%3Cscript%3E%20%20%20%20%0A%20%20%20%20%0A%20%20%20%20%0A%20%20%20%20%20%20%20%20var%20bounds%20%3D%20null%3B%0A%20%20%20%20%0A%0A%20%20%20%20var%20map_e91229aebe914947b2c992be44966edd%20%3D%20L.map%28%0A%20%20%20%20%20%20%20%20%27map_e91229aebe914947b2c992be44966edd%27%2C%20%7B%0A%20%20%20%20%20%20%20%20center%3A%20%5B-23.6835%2C%20-46.7674%5D%2C%0A%20%20%20%20%20%20%20%20zoom%3A%2012%2C%0A%20%20%20%20%20%20%20%20maxBounds%3A%20bounds%2C%0A%20%20%20%20%20%20%20%20layers%3A%20%5B%5D%2C%0A%20%20%20%20%20%20%20%20worldCopyJump%3A%20false%2C%0A%20%20%20%20%20%20%20%20crs%3A%20L.CRS.EPSG3857%2C%0A%20%20%20%20%20%20%20%20zoomControl%3A%20true%2C%0A%20%20%20%20%20%20%20%20%7D%29%3B%0A%0A%0A%20%20%20%20%0A%20%20%20%20var%20tile_layer_259f5e51f6894b95ad71428febb67b8b%20%3D%20L.tileLayer%28%0A%20%20%20%20%20%20%20%20%27https%3A//cartodb-basemaps-%7Bs%7D.global.ssl.fastly.net/light_all/%7Bz%7D/%7Bx%7D/%7By%7D.png%27%2C%0A%20%20%20%20%20%20%20%20%7B%0A%20%20%20%20%20%20%20%20%22attribution%22%3A%20%22%5Cu00a9%20%3Ca%20href%3D%5C%22http%3A//www.openstreetmap.org/copyright%5C%22%3EOpenStreetMap%3C/a%3E%20contributors%20%5Cu00a9%20%3Ca%20href%3D%5C%22http%3A//cartodb.com/attributions%23basemaps%5C%22%3ECartoDB%3C/a%3E%22%2C%0A%20%20%20%20%20%20%20%20%22detectRetina%22%3A%20false%2C%0A%20%20%20%20%20%20%20%20%22maxNativeZoom%22%3A%2018%2C%0A%20%20%20%20%20%20%20%20%22maxZoom%22%3A%2018%2C%0A%20%20%20%20%20%20%20%20%22minZoom%22%3A%200%2C%0A%20%20%20%20%20%20%20%20%22noWrap%22%3A%20false%2C%0A%20%20%20%20%20%20%20%20%22opacity%22%3A%201%2C%0A%20%20%20%20%20%20%20%20%22subdomains%22%3A%20%22abc%22%2C%0A%20%20%20%20%20%20%20%20%22tms%22%3A%20false%0A%7D%29.addTo%28map_e91229aebe914947b2c992be44966edd%29%3B%0A%20%20%20%20%0A%20%20%20%20%20%20%20%20var%20geo_json_ea5ed7566b2843839d7463b84e84268d%20%3D%20L.geoJson%28%0A%20%20%20%20%20%20%20%20%20%20%20%20%7B%22features%22%3A%20%5B%7B%22geometry%22%3A%20%7B%22coordinates%22%3A%20%5B%5B%5B-46.698512%2C%20-23.562291%5D%2C%20%5B-46.697448%2C%20-23.560805%5D%2C%20%5B-46.698421%2C%20-23.559225%5D%2C%20%5B-46.700458%2C%20-23.559129%5D%2C%20%5B-46.701522%2C%20-23.560615%5D%2C%20%5B-46.700549%2C%20-23.562195%5D%2C%20%5B-46.698512%2C%20-23.562291%5D%5D%5D%2C%20%22type%22%3A%20%22Polygon%22%7D%2C%20%22id%22%3A%20%2289a8100e823ffff%22%2C%20%22properties%22%3A%20%7B%22highlight%22%3A%20%7B%7D%2C%20%22style%22%3A%20%7B%22color%22%3A%20%22black%22%2C%20%22fillColor%22%3A%20%22%23008000ff%22%2C%20%22fillOpacity%22%3A%200.7%2C%20%22weight%22%3A%201%7D%2C%20%22value%22%3A%201%7D%2C%20%22type%22%3A%20%22Feature%22%7D%2C%20%7B%22geometry%22%3A%20%7B%22coordinates%22%3A%20%5B%5B%5B-46.689208%2C%20-23.558119%5D%2C%20%5B-46.688143%2C%20-23.556634%5D%2C%20%5B-46.689117%2C%20-23.555053%5D%2C%20%5B-46.691154%2C%20-23.554958%5D%2C%20%5B-46.692218%2C%20-23.556444%5D%2C%20%5B-46.691245%2C%20-23.558024%5D%2C%20%5B-46.689208%2C%20-23.558119%5D%5D%5D%2C%20%22type%22%3A%20%22Polygon%22%7D%2C%20%22id%22%3A%20%2289a8100e86fffff%22%2C%20%22properties%22%3A%20%7B%22highlight%22%3A%20%7B%7D%2C%20%22style%22%3A%20%7B%22color%22%3A%20%22black%22%2C%20%22fillColor%22%3A%20%22%23008000ff%22%2C%20%22fillOpacity%22%3A%200.7%2C%20%22weight%22%3A%201%7D%2C%20%22value%22%3A%201%7D%2C%20%22type%22%3A%20%22Feature%22%7D%2C%20%7B%22geometry%22%3A%20%7B%22coordinates%22%3A%20%5B%5B%5B-46.716665%2C%20-23.555301%5D%2C%20%5B-46.715601%2C%20-23.553816%5D%2C%20%5B-46.716574%2C%20-23.552235%5D%2C%20%5B-46.718612%2C%20-23.55214%5D%2C%20%5B-46.719676%2C%20-23.553625%5D%2C%20%5B-46.718702%2C%20-23.555206%5D%2C%20%5B-46.716665%2C%20-23.555301%5D%5D%5D%2C%20%22type%22%3A%20%22Polygon%22%7D%2C%20%22id%22%3A%20%2289a8100e907ffff%22%2C%20%22properties%22%3A%20%7B%22highlight%22%3A%20%7B%7D%2C%20%22style%22%3A%20%7B%22color%22%3A%20%22black%22%2C%20%22fillColor%22%3A%20%22%23289400ff%22%2C%20%22fillOpacity%22%3A%200.7%2C%20%22weight%22%3A%201%7D%2C%20%22value%22%3A%203%7D%2C%20%22type%22%3A%20%22Feature%22%7D%2C%20%7B%22geometry%22%3A%20%7B%22coordinates%22%3A%20%5B%5B%5B-46.710554%2C%20-23.555587%5D%2C%20%5B-46.70949%2C%20-23.554102%5D%2C%20%5B-46.710463%2C%20-23.552521%5D%2C%20%5B-46.7125%2C%20-23.552426%5D%2C%20%5B-46.713564%2C%20-23.553911%5D%2C%20%5B-46.712591%2C%20-23.555492%5D%2C%20%5B-46.710554%2C%20-23.555587%5D%5D%5D%2C%20%22type%22%3A%20%22Polygon%22%7D%2C%20%22id%22%3A%20%2289a8100e90bffff%22%2C%20%22properties%22%3A%20%7B%22highlight%22%3A%20%7B%7D%2C%20%22style%22%3A%20%7B%22color%22%3A%20%22black%22%2C%20%22fillColor%22%3A%20%22%23008000ff%22%2C%20%22fillOpacity%22%3A%200.7%2C%20%22weight%22%3A%201%7D%2C%20%22value%22%3A%201%7D%2C%20%22type%22%3A%20%22Feature%22%7D%2C%20%7B%22geometry%22%3A%20%7B%22coordinates%22%3A%20%5B%5B%5B-46.710644%2C%20-23.558653%5D%2C%20%5B-46.70958%2C%20-23.557168%5D%2C%20%5B-46.710554%2C%20-23.555587%5D%2C%20%5B-46.712591%2C%20-23.555492%5D%2C%20%5B-46.713655%2C%20-23.556977%5D%2C%20%5B-46.712682%2C%20-23.558558%5D%2C%20%5B-46.710644%2C%20-23.558653%5D%5D%5D%2C%20%22type%22%3A%20%22Polygon%22%7D%2C%20%22id%22%3A%20%2289a8100e91bffff%22%2C%20%22properties%22%3A%20%7B%22highlight%22%3A%20%7B%7D%2C%20%22style%22%3A%20%7B%22color%22%3A%20%22black%22%2C%20%22fillColor%22%3A%20%22%23289400ff%22%2C%20%22fillOpacity%22%3A%200.7%2C%20%22weight%22%3A%201%7D%2C%20%22value%22%3A%203%7D%2C%20%22type%22%3A%20%22Feature%22%7D%2C%20%7B%22geometry%22%3A%20%7B%22coordinates%22%3A%20%5B%5B%5B-46.716484%2C%20-23.549169%5D%2C%20%5B-46.71542%2C%20-23.547683%5D%2C%20%5B-46.716393%2C%20-23.546102%5D%2C%20%5B-46.71843%2C%20-23.546007%5D%2C%20%5B-46.719494%2C%20-23.547492%5D%2C%20%5B-46.718521%2C%20-23.549073%5D%2C%20%5B-46.716484%2C%20-23.549169%5D%5D%5D%2C%20%22type%22%3A%20%22Polygon%22%7D%2C%20%22id%22%3A%20%2289a8100e92bffff%22%2C%20%22properties%22%3A%20%7B%22highlight%22%3A%20%7B%7D%2C%20%22style%22%3A%20%7B%22color%22%3A%20%22black%22%2C%20%22fillColor%22%3A%20%22%23148a00ff%22%2C%20%22fillOpacity%22%3A%200.7%2C%20%22weight%22%3A%201%7D%2C%20%22value%22%3A%202%7D%2C%20%22type%22%3A%20%22Feature%22%7D%2C%20%7B%22geometry%22%3A%20%7B%22coordinates%22%3A%20%5B%5B%5B-46.719494%2C%20-23.547492%5D%2C%20%5B-46.71843%2C%20-23.546007%5D%2C%20%5B-46.719403%2C%20-23.544426%5D%2C%20%5B-46.72144%2C%20-23.544331%5D%2C%20%5B-46.722504%2C%20-23.545816%5D%2C%20%5B-46.721531%2C%20-23.547397%5D%2C%20%5B-46.719494%2C%20-23.547492%5D%5D%5D%2C%20%22type%22%3A%20%22Polygon%22%7D%2C%20%22id%22%3A%20%2289a8100e92fffff%22%2C%20%22properties%22%3A%20%7B%22highlight%22%3A%20%7B%7D%2C%20%22style%22%3A%20%7B%22color%22%3A%20%22black%22%2C%20%22fillColor%22%3A%20%22%23008000ff%22%2C%20%22fillOpacity%22%3A%200.7%2C%20%22weight%22%3A%201%7D%2C%20%22value%22%3A%201%7D%2C%20%22type%22%3A%20%22Feature%22%7D%2C%20%7B%22geometry%22%3A%20%7B%22coordinates%22%3A%20%5B%5B%5B-46.719676%2C%20-23.553625%5D%2C%20%5B-46.718612%2C%20-23.55214%5D%2C%20%5B-46.719585%2C%20-23.550559%5D%2C%20%5B-46.721622%2C%20-23.550463%5D%2C%20%5B-46.722686%2C%20-23.551949%5D%2C%20%5B-46.721713%2C%20-23.55353%5D%2C%20%5B-46.719676%2C%20-23.553625%5D%5D%5D%2C%20%22type%22%3A%20%22Polygon%22%7D%2C%20%22id%22%3A%20%2289a8100e933ffff%22%2C%20%22properties%22%3A%20%7B%22highlight%22%3A%20%7B%7D%2C%20%22style%22%3A%20%7B%22color%22%3A%20%22black%22%2C%20%22fillColor%22%3A%20%22%23008000ff%22%2C%20%22fillOpacity%22%3A%200.7%2C%20%22weight%22%3A%201%7D%2C%20%22value%22%3A%201%7D%2C%20%22type%22%3A%20%22Feature%22%7D%2C%20%7B%22geometry%22%3A%20%7B%22coordinates%22%3A%20%5B%5B%5B-46.722686%2C%20-23.551949%5D%2C%20%5B-46.721622%2C%20-23.550463%5D%2C%20%5B-46.722595%2C%20-23.548883%5D%2C%20%5B-46.724632%2C%20-23.548787%5D%2C%20%5B-46.725696%2C%20-23.550272%5D%2C%20%5B-46.724723%2C%20-23.551853%5D%2C%20%5B-46.722686%2C%20-23.551949%5D%5D%5D%2C%20%22type%22%3A%20%22Polygon%22%7D%2C%20%22id%22%3A%20%2289a8100e937ffff%22%2C%20%22properties%22%3A%20%7B%22highlight%22%3A%20%7B%7D%2C%20%22style%22%3A%20%7B%22color%22%3A%20%22black%22%2C%20%22fillColor%22%3A%20%22%23ff0000ff%22%2C%20%22fillOpacity%22%3A%200.7%2C%20%22weight%22%3A%201%7D%2C%20%22value%22%3A%2026%7D%2C%20%22type%22%3A%20%22Feature%22%7D%2C%20%7B%22geometry%22%3A%20%7B%22coordinates%22%3A%20%5B%5B%5B-46.716574%2C%20-23.552235%5D%2C%20%5B-46.71551%2C%20-23.55075%5D%2C%20%5B-46.716484%2C%20-23.549169%5D%2C%20%5B-46.718521%2C%20-23.549073%5D%2C%20%5B-46.719585%2C%20-23.550559%5D%2C%20%5B-46.718612%2C%20-23.55214%5D%2C%20%5B-46.716574%2C%20-23.552235%5D%5D%5D%2C%20%22type%22%3A%20%22Polygon%22%7D%2C%20%22id%22%3A%20%2289a8100e93bffff%22%2C%20%22properties%22%3A%20%7B%22highlight%22%3A%20%7B%7D%2C%20%22style%22%3A%20%7B%22color%22%3A%20%22black%22%2C%20%22fillColor%22%3A%20%22%23008000ff%22%2C%20%22fillOpacity%22%3A%200.7%2C%20%22weight%22%3A%201%7D%2C%20%22value%22%3A%201%7D%2C%20%22type%22%3A%20%22Feature%22%7D%2C%20%7B%22geometry%22%3A%20%7B%22coordinates%22%3A%20%5B%5B%5B-46.707452%2C%20-23.554197%5D%2C%20%5B-46.706388%2C%20-23.552712%5D%2C%20%5B-46.707362%2C%20-23.551131%5D%2C%20%5B-46.709399%2C%20-23.551035%5D%2C%20%5B-46.710463%2C%20-23.552521%5D%2C%20%5B-46.70949%2C%20-23.554102%5D%2C%20%5B-46.707452%2C%20-23.554197%5D%5D%5D%2C%20%22type%22%3A%20%22Polygon%22%7D%2C%20%22id%22%3A%20%2289a8100e947ffff%22%2C%20%22properties%22%3A%20%7B%22highlight%22%3A%20%7B%7D%2C%20%22style%22%3A%20%7B%22color%22%3A%20%22black%22%2C%20%22fillColor%22%3A%20%22%23148a00ff%22%2C%20%22fillOpacity%22%3A%200.7%2C%20%22weight%22%3A%201%7D%2C%20%22value%22%3A%202%7D%2C%20%22type%22%3A%20%22Feature%22%7D%2C%20%7B%22geometry%22%3A%20%7B%22coordinates%22%3A%20%5B%5B%5B-46.701341%2C%20-23.554483%5D%2C%20%5B-46.700277%2C%20-23.552997%5D%2C%20%5B-46.70125%2C%20-23.551416%5D%2C%20%5B-46.703287%2C%20-23.551321%5D%2C%20%5B-46.704351%2C%20-23.552807%5D%2C%20%5B-46.703378%2C%20-23.554387%5D%2C%20%5B-46.701341%2C%20-23.554483%5D%5D%5D%2C%20%22type%22%3A%20%22Polygon%22%7D%2C%20%22id%22%3A%20%2289a8100e94bffff%22%2C%20%22properties%22%3A%20%7B%22highlight%22%3A%20%7B%7D%2C%20%22style%22%3A%20%7B%22color%22%3A%20%22black%22%2C%20%22fillColor%22%3A%20%22%238fc700ff%22%2C%20%22fillOpacity%22%3A%200.7%2C%20%22weight%22%3A%201%7D%2C%20%22value%22%3A%208%7D%2C%20%22type%22%3A%20%22Feature%22%7D%2C%20%7B%22geometry%22%3A%20%7B%22coordinates%22%3A%20%5B%5B%5B-46.704351%2C%20-23.552807%5D%2C%20%5B-46.703287%2C%20-23.551321%5D%2C%20%5B-46.70426%2C%20-23.54974%5D%2C%20%5B-46.706298%2C%20-23.549645%5D%2C%20%5B-46.707362%2C%20-23.551131%5D%2C%20%5B-46.706388%2C%20-23.552712%5D%2C%20%5B-46.704351%2C%20-23.552807%5D%5D%5D%2C%20%22type%22%3A%20%22Polygon%22%7D%2C%20%22id%22%3A%20%2289a8100e94fffff%22%2C%20%22properties%22%3A%20%7B%22highlight%22%3A%20%7B%7D%2C%20%22style%22%3A%20%7B%22color%22%3A%20%22black%22%2C%20%22fillColor%22%3A%20%22%2366b300ff%22%2C%20%22fillOpacity%22%3A%200.7%2C%20%22weight%22%3A%201%7D%2C%20%22value%22%3A%206%7D%2C%20%22type%22%3A%20%22Feature%22%7D%2C%20%7B%22geometry%22%3A%20%7B%22coordinates%22%3A%20%5B%5B%5B-46.704533%2C%20-23.558939%5D%2C%20%5B-46.703469%2C%20-23.557454%5D%2C%20%5B-46.704442%2C%20-23.555873%5D%2C%20%5B-46.706479%2C%20-23.555778%5D%2C%20%5B-46.707543%2C%20-23.557263%5D%2C%20%5B-46.70657%2C%20-23.558844%5D%2C%20%5B-46.704533%2C%20-23.558939%5D%5D%5D%2C%20%22type%22%3A%20%22Polygon%22%7D%2C%20%22id%22%3A%20%2289a8100e953ffff%22%2C%20%22properties%22%3A%20%7B%22highlight%22%3A%20%7B%7D%2C%20%22style%22%3A%20%7B%22color%22%3A%20%22black%22%2C%20%22fillColor%22%3A%20%22%23008000ff%22%2C%20%22fillOpacity%22%3A%200.7%2C%20%22weight%22%3A%201%7D%2C%20%22value%22%3A%201%7D%2C%20%22type%22%3A%20%22Feature%22%7D%2C%20%7B%22geometry%22%3A%20%7B%22coordinates%22%3A%20%5B%5B%5B-46.707543%2C%20-23.557263%5D%2C%20%5B-46.706479%2C%20-23.555778%5D%2C%20%5B-46.707452%2C%20-23.554197%5D%2C%20%5B-46.70949%2C%20-23.554102%5D%2C%20%5B-46.710554%2C%20-23.555587%5D%2C%20%5B-46.70958%2C%20-23.557168%5D%2C%20%5B-46.707543%2C%20-23.557263%5D%5D%5D%2C%20%22type%22%3A%20%22Polygon%22%7D%2C%20%22id%22%3A%20%2289a8100e957ffff%22%2C%20%22properties%22%3A%20%7B%22highlight%22%3A%20%7B%7D%2C%20%22style%22%3A%20%7B%22color%22%3A%20%22black%22%2C%20%22fillColor%22%3A%20%22%23289400ff%22%2C%20%22fillOpacity%22%3A%200.7%2C%20%22weight%22%3A%201%7D%2C%20%22value%22%3A%203%7D%2C%20%22type%22%3A%20%22Feature%22%7D%2C%20%7B%22geometry%22%3A%20%7B%22coordinates%22%3A%20%5B%5B%5B-46.710372%2C%20-23.549455%5D%2C%20%5B-46.709308%2C%20-23.547969%5D%2C%20%5B-46.710281%2C%20-23.546388%5D%2C%20%5B-46.712319%2C%20-23.546293%5D%2C%20%5B-46.713383%2C%20-23.547779%5D%2C%20%5B-46.712409%2C%20-23.549359%5D%2C%20%5B-46.710372%2C%20-23.549455%5D%5D%5D%2C%20%22type%22%3A%20%22Polygon%22%7D%2C%20%22id%22%3A%20%2289a8100e963ffff%22%2C%20%22properties%22%3A%20%7B%22highlight%22%3A%20%7B%7D%2C%20%22style%22%3A%20%7B%22color%22%3A%20%22black%22%2C%20%22fillColor%22%3A%20%22%23289400ff%22%2C%20%22fillOpacity%22%3A%200.7%2C%20%22weight%22%3A%201%7D%2C%20%22value%22%3A%203%7D%2C%20%22type%22%3A%20%22Feature%22%7D%2C%20%7B%22geometry%22%3A%20%7B%22coordinates%22%3A%20%5B%5B%5B-46.713383%2C%20-23.547779%5D%2C%20%5B-46.712319%2C%20-23.546293%5D%2C%20%5B-46.713292%2C%20-23.544712%5D%2C%20%5B-46.715329%2C%20-23.544617%5D%2C%20%5B-46.716393%2C%20-23.546102%5D%2C%20%5B-46.71542%2C%20-23.547683%5D%2C%20%5B-46.713383%2C%20-23.547779%5D%5D%5D%2C%20%22type%22%3A%20%22Polygon%22%7D%2C%20%22id%22%3A%20%2289a8100e967ffff%22%2C%20%22properties%22%3A%20%7B%22highlight%22%3A%20%7B%7D%2C%20%22style%22%3A%20%7B%22color%22%3A%20%22black%22%2C%20%22fillColor%22%3A%20%22%23008000ff%22%2C%20%22fillOpacity%22%3A%200.7%2C%20%22weight%22%3A%201%7D%2C%20%22value%22%3A%201%7D%2C%20%22type%22%3A%20%22Feature%22%7D%2C%20%7B%22geometry%22%3A%20%7B%22coordinates%22%3A%20%5B%5B%5B-46.710463%2C%20-23.552521%5D%2C%20%5B-46.709399%2C%20-23.551035%5D%2C%20%5B-46.710372%2C%20-23.549455%5D%2C%20%5B-46.712409%2C%20-23.549359%5D%2C%20%5B-46.713473%2C%20-23.550845%5D%2C%20%5B-46.7125%2C%20-23.552426%5D%2C%20%5B-46.710463%2C%20-23.552521%5D%5D%5D%2C%20%22type%22%3A%20%22Polygon%22%7D%2C%20%22id%22%3A%20%2289a8100e973ffff%22%2C%20%22properties%22%3A%20%7B%22highlight%22%3A%20%7B%7D%2C%20%22style%22%3A%20%7B%22color%22%3A%20%22black%22%2C%20%22fillColor%22%3A%20%22%23148a00ff%22%2C%20%22fillOpacity%22%3A%200.7%2C%20%22weight%22%3A%201%7D%2C%20%22value%22%3A%202%7D%2C%20%22type%22%3A%20%22Feature%22%7D%2C%20%7B%22geometry%22%3A%20%7B%22coordinates%22%3A%20%5B%5B%5B-46.707362%2C%20-23.551131%5D%2C%20%5B-46.706298%2C%20-23.549645%5D%2C%20%5B-46.707271%2C%20-23.548064%5D%2C%20%5B-46.709308%2C%20-23.547969%5D%2C%20%5B-46.710372%2C%20-23.549455%5D%2C%20%5B-46.709399%2C%20-23.551035%5D%2C%20%5B-46.707362%2C%20-23.551131%5D%5D%5D%2C%20%22type%22%3A%20%22Polygon%22%7D%2C%20%22id%22%3A%20%2289a8100e97bffff%22%2C%20%22properties%22%3A%20%7B%22highlight%22%3A%20%7B%7D%2C%20%22style%22%3A%20%7B%22color%22%3A%20%22black%22%2C%20%22fillColor%22%3A%20%22%23289400ff%22%2C%20%22fillOpacity%22%3A%200.7%2C%20%22weight%22%3A%201%7D%2C%20%22value%22%3A%203%7D%2C%20%22type%22%3A%20%22Feature%22%7D%2C%20%7B%22geometry%22%3A%20%7B%22coordinates%22%3A%20%5B%5B%5B-46.692037%2C%20-23.550311%5D%2C%20%5B-46.690973%2C%20-23.548825%5D%2C%20%5B-46.691946%2C%20-23.547245%5D%2C%20%5B-46.693983%2C%20-23.54715%5D%2C%20%5B-46.695047%2C%20-23.548635%5D%2C%20%5B-46.694074%2C%20-23.550216%5D%2C%20%5B-46.692037%2C%20-23.550311%5D%5D%5D%2C%20%22type%22%3A%20%22Polygon%22%7D%2C%20%22id%22%3A%20%2289a8100eb13ffff%22%2C%20%22properties%22%3A%20%7B%22highlight%22%3A%20%7B%7D%2C%20%22style%22%3A%20%7B%22color%22%3A%20%22black%22%2C%20%22fillColor%22%3A%20%22%23008000ff%22%2C%20%22fillOpacity%22%3A%200.7%2C%20%22weight%22%3A%201%7D%2C%20%22value%22%3A%201%7D%2C%20%22type%22%3A%20%22Feature%22%7D%2C%20%7B%22geometry%22%3A%20%7B%22coordinates%22%3A%20%5B%5B%5B-46.695047%2C%20-23.548635%5D%2C%20%5B-46.693983%2C%20-23.54715%5D%2C%20%5B-46.694957%2C%20-23.545569%5D%2C%20%5B-46.696994%2C%20-23.545474%5D%2C%20%5B-46.698058%2C%20-23.546959%5D%2C%20%5B-46.697085%2C%20-23.54854%5D%2C%20%5B-46.695047%2C%20-23.548635%5D%5D%5D%2C%20%22type%22%3A%20%22Polygon%22%7D%2C%20%22id%22%3A%20%2289a8100eb17ffff%22%2C%20%22properties%22%3A%20%7B%22highlight%22%3A%20%7B%7D%2C%20%22style%22%3A%20%7B%22color%22%3A%20%22black%22%2C%20%22fillColor%22%3A%20%22%23148a00ff%22%2C%20%22fillOpacity%22%3A%200.7%2C%20%22weight%22%3A%201%7D%2C%20%22value%22%3A%202%7D%2C%20%22type%22%3A%20%22Feature%22%7D%2C%20%7B%22geometry%22%3A%20%7B%22coordinates%22%3A%20%5B%5B%5B-46.700978%2C%20-23.542217%5D%2C%20%5B-46.699914%2C%20-23.540731%5D%2C%20%5B-46.700887%2C%20-23.53915%5D%2C%20%5B-46.702924%2C%20-23.539055%5D%2C%20%5B-46.703988%2C%20-23.540541%5D%2C%20%5B-46.703015%2C%20-23.542122%5D%2C%20%5B-46.700978%2C%20-23.542217%5D%5D%5D%2C%20%22type%22%3A%20%22Polygon%22%7D%2C%20%22id%22%3A%20%2289a8100eb37ffff%22%2C%20%22properties%22%3A%20%7B%22highlight%22%3A%20%7B%7D%2C%20%22style%22%3A%20%7B%22color%22%3A%20%22black%22%2C%20%22fillColor%22%3A%20%22%23008000ff%22%2C%20%22fillOpacity%22%3A%200.7%2C%20%22weight%22%3A%201%7D%2C%20%22value%22%3A%201%7D%2C%20%22type%22%3A%20%22Feature%22%7D%2C%20%7B%22geometry%22%3A%20%7B%22coordinates%22%3A%20%5B%5B%5B-46.69833%2C%20-23.556158%5D%2C%20%5B-46.697266%2C%20-23.554673%5D%2C%20%5B-46.698239%2C%20-23.553092%5D%2C%20%5B-46.700277%2C%20-23.552997%5D%2C%20%5B-46.701341%2C%20-23.554483%5D%2C%20%5B-46.700367%2C%20-23.556063%5D%2C%20%5B-46.69833%2C%20-23.556158%5D%5D%5D%2C%20%22type%22%3A%20%22Polygon%22%7D%2C%20%22id%22%3A%20%2289a8100eb97ffff%22%2C%20%22properties%22%3A%20%7B%22highlight%22%3A%20%7B%7D%2C%20%22style%22%3A%20%7B%22color%22%3A%20%22black%22%2C%20%22fillColor%22%3A%20%22%23008000ff%22%2C%20%22fillOpacity%22%3A%200.7%2C%20%22weight%22%3A%201%7D%2C%20%22value%22%3A%201%7D%2C%20%22type%22%3A%20%22Feature%22%7D%2C%20%7B%22geometry%22%3A%20%7B%22coordinates%22%3A%20%5B%5B%5B-46.731626%2C%20-23.543853%5D%2C%20%5B-46.730562%2C%20-23.542368%5D%2C%20%5B-46.731535%2C%20-23.540787%5D%2C%20%5B-46.733572%2C%20-23.540691%5D%2C%20%5B-46.734636%2C%20-23.542177%5D%2C%20%5B-46.733663%2C%20-23.543758%5D%2C%20%5B-46.731626%2C%20-23.543853%5D%5D%5D%2C%20%22type%22%3A%20%22Polygon%22%7D%2C%20%22id%22%3A%20%2289a8103b40bffff%22%2C%20%22properties%22%3A%20%7B%22highlight%22%3A%20%7B%7D%2C%20%22style%22%3A%20%7B%22color%22%3A%20%22black%22%2C%20%22fillColor%22%3A%20%22%2351a900ff%22%2C%20%22fillOpacity%22%3A%200.7%2C%20%22weight%22%3A%201%7D%2C%20%22value%22%3A%205%7D%2C%20%22type%22%3A%20%22Feature%22%7D%2C%20%7B%22geometry%22%3A%20%7B%22coordinates%22%3A%20%5B%5B%5B-46.731717%2C%20-23.54692%5D%2C%20%5B-46.730653%2C%20-23.545434%5D%2C%20%5B-46.731626%2C%20-23.543853%5D%2C%20%5B-46.733663%2C%20-23.543758%5D%2C%20%5B-46.734727%2C%20-23.545243%5D%2C%20%5B-46.733754%2C%20-23.546824%5D%2C%20%5B-46.731717%2C%20-23.54692%5D%5D%5D%2C%20%22type%22%3A%20%22Polygon%22%7D%2C%20%22id%22%3A%20%2289a8103b41bffff%22%2C%20%22properties%22%3A%20%7B%22highlight%22%3A%20%7B%7D%2C%20%22style%22%3A%20%7B%22color%22%3A%20%22black%22%2C%20%22fillColor%22%3A%20%22%23008000ff%22%2C%20%22fillOpacity%22%3A%200.7%2C%20%22weight%22%3A%201%7D%2C%20%22value%22%3A%201%7D%2C%20%22type%22%3A%20%22Feature%22%7D%2C%20%7B%22geometry%22%3A%20%7B%22coordinates%22%3A%20%5B%5B%5B-46.725515%2C%20-23.54414%5D%2C%20%5B-46.724451%2C%20-23.542654%5D%2C%20%5B-46.725424%2C%20-23.541073%5D%2C%20%5B-46.727461%2C%20-23.540978%5D%2C%20%5B-46.728525%2C%20-23.542463%5D%2C%20%5B-46.727552%2C%20-23.544044%5D%2C%20%5B-46.725515%2C%20-23.54414%5D%5D%5D%2C%20%22type%22%3A%20%22Polygon%22%7D%2C%20%22id%22%3A%20%2289a8103b443ffff%22%2C%20%22properties%22%3A%20%7B%22highlight%22%3A%20%7B%7D%2C%20%22style%22%3A%20%7B%22color%22%3A%20%22black%22%2C%20%22fillColor%22%3A%20%22%2366b300ff%22%2C%20%22fillOpacity%22%3A%200.7%2C%20%22weight%22%3A%201%7D%2C%20%22value%22%3A%206%7D%2C%20%22type%22%3A%20%22Feature%22%7D%2C%20%7B%22geometry%22%3A%20%7B%22coordinates%22%3A%20%5B%5B%5B-46.728525%2C%20-23.542463%5D%2C%20%5B-46.727461%2C%20-23.540978%5D%2C%20%5B-46.728434%2C%20-23.539397%5D%2C%20%5B-46.730471%2C%20-23.539301%5D%2C%20%5B-46.731535%2C%20-23.540787%5D%2C%20%5B-46.730562%2C%20-23.542368%5D%2C%20%5B-46.728525%2C%20-23.542463%5D%5D%5D%2C%20%22type%22%3A%20%22Polygon%22%7D%2C%20%22id%22%3A%20%2289a8103b447ffff%22%2C%20%22properties%22%3A%20%7B%22highlight%22%3A%20%7B%7D%2C%20%22style%22%3A%20%7B%22color%22%3A%20%22black%22%2C%20%22fillColor%22%3A%20%22%23008000ff%22%2C%20%22fillOpacity%22%3A%200.7%2C%20%22weight%22%3A%201%7D%2C%20%22value%22%3A%201%7D%2C%20%22type%22%3A%20%22Feature%22%7D%2C%20%7B%22geometry%22%3A%20%7B%22coordinates%22%3A%20%5B%5B%5B-46.725605%2C%20-23.547206%5D%2C%20%5B-46.724541%2C%20-23.545721%5D%2C%20%5B-46.725515%2C%20-23.54414%5D%2C%20%5B-46.727552%2C%20-23.544044%5D%2C%20%5B-46.728616%2C%20-23.54553%5D%2C%20%5B-46.727642%2C%20-23.547111%5D%2C%20%5B-46.725605%2C%20-23.547206%5D%5D%5D%2C%20%22type%22%3A%20%22Polygon%22%7D%2C%20%22id%22%3A%20%2289a8103b453ffff%22%2C%20%22properties%22%3A%20%7B%22highlight%22%3A%20%7B%7D%2C%20%22style%22%3A%20%7B%22color%22%3A%20%22black%22%2C%20%22fillColor%22%3A%20%22%23289400ff%22%2C%20%22fillOpacity%22%3A%200.7%2C%20%22weight%22%3A%201%7D%2C%20%22value%22%3A%203%7D%2C%20%22type%22%3A%20%22Feature%22%7D%2C%20%7B%22geometry%22%3A%20%7B%22coordinates%22%3A%20%5B%5B%5B-46.722504%2C%20-23.545816%5D%2C%20%5B-46.72144%2C%20-23.544331%5D%2C%20%5B-46.722414%2C%20-23.54275%5D%2C%20%5B-46.724451%2C%20-23.542654%5D%2C%20%5B-46.725515%2C%20-23.54414%5D%2C%20%5B-46.724541%2C%20-23.545721%5D%2C%20%5B-46.722504%2C%20-23.545816%5D%5D%5D%2C%20%22type%22%3A%20%22Polygon%22%7D%2C%20%22id%22%3A%20%2289a8103b45bffff%22%2C%20%22properties%22%3A%20%7B%22highlight%22%3A%20%7B%7D%2C%20%22style%22%3A%20%7B%22color%22%3A%20%22black%22%2C%20%22fillColor%22%3A%20%22%23008000ff%22%2C%20%22fillOpacity%22%3A%200.7%2C%20%22weight%22%3A%201%7D%2C%20%22value%22%3A%201%7D%2C%20%22type%22%3A%20%22Feature%22%7D%2C%20%7B%22geometry%22%3A%20%7B%22coordinates%22%3A%20%5B%5B%5B-46.71311%2C%20-23.538579%5D%2C%20%5B-46.712046%2C%20-23.537093%5D%2C%20%5B-46.713019%2C%20-23.535512%5D%2C%20%5B-46.715057%2C%20-23.535417%5D%2C%20%5B-46.716121%2C%20-23.536903%5D%2C%20%5B-46.715147%2C%20-23.538484%5D%2C%20%5B-46.71311%2C%20-23.538579%5D%5D%5D%2C%20%22type%22%3A%20%22Polygon%22%7D%2C%20%22id%22%3A%20%2289a8103b613ffff%22%2C%20%22properties%22%3A%20%7B%22highlight%22%3A%20%7B%7D%2C%20%22style%22%3A%20%7B%22color%22%3A%20%22black%22%2C%20%22fillColor%22%3A%20%22%233d9f00ff%22%2C%20%22fillOpacity%22%3A%200.7%2C%20%22weight%22%3A%201%7D%2C%20%22value%22%3A%204%7D%2C%20%22type%22%3A%20%22Feature%22%7D%2C%20%7B%22geometry%22%3A%20%7B%22coordinates%22%3A%20%5B%5B%5B-46.716302%2C%20-23.543036%5D%2C%20%5B-46.715238%2C%20-23.54155%5D%2C%20%5B-46.716211%2C%20-23.539969%5D%2C%20%5B-46.718248%2C%20-23.539874%5D%2C%20%5B-46.719312%2C%20-23.54136%5D%2C%20%5B-46.718339%2C%20-23.54294%5D%2C%20%5B-46.716302%2C%20-23.543036%5D%5D%5D%2C%20%22type%22%3A%20%22Polygon%22%7D%2C%20%22id%22%3A%20%2289a8103b683ffff%22%2C%20%22properties%22%3A%20%7B%22highlight%22%3A%20%7B%7D%2C%20%22style%22%3A%20%7B%22color%22%3A%20%22black%22%2C%20%22fillColor%22%3A%20%22%23008000ff%22%2C%20%22fillOpacity%22%3A%200.7%2C%20%22weight%22%3A%201%7D%2C%20%22value%22%3A%201%7D%2C%20%22type%22%3A%20%22Feature%22%7D%2C%20%7B%22geometry%22%3A%20%7B%22coordinates%22%3A%20%5B%5B%5B-46.719312%2C%20-23.54136%5D%2C%20%5B-46.718248%2C%20-23.539874%5D%2C%20%5B-46.719222%2C%20-23.538293%5D%2C%20%5B-46.721259%2C%20-23.538197%5D%2C%20%5B-46.722323%2C%20-23.539683%5D%2C%20%5B-46.72135%2C%20-23.541264%5D%2C%20%5B-46.719312%2C%20-23.54136%5D%5D%5D%2C%20%22type%22%3A%20%22Polygon%22%7D%2C%20%22id%22%3A%20%2289a8103b687ffff%22%2C%20%22properties%22%3A%20%7B%22highlight%22%3A%20%7B%7D%2C%20%22style%22%3A%20%7B%22color%22%3A%20%22black%22%2C%20%22fillColor%22%3A%20%22%23008000ff%22%2C%20%22fillOpacity%22%3A%200.7%2C%20%22weight%22%3A%201%7D%2C%20%22value%22%3A%201%7D%2C%20%22type%22%3A%20%22Feature%22%7D%2C%20%7B%22geometry%22%3A%20%7B%22coordinates%22%3A%20%5B%5B%5B-46.722323%2C%20-23.539683%5D%2C%20%5B-46.721259%2C%20-23.538197%5D%2C%20%5B-46.722232%2C%20-23.536616%5D%2C%20%5B-46.724269%2C%20-23.536521%5D%2C%20%5B-46.725333%2C%20-23.538007%5D%2C%20%5B-46.72436%2C%20-23.539588%5D%2C%20%5B-46.722323%2C%20-23.539683%5D%5D%5D%2C%20%22type%22%3A%20%22Polygon%22%7D%2C%20%22id%22%3A%20%2289a8103b6b3ffff%22%2C%20%22properties%22%3A%20%7B%22highlight%22%3A%20%7B%7D%2C%20%22style%22%3A%20%7B%22color%22%3A%20%22black%22%2C%20%22fillColor%22%3A%20%22%23289400ff%22%2C%20%22fillOpacity%22%3A%200.7%2C%20%22weight%22%3A%201%7D%2C%20%22value%22%3A%203%7D%2C%20%22type%22%3A%20%22Feature%22%7D%2C%20%7B%22geometry%22%3A%20%7B%22coordinates%22%3A%20%5B%5B%5B-46.719222%2C%20-23.538293%5D%2C%20%5B-46.718158%2C%20-23.536807%5D%2C%20%5B-46.719131%2C%20-23.535226%5D%2C%20%5B-46.721168%2C%20-23.535131%5D%2C%20%5B-46.722232%2C%20-23.536616%5D%2C%20%5B-46.721259%2C%20-23.538197%5D%2C%20%5B-46.719222%2C%20-23.538293%5D%5D%5D%2C%20%22type%22%3A%20%22Polygon%22%7D%2C%20%22id%22%3A%20%2289a8103b6bbffff%22%2C%20%22properties%22%3A%20%7B%22highlight%22%3A%20%7B%7D%2C%20%22style%22%3A%20%7B%22color%22%3A%20%22black%22%2C%20%22fillColor%22%3A%20%22%23008000ff%22%2C%20%22fillOpacity%22%3A%200.7%2C%20%22weight%22%3A%201%7D%2C%20%22value%22%3A%201%7D%2C%20%22type%22%3A%20%22Feature%22%7D%2C%20%7B%22geometry%22%3A%20%7B%22coordinates%22%3A%20%5B%5B%5B-46.704079%2C%20-23.543607%5D%2C%20%5B-46.703015%2C%20-23.542122%5D%2C%20%5B-46.703988%2C%20-23.540541%5D%2C%20%5B-46.706025%2C%20-23.540446%5D%2C%20%5B-46.707089%2C%20-23.541931%5D%2C%20%5B-46.706116%2C%20-23.543512%5D%2C%20%5B-46.704079%2C%20-23.543607%5D%5D%5D%2C%20%22type%22%3A%20%22Polygon%22%7D%2C%20%22id%22%3A%20%2289a8103b6dbffff%22%2C%20%22properties%22%3A%20%7B%22highlight%22%3A%20%7B%7D%2C%20%22style%22%3A%20%7B%22color%22%3A%20%22black%22%2C%20%22fillColor%22%3A%20%22%23148a00ff%22%2C%20%22fillOpacity%22%3A%200.7%2C%20%22weight%22%3A%201%7D%2C%20%22value%22%3A%202%7D%2C%20%22type%22%3A%20%22Feature%22%7D%5D%2C%20%22type%22%3A%20%22FeatureCollection%22%7D%2C%0A%20%20%20%20%20%20%20%20%20%20%20%20%7B%0A%20%20%20%20%20%20%20%20%20%20%20%20%7D%0A%20%20%20%20%20%20%20%20%29.addTo%28map_e91229aebe914947b2c992be44966edd%20%29%3B%0A%20%20%20%20%20%20%20%20geo_json_ea5ed7566b2843839d7463b84e84268d.setStyle%28function%28feature%29%20%7Breturn%20feature.properties.style%3B%7D%29%3B%0A%20%20%20%20%20%20%20%20%0A%20%20%20%20%0A%20%20%20%20%20%20%20%20var%20geo_json_c6b58467837143889af55619d649ed49%20%3D%20L.geoJson%28%0A%20%20%20%20%20%20%20%20%20%20%20%20%7B%22features%22%3A%20%5B%7B%22geometry%22%3A%20%7B%22coordinates%22%3A%20%5B%5B%5B-46.698602%2C%20-23.565356%5D%2C%20%5B-46.694437%2C%20-23.562481%5D%2C%20%5B-46.69532%2C%20-23.557834%5D%2C%20%5B-46.700367%2C%20-23.556063%5D%2C%20%5B-46.704533%2C%20-23.558939%5D%2C%20%5B-46.70365%2C%20-23.563586%5D%2C%20%5B-46.698602%2C%20-23.565356%5D%5D%5D%2C%20%22type%22%3A%20%22Polygon%22%7D%2C%20%22id%22%3A%20%2288a8100e83fffff%22%2C%20%22properties%22%3A%20%7B%22highlight%22%3A%20%7B%7D%2C%20%22style%22%3A%20%7B%22color%22%3A%20%22black%22%2C%20%22fillColor%22%3A%20%22%23008000ff%22%2C%20%22fillOpacity%22%3A%200.7%2C%20%22weight%22%3A%201%7D%2C%20%22value%22%3A%201%7D%2C%20%22type%22%3A%20%22Feature%22%7D%2C%20%7B%22geometry%22%3A%20%7B%22coordinates%22%3A%20%5B%5B%5B-46.689389%2C%20-23.564251%5D%2C%20%5B-46.685223%2C%20-23.561375%5D%2C%20%5B-46.686106%2C%20-23.556729%5D%2C%20%5B-46.691154%2C%20-23.554958%5D%2C%20%5B-46.69532%2C%20-23.557834%5D%2C%20%5B-46.694437%2C%20-23.562481%5D%2C%20%5B-46.689389%2C%20-23.564251%5D%5D%5D%2C%20%22type%22%3A%20%22Polygon%22%7D%2C%20%22id%22%3A%20%2288a8100e87fffff%22%2C%20%22properties%22%3A%20%7B%22highlight%22%3A%20%7B%7D%2C%20%22style%22%3A%20%7B%22color%22%3A%20%22black%22%2C%20%22fillColor%22%3A%20%22%23008000ff%22%2C%20%22fillOpacity%22%3A%200.7%2C%20%22weight%22%3A%201%7D%2C%20%22value%22%3A%201%7D%2C%20%22type%22%3A%20%22Feature%22%7D%2C%20%7B%22geometry%22%3A%20%7B%22coordinates%22%3A%20%5B%5B%5B-46.713746%2C%20-23.560043%5D%2C%20%5B-46.70958%2C%20-23.557168%5D%2C%20%5B-46.710463%2C%20-23.552521%5D%2C%20%5B-46.71551%2C%20-23.55075%5D%2C%20%5B-46.719676%2C%20-23.553625%5D%2C%20%5B-46.718793%2C%20-23.558272%5D%2C%20%5B-46.713746%2C%20-23.560043%5D%5D%5D%2C%20%22type%22%3A%20%22Polygon%22%7D%2C%20%22id%22%3A%20%2288a8100e91fffff%22%2C%20%22properties%22%3A%20%7B%22highlight%22%3A%20%7B%7D%2C%20%22style%22%3A%20%7B%22color%22%3A%20%22black%22%2C%20%22fillColor%22%3A%20%22%237abd00ff%22%2C%20%22fillOpacity%22%3A%200.7%2C%20%22weight%22%3A%201%7D%2C%20%22value%22%3A%207%7D%2C%20%22type%22%3A%20%22Feature%22%7D%2C%20%7B%22geometry%22%3A%20%7B%22coordinates%22%3A%20%5B%5B%5B-46.719676%2C%20-23.553625%5D%2C%20%5B-46.71551%2C%20-23.55075%5D%2C%20%5B-46.716393%2C%20-23.546102%5D%2C%20%5B-46.72144%2C%20-23.544331%5D%2C%20%5B-46.725605%2C%20-23.547206%5D%2C%20%5B-46.724723%2C%20-23.551853%5D%2C%20%5B-46.719676%2C%20-23.553625%5D%5D%5D%2C%20%22type%22%3A%20%22Polygon%22%7D%2C%20%22id%22%3A%20%2288a8100e93fffff%22%2C%20%22properties%22%3A%20%7B%22highlight%22%3A%20%7B%7D%2C%20%22style%22%3A%20%7B%22color%22%3A%20%22black%22%2C%20%22fillColor%22%3A%20%22%2366b300ff%22%2C%20%22fillOpacity%22%3A%200.7%2C%20%22weight%22%3A%201%7D%2C%20%22value%22%3A%206%7D%2C%20%22type%22%3A%20%22Feature%22%7D%2C%20%7B%22geometry%22%3A%20%7B%22coordinates%22%3A%20%5B%5B%5B-46.704533%2C%20-23.558939%5D%2C%20%5B-46.700367%2C%20-23.556063%5D%2C%20%5B-46.70125%2C%20-23.551416%5D%2C%20%5B-46.706298%2C%20-23.549645%5D%2C%20%5B-46.710463%2C%20-23.552521%5D%2C%20%5B-46.70958%2C%20-23.557168%5D%2C%20%5B-46.704533%2C%20-23.558939%5D%5D%5D%2C%20%22type%22%3A%20%22Polygon%22%7D%2C%20%22id%22%3A%20%2288a8100e95fffff%22%2C%20%22properties%22%3A%20%7B%22highlight%22%3A%20%7B%7D%2C%20%22style%22%3A%20%7B%22color%22%3A%20%22black%22%2C%20%22fillColor%22%3A%20%22%23ff7a00ff%22%2C%20%22fillOpacity%22%3A%200.7%2C%20%22weight%22%3A%201%7D%2C%20%22value%22%3A%2020%7D%2C%20%22type%22%3A%20%22Feature%22%7D%2C%20%7B%22geometry%22%3A%20%7B%22coordinates%22%3A%20%5B%5B%5B-46.710463%2C%20-23.552521%5D%2C%20%5B-46.706298%2C%20-23.549645%5D%2C%20%5B-46.70718%2C%20-23.544998%5D%2C%20%5B-46.712228%2C%20-23.543226%5D%2C%20%5B-46.716393%2C%20-23.546102%5D%2C%20%5B-46.71551%2C%20-23.55075%5D%2C%20%5B-46.710463%2C%20-23.552521%5D%5D%5D%2C%20%22type%22%3A%20%22Polygon%22%7D%2C%20%22id%22%3A%20%2288a8100e97fffff%22%2C%20%22properties%22%3A%20%7B%22highlight%22%3A%20%7B%7D%2C%20%22style%22%3A%20%7B%22color%22%3A%20%22black%22%2C%20%22fillColor%22%3A%20%22%238fc700ff%22%2C%20%22fillOpacity%22%3A%200.7%2C%20%22weight%22%3A%201%7D%2C%20%22value%22%3A%208%7D%2C%20%22type%22%3A%20%22Feature%22%7D%2C%20%7B%22geometry%22%3A%20%7B%22coordinates%22%3A%20%5B%5B%5B-46.692037%2C%20-23.550311%5D%2C%20%5B-46.687872%2C%20-23.547435%5D%2C%20%5B-46.688754%2C%20-23.542787%5D%2C%20%5B-46.693802%2C%20-23.541016%5D%2C%20%5B-46.697967%2C%20-23.543893%5D%2C%20%5B-46.697085%2C%20-23.54854%5D%2C%20%5B-46.692037%2C%20-23.550311%5D%5D%5D%2C%20%22type%22%3A%20%22Polygon%22%7D%2C%20%22id%22%3A%20%2288a8100eb1fffff%22%2C%20%22properties%22%3A%20%7B%22highlight%22%3A%20%7B%7D%2C%20%22style%22%3A%20%7B%22color%22%3A%20%22black%22%2C%20%22fillColor%22%3A%20%22%23289400ff%22%2C%20%22fillOpacity%22%3A%200.7%2C%20%22weight%22%3A%201%7D%2C%20%22value%22%3A%203%7D%2C%20%22type%22%3A%20%22Feature%22%7D%2C%20%7B%22geometry%22%3A%20%7B%22coordinates%22%3A%20%5B%5B%5B-46.697967%2C%20-23.543893%5D%2C%20%5B-46.693802%2C%20-23.541016%5D%2C%20%5B-46.694685%2C%20-23.536369%5D%2C%20%5B-46.699732%2C%20-23.534597%5D%2C%20%5B-46.703898%2C%20-23.537474%5D%2C%20%5B-46.703015%2C%20-23.542122%5D%2C%20%5B-46.697967%2C%20-23.543893%5D%5D%5D%2C%20%22type%22%3A%20%22Polygon%22%7D%2C%20%22id%22%3A%20%2288a8100eb3fffff%22%2C%20%22properties%22%3A%20%7B%22highlight%22%3A%20%7B%7D%2C%20%22style%22%3A%20%7B%22color%22%3A%20%22black%22%2C%20%22fillColor%22%3A%20%22%23008000ff%22%2C%20%22fillOpacity%22%3A%200.7%2C%20%22weight%22%3A%201%7D%2C%20%22value%22%3A%201%7D%2C%20%22type%22%3A%20%22Feature%22%7D%2C%20%7B%22geometry%22%3A%20%7B%22coordinates%22%3A%20%5B%5B%5B-46.69532%2C%20-23.557834%5D%2C%20%5B-46.691154%2C%20-23.554958%5D%2C%20%5B-46.692037%2C%20-23.550311%5D%2C%20%5B-46.697085%2C%20-23.54854%5D%2C%20%5B-46.70125%2C%20-23.551416%5D%2C%20%5B-46.700367%2C%20-23.556063%5D%2C%20%5B-46.69532%2C%20-23.557834%5D%5D%5D%2C%20%22type%22%3A%20%22Polygon%22%7D%2C%20%22id%22%3A%20%2288a8100eb9fffff%22%2C%20%22properties%22%3A%20%7B%22highlight%22%3A%20%7B%7D%2C%20%22style%22%3A%20%7B%22color%22%3A%20%22black%22%2C%20%22fillColor%22%3A%20%22%23008000ff%22%2C%20%22fillOpacity%22%3A%200.7%2C%20%22weight%22%3A%201%7D%2C%20%22value%22%3A%201%7D%2C%20%22type%22%3A%20%22Feature%22%7D%2C%20%7B%22geometry%22%3A%20%7B%22coordinates%22%3A%20%5B%5B%5B-46.734818%2C%20-23.548309%5D%2C%20%5B-46.730653%2C%20-23.545434%5D%2C%20%5B-46.731535%2C%20-23.540787%5D%2C%20%5B-46.736582%2C%20-23.539015%5D%2C%20%5B-46.740747%2C%20-23.54189%5D%2C%20%5B-46.739865%2C%20-23.546537%5D%2C%20%5B-46.734818%2C%20-23.548309%5D%5D%5D%2C%20%22type%22%3A%20%22Polygon%22%7D%2C%20%22id%22%3A%20%2288a8103b41fffff%22%2C%20%22properties%22%3A%20%7B%22highlight%22%3A%20%7B%7D%2C%20%22style%22%3A%20%7B%22color%22%3A%20%22black%22%2C%20%22fillColor%22%3A%20%22%2366b300ff%22%2C%20%22fillOpacity%22%3A%200.7%2C%20%22weight%22%3A%201%7D%2C%20%22value%22%3A%206%7D%2C%20%22type%22%3A%20%22Feature%22%7D%2C%20%7B%22geometry%22%3A%20%7B%22coordinates%22%3A%20%5B%5B%5B-46.725605%2C%20-23.547206%5D%2C%20%5B-46.72144%2C%20-23.544331%5D%2C%20%5B-46.722323%2C%20-23.539683%5D%2C%20%5B-46.72737%2C%20-23.537911%5D%2C%20%5B-46.731535%2C%20-23.540787%5D%2C%20%5B-46.730653%2C%20-23.545434%5D%2C%20%5B-46.725605%2C%20-23.547206%5D%5D%5D%2C%20%22type%22%3A%20%22Polygon%22%7D%2C%20%22id%22%3A%20%2288a8103b45fffff%22%2C%20%22properties%22%3A%20%7B%22highlight%22%3A%20%7B%7D%2C%20%22style%22%3A%20%7B%22color%22%3A%20%22black%22%2C%20%22fillColor%22%3A%20%22%23cce600ff%22%2C%20%22fillOpacity%22%3A%200.7%2C%20%22weight%22%3A%201%7D%2C%20%22value%22%3A%2011%7D%2C%20%22type%22%3A%20%22Feature%22%7D%2C%20%7B%22geometry%22%3A%20%7B%22coordinates%22%3A%20%5B%5B%5B-46.728888%2C%20-23.554728%5D%2C%20%5B-46.724723%2C%20-23.551853%5D%2C%20%5B-46.725605%2C%20-23.547206%5D%2C%20%5B-46.730653%2C%20-23.545434%5D%2C%20%5B-46.734818%2C%20-23.548309%5D%2C%20%5B-46.733935%2C%20-23.552957%5D%2C%20%5B-46.728888%2C%20-23.554728%5D%5D%5D%2C%20%22type%22%3A%20%22Polygon%22%7D%2C%20%22id%22%3A%20%2288a8103b4dfffff%22%2C%20%22properties%22%3A%20%7B%22highlight%22%3A%20%7B%7D%2C%20%22style%22%3A%20%7B%22color%22%3A%20%22black%22%2C%20%22fillColor%22%3A%20%22%23ff0000ff%22%2C%20%22fillOpacity%22%3A%200.7%2C%20%22weight%22%3A%201%7D%2C%20%22value%22%3A%2026%7D%2C%20%22type%22%3A%20%22Feature%22%7D%2C%20%7B%22geometry%22%3A%20%7B%22coordinates%22%3A%20%5B%5B%5B-46.71311%2C%20-23.538579%5D%2C%20%5B-46.708945%2C%20-23.535703%5D%2C%20%5B-46.709828%2C%20-23.531055%5D%2C%20%5B-46.714875%2C%20-23.529283%5D%2C%20%5B-46.71904%2C%20-23.532159%5D%2C%20%5B-46.718158%2C%20-23.536807%5D%2C%20%5B-46.71311%2C%20-23.538579%5D%5D%5D%2C%20%22type%22%3A%20%22Polygon%22%7D%2C%20%22id%22%3A%20%2288a8103b61fffff%22%2C%20%22properties%22%3A%20%7B%22highlight%22%3A%20%7B%7D%2C%20%22style%22%3A%20%7B%22color%22%3A%20%22black%22%2C%20%22fillColor%22%3A%20%22%233d9f00ff%22%2C%20%22fillOpacity%22%3A%200.7%2C%20%22weight%22%3A%201%7D%2C%20%22value%22%3A%204%7D%2C%20%22type%22%3A%20%22Feature%22%7D%2C%20%7B%22geometry%22%3A%20%7B%22coordinates%22%3A%20%5B%5B%5B-46.716393%2C%20-23.546102%5D%2C%20%5B-46.712228%2C%20-23.543226%5D%2C%20%5B-46.71311%2C%20-23.538579%5D%2C%20%5B-46.718158%2C%20-23.536807%5D%2C%20%5B-46.722323%2C%20-23.539683%5D%2C%20%5B-46.72144%2C%20-23.544331%5D%2C%20%5B-46.716393%2C%20-23.546102%5D%5D%5D%2C%20%22type%22%3A%20%22Polygon%22%7D%2C%20%22id%22%3A%20%2288a8103b69fffff%22%2C%20%22properties%22%3A%20%7B%22highlight%22%3A%20%7B%7D%2C%20%22style%22%3A%20%7B%22color%22%3A%20%22black%22%2C%20%22fillColor%22%3A%20%22%23148a00ff%22%2C%20%22fillOpacity%22%3A%200.7%2C%20%22weight%22%3A%201%7D%2C%20%22value%22%3A%202%7D%2C%20%22type%22%3A%20%22Feature%22%7D%2C%20%7B%22geometry%22%3A%20%7B%22coordinates%22%3A%20%5B%5B%5B-46.722323%2C%20-23.539683%5D%2C%20%5B-46.718158%2C%20-23.536807%5D%2C%20%5B-46.71904%2C%20-23.532159%5D%2C%20%5B-46.724087%2C%20-23.530387%5D%2C%20%5B-46.728252%2C%20-23.533263%5D%2C%20%5B-46.72737%2C%20-23.537911%5D%2C%20%5B-46.722323%2C%20-23.539683%5D%5D%5D%2C%20%22type%22%3A%20%22Polygon%22%7D%2C%20%22id%22%3A%20%2288a8103b6bfffff%22%2C%20%22properties%22%3A%20%7B%22highlight%22%3A%20%7B%7D%2C%20%22style%22%3A%20%7B%22color%22%3A%20%22black%22%2C%20%22fillColor%22%3A%20%22%233d9f00ff%22%2C%20%22fillOpacity%22%3A%200.7%2C%20%22weight%22%3A%201%7D%2C%20%22value%22%3A%204%7D%2C%20%22type%22%3A%20%22Feature%22%7D%2C%20%7B%22geometry%22%3A%20%7B%22coordinates%22%3A%20%5B%5B%5B-46.70718%2C%20-23.544998%5D%2C%20%5B-46.703015%2C%20-23.542122%5D%2C%20%5B-46.703898%2C%20-23.537474%5D%2C%20%5B-46.708945%2C%20-23.535703%5D%2C%20%5B-46.71311%2C%20-23.538579%5D%2C%20%5B-46.712228%2C%20-23.543226%5D%2C%20%5B-46.70718%2C%20-23.544998%5D%5D%5D%2C%20%22type%22%3A%20%22Polygon%22%7D%2C%20%22id%22%3A%20%2288a8103b6dfffff%22%2C%20%22properties%22%3A%20%7B%22highlight%22%3A%20%7B%7D%2C%20%22style%22%3A%20%7B%22color%22%3A%20%22black%22%2C%20%22fillColor%22%3A%20%22%23148a00ff%22%2C%20%22fillOpacity%22%3A%200.7%2C%20%22weight%22%3A%201%7D%2C%20%22value%22%3A%202%7D%2C%20%22type%22%3A%20%22Feature%22%7D%5D%2C%20%22type%22%3A%20%22FeatureCollection%22%7D%2C%0A%20%20%20%20%20%20%20%20%20%20%20%20%7B%0A%20%20%20%20%20%20%20%20%20%20%20%20%7D%0A%20%20%20%20%20%20%20%20%29.addTo%28map_e91229aebe914947b2c992be44966edd%20%29%3B%0A%20%20%20%20%20%20%20%20geo_json_c6b58467837143889af55619d649ed49.setStyle%28function%28feature%29%20%7Breturn%20feature.properties.style%3B%7D%29%3B%0A%20%20%20%20%20%20%20%20%0A%20%20%20%20%0A%20%20%20%20var%20color_map_7119ce236e804aaea72c94513cb4ecde%20%3D%20%7B%7D%3B%0A%0A%20%20%20%20%0A%20%20%20%20color_map_7119ce236e804aaea72c94513cb4ecde.color%20%3D%20d3.scale.threshold%28%29%0A%20%20%20%20%20%20%20%20%20%20%20%20%20%20.domain%28%5B1.0%2C%201.0501002004008015%2C%201.1002004008016033%2C%201.1503006012024048%2C%201.2004008016032064%2C%201.250501002004008%2C%201.3006012024048097%2C%201.3507014028056112%2C%201.4008016032064128%2C%201.4509018036072145%2C%201.5010020040080159%2C%201.5511022044088176%2C%201.6012024048096194%2C%201.6513026052104207%2C%201.7014028056112225%2C%201.751503006012024%2C%201.8016032064128256%2C%201.8517034068136273%2C%201.9018036072144289%2C%201.9519038076152304%2C%202.0020040080160317%2C%202.052104208416834%2C%202.1022044088176353%2C%202.1523046092184366%2C%202.202404809619239%2C%202.25250501002004%2C%202.3026052104208414%2C%202.352705410821643%2C%202.402805611222445%2C%202.4529058116232463%2C%202.503006012024048%2C%202.55310621242485%2C%202.603206412825651%2C%202.653306613226453%2C%202.7034068136272547%2C%202.753507014028056%2C%202.8036072144288577%2C%202.8537074148296595%2C%202.903807615230461%2C%202.9539078156312626%2C%203.004008016032064%2C%203.0541082164328657%2C%203.1042084168336674%2C%203.1543086172344688%2C%203.2044088176352705%2C%203.2545090180360723%2C%203.3046092184368736%2C%203.3547094188376754%2C%203.404809619238477%2C%203.4549098196392785%2C%203.50501002004008%2C%203.555110220440882%2C%203.6052104208416833%2C%203.655310621242485%2C%203.7054108216432864%2C%203.755511022044088%2C%203.80561122244489%2C%203.8557114228456912%2C%203.905811623246493%2C%203.9559118236472948%2C%204.006012024048096%2C%204.056112224448897%2C%204.1062124248497%2C%204.156312625250501%2C%204.206412825651302%2C%204.2565130260521045%2C%204.306613226452906%2C%204.356713426853707%2C%204.406813627254509%2C%204.456913827655311%2C%204.507014028056112%2C%204.557114228456914%2C%204.6072144288577155%2C%204.657314629258517%2C%204.707414829659319%2C%204.75751503006012%2C%204.807615230460922%2C%204.857715430861724%2C%204.907815631262525%2C%204.9579158316633265%2C%205.008016032064128%2C%205.05811623246493%2C%205.108216432865731%2C%205.158316633266533%2C%205.208416833667335%2C%205.258517034068136%2C%205.3086172344689375%2C%205.35871743486974%2C%205.408817635270541%2C%205.458917835671342%2C%205.509018036072145%2C%205.559118236472946%2C%205.609218436873747%2C%205.659318637274549%2C%205.709418837675351%2C%205.759519038076152%2C%205.809619238476954%2C%205.859719438877756%2C%205.909819639278557%2C%205.959919839679359%2C%206.01002004008016%2C%206.060120240480962%2C%206.110220440881764%2C%206.160320641282565%2C%206.210420841683367%2C%206.260521042084168%2C%206.31062124248497%2C%206.3607214428857715%2C%206.410821643286573%2C%206.460921843687375%2C%206.511022044088176%2C%206.561122244488978%2C%206.61122244488978%2C%206.661322645290581%2C%206.7114228456913825%2C%206.761523046092185%2C%206.811623246492986%2C%206.861723446893787%2C%206.9118236472945895%2C%206.961923847695391%2C%207.012024048096192%2C%207.062124248496994%2C%207.112224448897796%2C%207.162324649298597%2C%207.212424849699399%2C%207.2625250501002006%2C%207.312625250501002%2C%207.362725450901803%2C%207.412825651302605%2C%207.462925851703407%2C%207.513026052104208%2C%207.56312625250501%2C%207.613226452905812%2C%207.663326653306613%2C%207.713426853707415%2C%207.763527054108216%2C%207.813627254509018%2C%207.86372745490982%2C%207.913827655310621%2C%207.963927855711423%2C%208.014028056112224%2C%208.064128256513026%2C%208.114228456913828%2C%208.16432865731463%2C%208.214428857715431%2C%208.264529058116231%2C%208.314629258517034%2C%208.364729458917836%2C%208.414829659318638%2C%208.464929859719438%2C%208.51503006012024%2C%208.565130260521041%2C%208.615230460921843%2C%208.665330661322646%2C%208.715430861723448%2C%208.765531062124248%2C%208.81563126252505%2C%208.86573146292585%2C%208.915831663326653%2C%208.965931863727455%2C%209.016032064128256%2C%209.066132264529058%2C%209.11623246492986%2C%209.16633266533066%2C%209.216432865731463%2C%209.266533066132265%2C%209.316633266533065%2C%209.366733466933868%2C%209.41683366733467%2C%209.46693386773547%2C%209.517034068136272%2C%209.567134268537075%2C%209.617234468937875%2C%209.667334669338677%2C%209.71743486973948%2C%209.76753507014028%2C%209.817635270541082%2C%209.867735470941884%2C%209.917835671342685%2C%209.967935871743487%2C%2010.01803607214429%2C%2010.06813627254509%2C%2010.118236472945892%2C%2010.168336673346694%2C%2010.218436873747494%2C%2010.268537074148297%2C%2010.318637274549099%2C%2010.3687374749499%2C%2010.418837675350701%2C%2010.468937875751504%2C%2010.519038076152304%2C%2010.569138276553106%2C%2010.619238476953909%2C%2010.669338677354709%2C%2010.719438877755511%2C%2010.769539078156313%2C%2010.819639278557114%2C%2010.869739478957916%2C%2010.919839679358718%2C%2010.969939879759519%2C%2011.02004008016032%2C%2011.070140280561123%2C%2011.120240480961924%2C%2011.170340681362726%2C%2011.220440881763528%2C%2011.270541082164328%2C%2011.32064128256513%2C%2011.370741482965931%2C%2011.420841683366733%2C%2011.470941883767535%2C%2011.521042084168336%2C%2011.571142284569138%2C%2011.62124248496994%2C%2011.67134268537074%2C%2011.721442885771543%2C%2011.771543086172345%2C%2011.821643286573146%2C%2011.871743486973948%2C%2011.92184368737475%2C%2011.97194388777555%2C%2012.022044088176353%2C%2012.072144288577155%2C%2012.122244488977955%2C%2012.172344689378757%2C%2012.22244488977956%2C%2012.27254509018036%2C%2012.322645290581162%2C%2012.372745490981965%2C%2012.422845691382765%2C%2012.472945891783567%2C%2012.52304609218437%2C%2012.57314629258517%2C%2012.623246492985972%2C%2012.673346693386774%2C%2012.723446893787575%2C%2012.773547094188377%2C%2012.823647294589179%2C%2012.87374749498998%2C%2012.923847695390782%2C%2012.973947895791584%2C%2013.024048096192384%2C%2013.074148296593187%2C%2013.124248496993989%2C%2013.17434869739479%2C%2013.224448897795591%2C%2013.274549098196394%2C%2013.324649298597194%2C%2013.374749498997996%2C%2013.424849699398798%2C%2013.474949899799599%2C%2013.525050100200401%2C%2013.575150300601202%2C%2013.625250501002004%2C%2013.675350701402806%2C%2013.725450901803606%2C%2013.775551102204409%2C%2013.82565130260521%2C%2013.875751503006011%2C%2013.925851703406813%2C%2013.975951903807616%2C%2014.026052104208416%2C%2014.076152304609218%2C%2014.12625250501002%2C%2014.176352705410821%2C%2014.226452905811623%2C%2014.276553106212425%2C%2014.326653306613226%2C%2014.376753507014028%2C%2014.42685370741483%2C%2014.47695390781563%2C%2014.527054108216433%2C%2014.577154308617235%2C%2014.627254509018035%2C%2014.677354709418838%2C%2014.72745490981964%2C%2014.77755511022044%2C%2014.827655310621243%2C%2014.877755511022045%2C%2014.927855711422845%2C%2014.977955911823647%2C%2015.02805611222445%2C%2015.07815631262525%2C%2015.128256513026052%2C%2015.178356713426854%2C%2015.228456913827655%2C%2015.278557114228457%2C%2015.32865731462926%2C%2015.37875751503006%2C%2015.428857715430862%2C%2015.478957915831664%2C%2015.529058116232465%2C%2015.579158316633267%2C%2015.629258517034069%2C%2015.67935871743487%2C%2015.729458917835672%2C%2015.779559118236472%2C%2015.829659318637274%2C%2015.879759519038076%2C%2015.929859719438877%2C%2015.97995991983968%2C%2016.03006012024048%2C%2016.080160320641284%2C%2016.130260521042082%2C%2016.180360721442888%2C%2016.230460921843687%2C%2016.28056112224449%2C%2016.33066132264529%2C%2016.38076152304609%2C%2016.430861723446895%2C%2016.480961923847694%2C%2016.531062124248496%2C%2016.5811623246493%2C%2016.6312625250501%2C%2016.681362725450903%2C%2016.7314629258517%2C%2016.781563126252507%2C%2016.831663326653306%2C%2016.881763527054108%2C%2016.93186372745491%2C%2016.98196392785571%2C%2017.03206412825651%2C%2017.082164328657313%2C%2017.132264529058116%2C%2017.182364729458918%2C%2017.23246492985972%2C%2017.282565130260522%2C%2017.33266533066132%2C%2017.382765531062123%2C%2017.432865731462925%2C%2017.482965931863728%2C%2017.53306613226453%2C%2017.583166332665332%2C%2017.63326653306613%2C%2017.683366733466933%2C%2017.733466933867735%2C%2017.783567134268537%2C%2017.83366733466934%2C%2017.88376753507014%2C%2017.93386773547094%2C%2017.983967935871743%2C%2018.034068136272545%2C%2018.084168336673347%2C%2018.13426853707415%2C%2018.18436873747495%2C%2018.23446893787575%2C%2018.284569138276552%2C%2018.334669338677354%2C%2018.384769539078157%2C%2018.43486973947896%2C%2018.48496993987976%2C%2018.53507014028056%2C%2018.585170340681362%2C%2018.635270541082164%2C%2018.685370741482966%2C%2018.73547094188377%2C%2018.78557114228457%2C%2018.83567134268537%2C%2018.88577154308617%2C%2018.935871743486974%2C%2018.985971943887776%2C%2019.03607214428858%2C%2019.08617234468938%2C%2019.13627254509018%2C%2019.18637274549098%2C%2019.236472945891784%2C%2019.286573146292586%2C%2019.336673346693388%2C%2019.386773547094187%2C%2019.43687374749499%2C%2019.48697394789579%2C%2019.537074148296593%2C%2019.587174348697395%2C%2019.637274549098198%2C%2019.687374749498996%2C%2019.7374749498998%2C%2019.7875751503006%2C%2019.837675350701403%2C%2019.887775551102205%2C%2019.937875751503007%2C%2019.987975951903806%2C%2020.03807615230461%2C%2020.08817635270541%2C%2020.138276553106213%2C%2020.188376753507015%2C%2020.238476953907817%2C%2020.288577154308616%2C%2020.338677354709418%2C%2020.38877755511022%2C%2020.438877755511022%2C%2020.488977955911825%2C%2020.539078156312627%2C%2020.589178356713425%2C%2020.639278557114228%2C%2020.68937875751503%2C%2020.739478957915832%2C%2020.789579158316634%2C%2020.839679358717436%2C%2020.889779559118235%2C%2020.939879759519037%2C%2020.98997995991984%2C%2021.04008016032064%2C%2021.090180360721444%2C%2021.140280561122246%2C%2021.190380761523045%2C%2021.240480961923847%2C%2021.29058116232465%2C%2021.34068136272545%2C%2021.390781563126254%2C%2021.440881763527056%2C%2021.490981963927855%2C%2021.541082164328657%2C%2021.59118236472946%2C%2021.64128256513026%2C%2021.691382765531063%2C%2021.741482965931862%2C%2021.791583166332664%2C%2021.841683366733466%2C%2021.89178356713427%2C%2021.94188376753507%2C%2021.991983967935873%2C%2022.04208416833667%2C%2022.092184368737474%2C%2022.142284569138276%2C%2022.19238476953908%2C%2022.24248496993988%2C%2022.292585170340683%2C%2022.34268537074148%2C%2022.392785571142284%2C%2022.442885771543086%2C%2022.492985971943888%2C%2022.54308617234469%2C%2022.593186372745492%2C%2022.64328657314629%2C%2022.693386773547093%2C%2022.743486973947896%2C%2022.793587174348698%2C%2022.8436873747495%2C%2022.893787575150302%2C%2022.9438877755511%2C%2022.993987975951903%2C%2023.044088176352705%2C%2023.094188376753507%2C%2023.14428857715431%2C%2023.194388777555112%2C%2023.24448897795591%2C%2023.294589178356713%2C%2023.344689378757515%2C%2023.394789579158317%2C%2023.44488977955912%2C%2023.49498997995992%2C%2023.54509018036072%2C%2023.595190380761522%2C%2023.645290581162325%2C%2023.695390781563127%2C%2023.74549098196393%2C%2023.795591182364728%2C%2023.84569138276553%2C%2023.895791583166332%2C%2023.945891783567134%2C%2023.995991983967937%2C%2024.04609218436874%2C%2024.096192384769537%2C%2024.14629258517034%2C%2024.196392785571142%2C%2024.246492985971944%2C%2024.296593186372746%2C%2024.34669338677355%2C%2024.396793587174347%2C%2024.44689378757515%2C%2024.49699398797595%2C%2024.547094188376754%2C%2024.597194388777556%2C%2024.647294589178358%2C%2024.697394789579157%2C%2024.74749498997996%2C%2024.79759519038076%2C%2024.847695390781563%2C%2024.897795591182366%2C%2024.947895791583168%2C%2024.997995991983966%2C%2025.04809619238477%2C%2025.09819639278557%2C%2025.148296593186373%2C%2025.198396793587175%2C%2025.248496993987978%2C%2025.298597194388776%2C%2025.34869739478958%2C%2025.39879759519038%2C%2025.448897795591183%2C%2025.498997995991985%2C%2025.549098196392787%2C%2025.599198396793586%2C%2025.649298597194388%2C%2025.69939879759519%2C%2025.749498997995993%2C%2025.799599198396795%2C%2025.849699398797597%2C%2025.899799599198396%2C%2025.949899799599198%2C%2026.0%5D%29%0A%20%20%20%20%20%20%20%20%20%20%20%20%20%20.range%28%5B%27%23008000ff%27%2C%20%27%23018100ff%27%2C%20%27%23028100ff%27%2C%20%27%23038200ff%27%2C%20%27%23048200ff%27%2C%20%27%23058300ff%27%2C%20%27%23068300ff%27%2C%20%27%23078400ff%27%2C%20%27%23088400ff%27%2C%20%27%23098500ff%27%2C%20%27%230a8500ff%27%2C%20%27%230b8600ff%27%2C%20%27%230c8600ff%27%2C%20%27%230d8700ff%27%2C%20%27%230e8700ff%27%2C%20%27%230f8800ff%27%2C%20%27%23108800ff%27%2C%20%27%23118900ff%27%2C%20%27%23128900ff%27%2C%20%27%23138a00ff%27%2C%20%27%23148a00ff%27%2C%20%27%23158b00ff%27%2C%20%27%23168b00ff%27%2C%20%27%23178c00ff%27%2C%20%27%23188c00ff%27%2C%20%27%23198d00ff%27%2C%20%27%231a8d00ff%27%2C%20%27%231b8e00ff%27%2C%20%27%231c8e00ff%27%2C%20%27%231d8f00ff%27%2C%20%27%231e8f00ff%27%2C%20%27%231f9000ff%27%2C%20%27%23209000ff%27%2C%20%27%23219100ff%27%2C%20%27%23229100ff%27%2C%20%27%23239200ff%27%2C%20%27%23249200ff%27%2C%20%27%23259300ff%27%2C%20%27%23269300ff%27%2C%20%27%23289400ff%27%2C%20%27%23299400ff%27%2C%20%27%232a9500ff%27%2C%20%27%232b9500ff%27%2C%20%27%232c9600ff%27%2C%20%27%232d9600ff%27%2C%20%27%232e9700ff%27%2C%20%27%232f9800ff%27%2C%20%27%23309800ff%27%2C%20%27%23319900ff%27%2C%20%27%23329900ff%27%2C%20%27%23339a00ff%27%2C%20%27%23349a00ff%27%2C%20%27%23359b00ff%27%2C%20%27%23369b00ff%27%2C%20%27%23379c00ff%27%2C%20%27%23389c00ff%27%2C%20%27%23399d00ff%27%2C%20%27%233a9d00ff%27%2C%20%27%233b9e00ff%27%2C%20%27%233c9e00ff%27%2C%20%27%233d9f00ff%27%2C%20%27%233e9f00ff%27%2C%20%27%233fa000ff%27%2C%20%27%2340a000ff%27%2C%20%27%2341a100ff%27%2C%20%27%2342a100ff%27%2C%20%27%2343a200ff%27%2C%20%27%2344a200ff%27%2C%20%27%2345a300ff%27%2C%20%27%2346a300ff%27%2C%20%27%2347a400ff%27%2C%20%27%2348a400ff%27%2C%20%27%2349a500ff%27%2C%20%27%234aa500ff%27%2C%20%27%234ba600ff%27%2C%20%27%234ca600ff%27%2C%20%27%234da700ff%27%2C%20%27%234fa700ff%27%2C%20%27%2350a800ff%27%2C%20%27%2351a800ff%27%2C%20%27%2352a900ff%27%2C%20%27%2353a900ff%27%2C%20%27%2354aa00ff%27%2C%20%27%2355aa00ff%27%2C%20%27%2356ab00ff%27%2C%20%27%2357ab00ff%27%2C%20%27%2358ac00ff%27%2C%20%27%2359ac00ff%27%2C%20%27%235aad00ff%27%2C%20%27%235bad00ff%27%2C%20%27%235cae00ff%27%2C%20%27%235daf00ff%27%2C%20%27%235eaf00ff%27%2C%20%27%235fb000ff%27%2C%20%27%2360b000ff%27%2C%20%27%2361b100ff%27%2C%20%27%2362b100ff%27%2C%20%27%2363b200ff%27%2C%20%27%2364b200ff%27%2C%20%27%2365b300ff%27%2C%20%27%2366b300ff%27%2C%20%27%2367b400ff%27%2C%20%27%2368b400ff%27%2C%20%27%2369b500ff%27%2C%20%27%236ab500ff%27%2C%20%27%236bb600ff%27%2C%20%27%236cb600ff%27%2C%20%27%236db700ff%27%2C%20%27%236eb700ff%27%2C%20%27%236fb800ff%27%2C%20%27%2370b800ff%27%2C%20%27%2371b900ff%27%2C%20%27%2372b900ff%27%2C%20%27%2373ba00ff%27%2C%20%27%2374ba00ff%27%2C%20%27%2375bb00ff%27%2C%20%27%2377bb00ff%27%2C%20%27%2378bc00ff%27%2C%20%27%2379bc00ff%27%2C%20%27%237abd00ff%27%2C%20%27%237bbd00ff%27%2C%20%27%237cbe00ff%27%2C%20%27%237dbe00ff%27%2C%20%27%237ebf00ff%27%2C%20%27%237fbf00ff%27%2C%20%27%2380c000ff%27%2C%20%27%2381c000ff%27%2C%20%27%2382c100ff%27%2C%20%27%2383c100ff%27%2C%20%27%2384c200ff%27%2C%20%27%2385c200ff%27%2C%20%27%2386c300ff%27%2C%20%27%2387c300ff%27%2C%20%27%2388c400ff%27%2C%20%27%2389c400ff%27%2C%20%27%238ac500ff%27%2C%20%27%238bc500ff%27%2C%20%27%238cc600ff%27%2C%20%27%238dc700ff%27%2C%20%27%238ec700ff%27%2C%20%27%238fc800ff%27%2C%20%27%2390c800ff%27%2C%20%27%2391c900ff%27%2C%20%27%2392c900ff%27%2C%20%27%2393ca00ff%27%2C%20%27%2394ca00ff%27%2C%20%27%2395cb00ff%27%2C%20%27%2396cb00ff%27%2C%20%27%2397cc00ff%27%2C%20%27%2398cc00ff%27%2C%20%27%2399cd00ff%27%2C%20%27%239acd00ff%27%2C%20%27%239bce00ff%27%2C%20%27%239cce00ff%27%2C%20%27%239ecf00ff%27%2C%20%27%239fcf00ff%27%2C%20%27%23a0d000ff%27%2C%20%27%23a1d000ff%27%2C%20%27%23a2d100ff%27%2C%20%27%23a3d100ff%27%2C%20%27%23a4d200ff%27%2C%20%27%23a5d200ff%27%2C%20%27%23a6d300ff%27%2C%20%27%23a7d300ff%27%2C%20%27%23a8d400ff%27%2C%20%27%23a9d400ff%27%2C%20%27%23aad500ff%27%2C%20%27%23abd500ff%27%2C%20%27%23acd600ff%27%2C%20%27%23add600ff%27%2C%20%27%23aed700ff%27%2C%20%27%23afd700ff%27%2C%20%27%23b0d800ff%27%2C%20%27%23b1d800ff%27%2C%20%27%23b2d900ff%27%2C%20%27%23b3d900ff%27%2C%20%27%23b4da00ff%27%2C%20%27%23b5da00ff%27%2C%20%27%23b6db00ff%27%2C%20%27%23b7db00ff%27%2C%20%27%23b8dc00ff%27%2C%20%27%23b9dc00ff%27%2C%20%27%23badd00ff%27%2C%20%27%23bbde00ff%27%2C%20%27%23bcde00ff%27%2C%20%27%23bddf00ff%27%2C%20%27%23bedf00ff%27%2C%20%27%23bfe000ff%27%2C%20%27%23c0e000ff%27%2C%20%27%23c1e100ff%27%2C%20%27%23c2e100ff%27%2C%20%27%23c3e200ff%27%2C%20%27%23c5e200ff%27%2C%20%27%23c6e300ff%27%2C%20%27%23c7e300ff%27%2C%20%27%23c8e400ff%27%2C%20%27%23c9e400ff%27%2C%20%27%23cae500ff%27%2C%20%27%23cbe500ff%27%2C%20%27%23cce600ff%27%2C%20%27%23cde600ff%27%2C%20%27%23cee700ff%27%2C%20%27%23cfe700ff%27%2C%20%27%23d0e800ff%27%2C%20%27%23d1e800ff%27%2C%20%27%23d2e900ff%27%2C%20%27%23d3e900ff%27%2C%20%27%23d4ea00ff%27%2C%20%27%23d5ea00ff%27%2C%20%27%23d6eb00ff%27%2C%20%27%23d7eb00ff%27%2C%20%27%23d8ec00ff%27%2C%20%27%23d9ec00ff%27%2C%20%27%23daed00ff%27%2C%20%27%23dbed00ff%27%2C%20%27%23dcee00ff%27%2C%20%27%23ddee00ff%27%2C%20%27%23deef00ff%27%2C%20%27%23dfef00ff%27%2C%20%27%23e0f000ff%27%2C%20%27%23e1f000ff%27%2C%20%27%23e2f100ff%27%2C%20%27%23e3f100ff%27%2C%20%27%23e4f200ff%27%2C%20%27%23e5f200ff%27%2C%20%27%23e6f300ff%27%2C%20%27%23e7f300ff%27%2C%20%27%23e8f400ff%27%2C%20%27%23e9f500ff%27%2C%20%27%23eaf500ff%27%2C%20%27%23ebf600ff%27%2C%20%27%23edf600ff%27%2C%20%27%23eef700ff%27%2C%20%27%23eff700ff%27%2C%20%27%23f0f800ff%27%2C%20%27%23f1f800ff%27%2C%20%27%23f2f900ff%27%2C%20%27%23f3f900ff%27%2C%20%27%23f4fa00ff%27%2C%20%27%23f5fa00ff%27%2C%20%27%23f6fb00ff%27%2C%20%27%23f7fb00ff%27%2C%20%27%23f8fc00ff%27%2C%20%27%23f9fc00ff%27%2C%20%27%23fafd00ff%27%2C%20%27%23fbfd00ff%27%2C%20%27%23fcfe00ff%27%2C%20%27%23fdfe00ff%27%2C%20%27%23feff00ff%27%2C%20%27%23ffff00ff%27%2C%20%27%23ffff00ff%27%2C%20%27%23fffe00ff%27%2C%20%27%23fffd00ff%27%2C%20%27%23fffc00ff%27%2C%20%27%23fffb00ff%27%2C%20%27%23fffa00ff%27%2C%20%27%23fff900ff%27%2C%20%27%23fff800ff%27%2C%20%27%23fff700ff%27%2C%20%27%23fff600ff%27%2C%20%27%23fff500ff%27%2C%20%27%23fff400ff%27%2C%20%27%23fff300ff%27%2C%20%27%23fff200ff%27%2C%20%27%23fff100ff%27%2C%20%27%23fff000ff%27%2C%20%27%23ffef00ff%27%2C%20%27%23ffee00ff%27%2C%20%27%23ffed00ff%27%2C%20%27%23ffeb00ff%27%2C%20%27%23ffea00ff%27%2C%20%27%23ffe900ff%27%2C%20%27%23ffe800ff%27%2C%20%27%23ffe700ff%27%2C%20%27%23ffe600ff%27%2C%20%27%23ffe500ff%27%2C%20%27%23ffe400ff%27%2C%20%27%23ffe300ff%27%2C%20%27%23ffe200ff%27%2C%20%27%23ffe100ff%27%2C%20%27%23ffe000ff%27%2C%20%27%23ffdf00ff%27%2C%20%27%23ffde00ff%27%2C%20%27%23ffdd00ff%27%2C%20%27%23ffdc00ff%27%2C%20%27%23ffdb00ff%27%2C%20%27%23ffda00ff%27%2C%20%27%23ffd900ff%27%2C%20%27%23ffd800ff%27%2C%20%27%23ffd700ff%27%2C%20%27%23ffd600ff%27%2C%20%27%23ffd500ff%27%2C%20%27%23ffd400ff%27%2C%20%27%23ffd300ff%27%2C%20%27%23ffd200ff%27%2C%20%27%23ffd100ff%27%2C%20%27%23ffd000ff%27%2C%20%27%23ffcf00ff%27%2C%20%27%23ffce00ff%27%2C%20%27%23ffcd00ff%27%2C%20%27%23ffcc00ff%27%2C%20%27%23ffcb00ff%27%2C%20%27%23ffca00ff%27%2C%20%27%23ffc900ff%27%2C%20%27%23ffc800ff%27%2C%20%27%23ffc700ff%27%2C%20%27%23ffc600ff%27%2C%20%27%23ffc500ff%27%2C%20%27%23ffc300ff%27%2C%20%27%23ffc200ff%27%2C%20%27%23ffc100ff%27%2C%20%27%23ffc000ff%27%2C%20%27%23ffbf00ff%27%2C%20%27%23ffbe00ff%27%2C%20%27%23ffbd00ff%27%2C%20%27%23ffbc00ff%27%2C%20%27%23ffbb00ff%27%2C%20%27%23ffba00ff%27%2C%20%27%23ffb900ff%27%2C%20%27%23ffb800ff%27%2C%20%27%23ffb700ff%27%2C%20%27%23ffb600ff%27%2C%20%27%23ffb500ff%27%2C%20%27%23ffb400ff%27%2C%20%27%23ffb300ff%27%2C%20%27%23ffb200ff%27%2C%20%27%23ffb100ff%27%2C%20%27%23ffb000ff%27%2C%20%27%23ffaf00ff%27%2C%20%27%23ffae00ff%27%2C%20%27%23ffad00ff%27%2C%20%27%23ffac00ff%27%2C%20%27%23ffab00ff%27%2C%20%27%23ffaa00ff%27%2C%20%27%23ffa900ff%27%2C%20%27%23ffa800ff%27%2C%20%27%23ffa700ff%27%2C%20%27%23ffa600ff%27%2C%20%27%23ffa500ff%27%2C%20%27%23ffa400ff%27%2C%20%27%23ffa300ff%27%2C%20%27%23ffa200ff%27%2C%20%27%23ffa100ff%27%2C%20%27%23ffa000ff%27%2C%20%27%23ff9f00ff%27%2C%20%27%23ff9e00ff%27%2C%20%27%23ff9c00ff%27%2C%20%27%23ff9b00ff%27%2C%20%27%23ff9a00ff%27%2C%20%27%23ff9900ff%27%2C%20%27%23ff9800ff%27%2C%20%27%23ff9700ff%27%2C%20%27%23ff9600ff%27%2C%20%27%23ff9500ff%27%2C%20%27%23ff9400ff%27%2C%20%27%23ff9300ff%27%2C%20%27%23ff9200ff%27%2C%20%27%23ff9100ff%27%2C%20%27%23ff9000ff%27%2C%20%27%23ff8f00ff%27%2C%20%27%23ff8e00ff%27%2C%20%27%23ff8d00ff%27%2C%20%27%23ff8c00ff%27%2C%20%27%23ff8b00ff%27%2C%20%27%23ff8a00ff%27%2C%20%27%23ff8900ff%27%2C%20%27%23ff8800ff%27%2C%20%27%23ff8700ff%27%2C%20%27%23ff8600ff%27%2C%20%27%23ff8500ff%27%2C%20%27%23ff8400ff%27%2C%20%27%23ff8300ff%27%2C%20%27%23ff8200ff%27%2C%20%27%23ff8100ff%27%2C%20%27%23ff8000ff%27%2C%20%27%23ff7f00ff%27%2C%20%27%23ff7e00ff%27%2C%20%27%23ff7d00ff%27%2C%20%27%23ff7c00ff%27%2C%20%27%23ff7b00ff%27%2C%20%27%23ff7a00ff%27%2C%20%27%23ff7900ff%27%2C%20%27%23ff7800ff%27%2C%20%27%23ff7700ff%27%2C%20%27%23ff7500ff%27%2C%20%27%23ff7400ff%27%2C%20%27%23ff7300ff%27%2C%20%27%23ff7200ff%27%2C%20%27%23ff7100ff%27%2C%20%27%23ff7000ff%27%2C%20%27%23ff6f00ff%27%2C%20%27%23ff6e00ff%27%2C%20%27%23ff6d00ff%27%2C%20%27%23ff6c00ff%27%2C%20%27%23ff6b00ff%27%2C%20%27%23ff6a00ff%27%2C%20%27%23ff6900ff%27%2C%20%27%23ff6800ff%27%2C%20%27%23ff6700ff%27%2C%20%27%23ff6600ff%27%2C%20%27%23ff6500ff%27%2C%20%27%23ff6400ff%27%2C%20%27%23ff6300ff%27%2C%20%27%23ff6200ff%27%2C%20%27%23ff6100ff%27%2C%20%27%23ff6000ff%27%2C%20%27%23ff5f00ff%27%2C%20%27%23ff5e00ff%27%2C%20%27%23ff5d00ff%27%2C%20%27%23ff5c00ff%27%2C%20%27%23ff5b00ff%27%2C%20%27%23ff5a00ff%27%2C%20%27%23ff5900ff%27%2C%20%27%23ff5800ff%27%2C%20%27%23ff5700ff%27%2C%20%27%23ff5600ff%27%2C%20%27%23ff5500ff%27%2C%20%27%23ff5400ff%27%2C%20%27%23ff5300ff%27%2C%20%27%23ff5200ff%27%2C%20%27%23ff5100ff%27%2C%20%27%23ff5000ff%27%2C%20%27%23ff4f00ff%27%2C%20%27%23ff4d00ff%27%2C%20%27%23ff4c00ff%27%2C%20%27%23ff4b00ff%27%2C%20%27%23ff4a00ff%27%2C%20%27%23ff4900ff%27%2C%20%27%23ff4800ff%27%2C%20%27%23ff4700ff%27%2C%20%27%23ff4600ff%27%2C%20%27%23ff4500ff%27%2C%20%27%23ff4400ff%27%2C%20%27%23ff4300ff%27%2C%20%27%23ff4200ff%27%2C%20%27%23ff4100ff%27%2C%20%27%23ff4000ff%27%2C%20%27%23ff3f00ff%27%2C%20%27%23ff3e00ff%27%2C%20%27%23ff3d00ff%27%2C%20%27%23ff3c00ff%27%2C%20%27%23ff3b00ff%27%2C%20%27%23ff3a00ff%27%2C%20%27%23ff3900ff%27%2C%20%27%23ff3800ff%27%2C%20%27%23ff3700ff%27%2C%20%27%23ff3600ff%27%2C%20%27%23ff3500ff%27%2C%20%27%23ff3400ff%27%2C%20%27%23ff3300ff%27%2C%20%27%23ff3200ff%27%2C%20%27%23ff3100ff%27%2C%20%27%23ff3000ff%27%2C%20%27%23ff2f00ff%27%2C%20%27%23ff2e00ff%27%2C%20%27%23ff2d00ff%27%2C%20%27%23ff2c00ff%27%2C%20%27%23ff2b00ff%27%2C%20%27%23ff2a00ff%27%2C%20%27%23ff2900ff%27%2C%20%27%23ff2800ff%27%2C%20%27%23ff2600ff%27%2C%20%27%23ff2500ff%27%2C%20%27%23ff2400ff%27%2C%20%27%23ff2300ff%27%2C%20%27%23ff2200ff%27%2C%20%27%23ff2100ff%27%2C%20%27%23ff2000ff%27%2C%20%27%23ff1f00ff%27%2C%20%27%23ff1e00ff%27%2C%20%27%23ff1d00ff%27%2C%20%27%23ff1c00ff%27%2C%20%27%23ff1b00ff%27%2C%20%27%23ff1a00ff%27%2C%20%27%23ff1900ff%27%2C%20%27%23ff1800ff%27%2C%20%27%23ff1700ff%27%2C%20%27%23ff1600ff%27%2C%20%27%23ff1500ff%27%2C%20%27%23ff1400ff%27%2C%20%27%23ff1300ff%27%2C%20%27%23ff1200ff%27%2C%20%27%23ff1100ff%27%2C%20%27%23ff1000ff%27%2C%20%27%23ff0f00ff%27%2C%20%27%23ff0e00ff%27%2C%20%27%23ff0d00ff%27%2C%20%27%23ff0c00ff%27%2C%20%27%23ff0b00ff%27%2C%20%27%23ff0a00ff%27%2C%20%27%23ff0900ff%27%2C%20%27%23ff0800ff%27%2C%20%27%23ff0700ff%27%2C%20%27%23ff0600ff%27%2C%20%27%23ff0500ff%27%2C%20%27%23ff0400ff%27%2C%20%27%23ff0300ff%27%2C%20%27%23ff0200ff%27%2C%20%27%23ff0100ff%27%2C%20%27%23ff0000ff%27%5D%29%3B%0A%20%20%20%20%0A%0A%20%20%20%20color_map_7119ce236e804aaea72c94513cb4ecde.x%20%3D%20d3.scale.linear%28%29%0A%20%20%20%20%20%20%20%20%20%20%20%20%20%20.domain%28%5B1.0%2C%2026.0%5D%29%0A%20%20%20%20%20%20%20%20%20%20%20%20%20%20.range%28%5B0%2C%20400%5D%29%3B%0A%0A%20%20%20%20color_map_7119ce236e804aaea72c94513cb4ecde.legend%20%3D%20L.control%28%7Bposition%3A%20%27topright%27%7D%29%3B%0A%20%20%20%20color_map_7119ce236e804aaea72c94513cb4ecde.legend.onAdd%20%3D%20function%20%28map%29%20%7Bvar%20div%20%3D%20L.DomUtil.create%28%27div%27%2C%20%27legend%27%29%3B%20return%20div%7D%3B%0A%20%20%20%20color_map_7119ce236e804aaea72c94513cb4ecde.legend.addTo%28map_e91229aebe914947b2c992be44966edd%29%3B%0A%0A%20%20%20%20color_map_7119ce236e804aaea72c94513cb4ecde.xAxis%20%3D%20d3.svg.axis%28%29%0A%20%20%20%20%20%20%20%20.scale%28color_map_7119ce236e804aaea72c94513cb4ecde.x%29%0A%20%20%20%20%20%20%20%20.orient%28%22top%22%29%0A%20%20%20%20%20%20%20%20.tickSize%281%29%0A%20%20%20%20%20%20%20%20.tickValues%28%5B1.0%2C%2013.5%2C%2026.0%5D%29%3B%0A%0A%20%20%20%20color_map_7119ce236e804aaea72c94513cb4ecde.svg%20%3D%20d3.select%28%22.legend.leaflet-control%22%29.append%28%22svg%22%29%0A%20%20%20%20%20%20%20%20.attr%28%22id%22%2C%20%27legend%27%29%0A%20%20%20%20%20%20%20%20.attr%28%22width%22%2C%20450%29%0A%20%20%20%20%20%20%20%20.attr%28%22height%22%2C%2040%29%3B%0A%0A%20%20%20%20color_map_7119ce236e804aaea72c94513cb4ecde.g%20%3D%20color_map_7119ce236e804aaea72c94513cb4ecde.svg.append%28%22g%22%29%0A%20%20%20%20%20%20%20%20.attr%28%22class%22%2C%20%22key%22%29%0A%20%20%20%20%20%20%20%20.attr%28%22transform%22%2C%20%22translate%2825%2C16%29%22%29%3B%0A%0A%20%20%20%20color_map_7119ce236e804aaea72c94513cb4ecde.g.selectAll%28%22rect%22%29%0A%20%20%20%20%20%20%20%20.data%28color_map_7119ce236e804aaea72c94513cb4ecde.color.range%28%29.map%28function%28d%2C%20i%29%20%7B%0A%20%20%20%20%20%20%20%20%20%20return%20%7B%0A%20%20%20%20%20%20%20%20%20%20%20%20x0%3A%20i%20%3F%20color_map_7119ce236e804aaea72c94513cb4ecde.x%28color_map_7119ce236e804aaea72c94513cb4ecde.color.domain%28%29%5Bi%20-%201%5D%29%20%3A%20color_map_7119ce236e804aaea72c94513cb4ecde.x.range%28%29%5B0%5D%2C%0A%20%20%20%20%20%20%20%20%20%20%20%20x1%3A%20i%20%3C%20color_map_7119ce236e804aaea72c94513cb4ecde.color.domain%28%29.length%20%3F%20color_map_7119ce236e804aaea72c94513cb4ecde.x%28color_map_7119ce236e804aaea72c94513cb4ecde.color.domain%28%29%5Bi%5D%29%20%3A%20color_map_7119ce236e804aaea72c94513cb4ecde.x.range%28%29%5B1%5D%2C%0A%20%20%20%20%20%20%20%20%20%20%20%20z%3A%20d%0A%20%20%20%20%20%20%20%20%20%20%7D%3B%0A%20%20%20%20%20%20%20%20%7D%29%29%0A%20%20%20%20%20%20.enter%28%29.append%28%22rect%22%29%0A%20%20%20%20%20%20%20%20.attr%28%22height%22%2C%2010%29%0A%20%20%20%20%20%20%20%20.attr%28%22x%22%2C%20function%28d%29%20%7B%20return%20d.x0%3B%20%7D%29%0A%20%20%20%20%20%20%20%20.attr%28%22width%22%2C%20function%28d%29%20%7B%20return%20d.x1%20-%20d.x0%3B%20%7D%29%0A%20%20%20%20%20%20%20%20.style%28%22fill%22%2C%20function%28d%29%20%7B%20return%20d.z%3B%20%7D%29%3B%0A%0A%20%20%20%20color_map_7119ce236e804aaea72c94513cb4ecde.g.call%28color_map_7119ce236e804aaea72c94513cb4ecde.xAxis%29.append%28%22text%22%29%0A%20%20%20%20%20%20%20%20.attr%28%22class%22%2C%20%22caption%22%29%0A%20%20%20%20%20%20%20%20.attr%28%22y%22%2C%2021%29%0A%20%20%20%20%20%20%20%20.text%28%27%27%29%3B%0A%20%20%20%20%0A%20%20%20%20%20%20%20%20var%20geo_json_5903209e10b440d8a9736d557b95824a%20%3D%20L.geoJson%28%0A%20%20%20%20%20%20%20%20%20%20%20%20%7B%22features%22%3A%20%5B%7B%22geometry%22%3A%20%7B%22coordinates%22%3A%20%5B%5B%5B-46.686741%2C%20-23.578189%5D%2C%20%5B-46.679292%2C%20-23.567792%5D%2C%20%5B-46.686106%2C%20-23.556729%5D%2C%20%5B-46.700367%2C%20-23.556063%5D%2C%20%5B-46.707815%2C%20-23.566461%5D%2C%20%5B-46.701002%2C%20-23.577524%5D%2C%20%5B-46.686741%2C%20-23.578189%5D%5D%5D%2C%20%22type%22%3A%20%22Polygon%22%7D%2C%20%22id%22%3A%20%2287a8100e8ffffff%22%2C%20%22properties%22%3A%20%7B%22highlight%22%3A%20%7B%7D%2C%20%22style%22%3A%20%7B%22color%22%3A%20%22black%22%2C%20%22fillColor%22%3A%20%22%23008000ff%22%2C%20%22fillOpacity%22%3A%200.7%2C%20%22weight%22%3A%201%7D%2C%20%22value%22%3A%202%7D%2C%20%22type%22%3A%20%22Feature%22%7D%2C%20%7B%22geometry%22%3A%20%7B%22coordinates%22%3A%20%5B%5B%5B-46.707815%2C%20-23.566461%5D%2C%20%5B-46.700367%2C%20-23.556063%5D%2C%20%5B-46.70718%2C%20-23.544998%5D%2C%20%5B-46.72144%2C%20-23.544331%5D%2C%20%5B-46.728888%2C%20-23.554728%5D%2C%20%5B-46.722076%2C%20-23.565793%5D%2C%20%5B-46.707815%2C%20-23.566461%5D%5D%5D%2C%20%22type%22%3A%20%22Polygon%22%7D%2C%20%22id%22%3A%20%2287a8100e9ffffff%22%2C%20%22properties%22%3A%20%7B%22highlight%22%3A%20%7B%7D%2C%20%22style%22%3A%20%7B%22color%22%3A%20%22black%22%2C%20%22fillColor%22%3A%20%22%23ff0000ff%22%2C%20%22fillOpacity%22%3A%200.7%2C%20%22weight%22%3A%201%7D%2C%20%22value%22%3A%2066%7D%2C%20%22type%22%3A%20%22Feature%22%7D%2C%20%7B%22geometry%22%3A%20%7B%22coordinates%22%3A%20%5B%5B%5B-46.686106%2C%20-23.556729%5D%2C%20%5B-46.678658%2C%20-23.546329%5D%2C%20%5B-46.685472%2C%20-23.535263%5D%2C%20%5B-46.699732%2C%20-23.534597%5D%2C%20%5B-46.70718%2C%20-23.544998%5D%2C%20%5B-46.700367%2C%20-23.556063%5D%2C%20%5B-46.686106%2C%20-23.556729%5D%5D%5D%2C%20%22type%22%3A%20%22Polygon%22%7D%2C%20%22id%22%3A%20%2287a8100ebffffff%22%2C%20%22properties%22%3A%20%7B%22highlight%22%3A%20%7B%7D%2C%20%22style%22%3A%20%7B%22color%22%3A%20%22black%22%2C%20%22fillColor%22%3A%20%22%231f9000ff%22%2C%20%22fillOpacity%22%3A%200.7%2C%20%22weight%22%3A%201%7D%2C%20%22value%22%3A%206%7D%2C%20%22type%22%3A%20%22Feature%22%7D%2C%20%7B%22geometry%22%3A%20%7B%22coordinates%22%3A%20%5B%5B%5B-46.728888%2C%20-23.554728%5D%2C%20%5B-46.72144%2C%20-23.544331%5D%2C%20%5B-46.728252%2C%20-23.533263%5D%2C%20%5B-46.742511%2C%20-23.532594%5D%2C%20%5B-46.749959%2C%20-23.542992%5D%2C%20%5B-46.743148%2C%20-23.554059%5D%2C%20%5B-46.728888%2C%20-23.554728%5D%5D%5D%2C%20%22type%22%3A%20%22Polygon%22%7D%2C%20%22id%22%3A%20%2287a8103b4ffffff%22%2C%20%22properties%22%3A%20%7B%22highlight%22%3A%20%7B%7D%2C%20%22style%22%3A%20%7B%22color%22%3A%20%22black%22%2C%20%22fillColor%22%3A%20%22%2377bc00ff%22%2C%20%22fillOpacity%22%3A%200.7%2C%20%22weight%22%3A%201%7D%2C%20%22value%22%3A%2017%7D%2C%20%22type%22%3A%20%22Feature%22%7D%2C%20%7B%22geometry%22%3A%20%7B%22coordinates%22%3A%20%5B%5B%5B-46.70718%2C%20-23.544998%5D%2C%20%5B-46.699732%2C%20-23.534597%5D%2C%20%5B-46.706545%2C%20-23.523529%5D%2C%20%5B-46.720805%2C%20-23.522862%5D%2C%20%5B-46.728252%2C%20-23.533263%5D%2C%20%5B-46.72144%2C%20-23.544331%5D%2C%20%5B-46.70718%2C%20-23.544998%5D%5D%5D%2C%20%22type%22%3A%20%22Polygon%22%7D%2C%20%22id%22%3A%20%2287a8103b6ffffff%22%2C%20%22properties%22%3A%20%7B%22highlight%22%3A%20%7B%7D%2C%20%22style%22%3A%20%7B%22color%22%3A%20%22black%22%2C%20%22fillColor%22%3A%20%22%234fa800ff%22%2C%20%22fillOpacity%22%3A%200.7%2C%20%22weight%22%3A%201%7D%2C%20%22value%22%3A%2012%7D%2C%20%22type%22%3A%20%22Feature%22%7D%5D%2C%20%22type%22%3A%20%22FeatureCollection%22%7D%2C%0A%20%20%20%20%20%20%20%20%20%20%20%20%7B%0A%20%20%20%20%20%20%20%20%20%20%20%20%7D%0A%20%20%20%20%20%20%20%20%29.addTo%28map_e91229aebe914947b2c992be44966edd%20%29%3B%0A%20%20%20%20%20%20%20%20geo_json_5903209e10b440d8a9736d557b95824a.setStyle%28function%28feature%29%20%7Breturn%20feature.properties.style%3B%7D%29%3B%0A%20%20%20%20%20%20%20%20%0A%20%20%20%20%0A%20%20%20%20%20%20%20%20var%20geo_json_fdf5bb510383498381a29f26802f8339%20%3D%20L.geoJson%28%0A%20%20%20%20%20%20%20%20%20%20%20%20%7B%22features%22%3A%20%5B%7B%22geometry%22%3A%20%7B%22coordinates%22%3A%20%5B%5B%5B-46.687375%2C%20-23.599644%5D%2C%20%5B-46.658215%2C%20-23.579517%5D%2C%20%5B-46.664396%2C%20-23.546992%5D%2C%20%5B-46.699732%2C%20-23.534597%5D%2C%20%5B-46.728888%2C%20-23.554728%5D%2C%20%5B-46.722712%2C%20-23.58725%5D%2C%20%5B-46.687375%2C%20-23.599644%5D%5D%5D%2C%20%22type%22%3A%20%22Polygon%22%7D%2C%20%22id%22%3A%20%2286a8100efffffff%22%2C%20%22properties%22%3A%20%7B%22highlight%22%3A%20%7B%7D%2C%20%22style%22%3A%20%7B%22color%22%3A%20%22black%22%2C%20%22fillColor%22%3A%20%22%23008000ff%22%2C%20%22fillOpacity%22%3A%200.7%2C%20%22weight%22%3A%201%7D%2C%20%22value%22%3A%2049%7D%2C%20%22type%22%3A%20%22Feature%22%7D%2C%20%7B%22geometry%22%3A%20%7B%22coordinates%22%3A%20%5B%5B%5B-46.728888%2C%20-23.554728%5D%2C%20%5B-46.699732%2C%20-23.534597%5D%2C%20%5B-46.70591%2C%20-23.502055%5D%2C%20%5B-46.741239%2C%20-23.489648%5D%2C%20%5B-46.77039%2C%20-23.509782%5D%2C%20%5B-46.764217%2C%20-23.542321%5D%2C%20%5B-46.728888%2C%20-23.554728%5D%5D%5D%2C%20%22type%22%3A%20%22Polygon%22%7D%2C%20%22id%22%3A%20%2286a8103b7ffffff%22%2C%20%22properties%22%3A%20%7B%22highlight%22%3A%20%7B%7D%2C%20%22style%22%3A%20%7B%22color%22%3A%20%22black%22%2C%20%22fillColor%22%3A%20%22%23ff0000ff%22%2C%20%22fillOpacity%22%3A%200.7%2C%20%22weight%22%3A%201%7D%2C%20%22value%22%3A%2054%7D%2C%20%22type%22%3A%20%22Feature%22%7D%5D%2C%20%22type%22%3A%20%22FeatureCollection%22%7D%2C%0A%20%20%20%20%20%20%20%20%20%20%20%20%7B%0A%20%20%20%20%20%20%20%20%20%20%20%20%7D%0A%20%20%20%20%20%20%20%20%29.addTo%28map_e91229aebe914947b2c992be44966edd%20%29%3B%0A%20%20%20%20%20%20%20%20geo_json_fdf5bb510383498381a29f26802f8339.setStyle%28function%28feature%29%20%7Breturn%20feature.properties.style%3B%7D%29%3B%0A%20%20%20%20%20%20%20%20%0A%20%20%20%20%0A%20%20%20%20%20%20%20%20var%20geo_json_9af98fe8cb4c4f3a8731182cf706e6a5%20%3D%20L.geoJson%28%0A%20%20%20%20%20%20%20%20%20%20%20%20%7B%22features%22%3A%20%5B%7B%22geometry%22%3A%20%7B%22coordinates%22%3A%20%5B%5B%5B-46.581337%2C%20-23.636775%5D%2C%20%5B-46.529194%2C%20-23.563965%5D%2C%20%5B-46.57692%2C%20-23.486515%5D%2C%20%5B-46.676755%2C%20-23.481905%5D%2C%20%5B-46.728888%2C%20-23.554728%5D%2C%20%5B-46.681196%2C%20-23.632149%5D%2C%20%5B-46.581337%2C%20-23.636775%5D%5D%5D%2C%20%22type%22%3A%20%22Polygon%22%7D%2C%20%22id%22%3A%20%2285a8100ffffffff%22%2C%20%22properties%22%3A%20%7B%22highlight%22%3A%20%7B%7D%2C%20%22style%22%3A%20%7B%22color%22%3A%20%22black%22%2C%20%22fillColor%22%3A%20%22%23ff0000ff%22%2C%20%22fillOpacity%22%3A%200.7%2C%20%22weight%22%3A%201%7D%2C%20%22value%22%3A%2081%7D%2C%20%22type%22%3A%20%22Feature%22%7D%2C%20%7B%22geometry%22%3A%20%7B%22coordinates%22%3A%20%5B%5B%5B-46.728888%2C%20-23.554728%5D%2C%20%5B-46.676755%2C%20-23.481905%5D%2C%20%5B-46.724438%2C%20-23.404355%5D%2C%20%5B-46.824219%2C%20-23.399658%5D%2C%20%5B-46.87634%2C%20-23.472496%5D%2C%20%5B-46.828692%2C%20-23.550016%5D%2C%20%5B-46.728888%2C%20-23.554728%5D%5D%5D%2C%20%22type%22%3A%20%22Polygon%22%7D%2C%20%22id%22%3A%20%2285a8103bfffffff%22%2C%20%22properties%22%3A%20%7B%22highlight%22%3A%20%7B%7D%2C%20%22style%22%3A%20%7B%22color%22%3A%20%22black%22%2C%20%22fillColor%22%3A%20%22%23008000ff%22%2C%20%22fillOpacity%22%3A%200.7%2C%20%22weight%22%3A%201%7D%2C%20%22value%22%3A%2022%7D%2C%20%22type%22%3A%20%22Feature%22%7D%5D%2C%20%22type%22%3A%20%22FeatureCollection%22%7D%2C%0A%20%20%20%20%20%20%20%20%20%20%20%20%7B%0A%20%20%20%20%20%20%20%20%20%20%20%20%7D%0A%20%20%20%20%20%20%20%20%29.addTo%28map_e91229aebe914947b2c992be44966edd%20%29%3B%0A%20%20%20%20%20%20%20%20geo_json_9af98fe8cb4c4f3a8731182cf706e6a5.setStyle%28function%28feature%29%20%7Breturn%20feature.properties.style%3B%7D%29%3B%0A%20%20%20%20%20%20%20%20%0A%20%20%20%20%0A%20%20%20%20%20%20%20%20%20%20%20%20var%20layer_control_093b88d2f6294fbc9c8d7973dfbb4108%20%3D%20%7B%0A%20%20%20%20%20%20%20%20%20%20%20%20%20%20%20%20base_layers%20%3A%20%7B%20%22cartodbpositron%22%20%3A%20tile_layer_259f5e51f6894b95ad71428febb67b8b%2C%20%7D%2C%0A%20%20%20%20%20%20%20%20%20%20%20%20%20%20%20%20overlays%20%3A%20%7B%20%22Choropleth%209%22%20%3A%20geo_json_ea5ed7566b2843839d7463b84e84268d%2C%22Choropleth%208%22%20%3A%20geo_json_c6b58467837143889af55619d649ed49%2C%22Choropleth%207%22%20%3A%20geo_json_5903209e10b440d8a9736d557b95824a%2C%22Choropleth%206%22%20%3A%20geo_json_fdf5bb510383498381a29f26802f8339%2C%22Choropleth%205%22%20%3A%20geo_json_9af98fe8cb4c4f3a8731182cf706e6a5%2C%20%7D%0A%20%20%20%20%20%20%20%20%20%20%20%20%20%20%20%20%7D%3B%0A%20%20%20%20%20%20%20%20%20%20%20%20L.control.layers%28%0A%20%20%20%20%20%20%20%20%20%20%20%20%20%20%20%20layer_control_093b88d2f6294fbc9c8d7973dfbb4108.base_layers%2C%0A%20%20%20%20%20%20%20%20%20%20%20%20%20%20%20%20layer_control_093b88d2f6294fbc9c8d7973dfbb4108.overlays%2C%0A%20%20%20%20%20%20%20%20%20%20%20%20%20%20%20%20%7Bposition%3A%20%27bottomright%27%2C%0A%20%20%20%20%20%20%20%20%20%20%20%20%20%20%20%20%20collapsed%3A%20false%2C%0A%20%20%20%20%20%20%20%20%20%20%20%20%20%20%20%20%20autoZIndex%3A%20true%0A%20%20%20%20%20%20%20%20%20%20%20%20%20%20%20%20%7D%29.addTo%28map_e91229aebe914947b2c992be44966edd%29%3B%0A%20%20%20%20%20%20%20%20%20%20%20%20%0A%20%20%20%20%20%20%20%20%0A%3C/script%3E onload=\"this.contentDocument.open();this.contentDocument.write(    decodeURIComponent(this.getAttribute('data-html')));this.contentDocument.close();\" allowfullscreen webkitallowfullscreen mozallowfullscreen></iframe></div></div>"
            ],
            "text/plain": [
              "<folium.folium.Map at 0x7f9ca3578590>"
            ]
          },
          "metadata": {
            "tags": []
          },
          "execution_count": 81
        },
        {
          "output_type": "stream",
          "text": [
            "time: 111 ms (started: 2021-07-20 01:53:42 +00:00)\n"
          ],
          "name": "stdout"
        }
      ]
    },
    {
      "cell_type": "code",
      "metadata": {
        "colab": {
          "base_uri": "https://localhost:8080/",
          "height": 1000
        },
        "id": "N0loQdRMhvd0",
        "outputId": "a0cefeea-63c0-4a50-e7db-71ec56908e94"
      },
      "source": [
        "get_map_dest(df_2019[df_2019['BAIRRO'] == 'ALTO DE PINHEIROS'])"
      ],
      "execution_count": null,
      "outputs": [
        {
          "output_type": "stream",
          "text": [
            "/usr/local/lib/python3.7/dist-packages/ipykernel_launcher.py:10: SettingWithCopyWarning:\n",
            "\n",
            "\n",
            "A value is trying to be set on a copy of a slice from a DataFrame.\n",
            "Try using .loc[row_indexer,col_indexer] = value instead\n",
            "\n",
            "See the caveats in the documentation: https://pandas.pydata.org/pandas-docs/stable/user_guide/indexing.html#returning-a-view-versus-a-copy\n",
            "\n"
          ],
          "name": "stderr"
        },
        {
          "output_type": "execute_result",
          "data": {
            "text/html": [
              "<div style=\"width:100%;\"><div style=\"position:relative;width:100%;height:0;padding-bottom:60%;\"><span style=\"color:#565656\">Make this Notebook Trusted to load map: File -> Trust Notebook</span><iframe src=\"about:blank\" style=\"position:absolute;width:100%;height:100%;left:0;top:0;border:none !important;\" data-html=%3C%21DOCTYPE%20html%3E%0A%3Chead%3E%20%20%20%20%0A%20%20%20%20%3Cmeta%20http-equiv%3D%22content-type%22%20content%3D%22text/html%3B%20charset%3DUTF-8%22%20/%3E%0A%20%20%20%20%3Cscript%3EL_PREFER_CANVAS%3Dfalse%3B%20L_NO_TOUCH%3Dfalse%3B%20L_DISABLE_3D%3Dfalse%3B%3C/script%3E%0A%20%20%20%20%3Cscript%20src%3D%22https%3A//cdn.jsdelivr.net/npm/leaflet%401.4.0/dist/leaflet.js%22%3E%3C/script%3E%0A%20%20%20%20%3Cscript%20src%3D%22https%3A//code.jquery.com/jquery-1.12.4.min.js%22%3E%3C/script%3E%0A%20%20%20%20%3Cscript%20src%3D%22https%3A//maxcdn.bootstrapcdn.com/bootstrap/3.2.0/js/bootstrap.min.js%22%3E%3C/script%3E%0A%20%20%20%20%3Cscript%20src%3D%22https%3A//cdnjs.cloudflare.com/ajax/libs/Leaflet.awesome-markers/2.0.2/leaflet.awesome-markers.js%22%3E%3C/script%3E%0A%20%20%20%20%3Clink%20rel%3D%22stylesheet%22%20href%3D%22https%3A//cdn.jsdelivr.net/npm/leaflet%401.4.0/dist/leaflet.css%22/%3E%0A%20%20%20%20%3Clink%20rel%3D%22stylesheet%22%20href%3D%22https%3A//maxcdn.bootstrapcdn.com/bootstrap/3.2.0/css/bootstrap.min.css%22/%3E%0A%20%20%20%20%3Clink%20rel%3D%22stylesheet%22%20href%3D%22https%3A//maxcdn.bootstrapcdn.com/bootstrap/3.2.0/css/bootstrap-theme.min.css%22/%3E%0A%20%20%20%20%3Clink%20rel%3D%22stylesheet%22%20href%3D%22https%3A//maxcdn.bootstrapcdn.com/font-awesome/4.6.3/css/font-awesome.min.css%22/%3E%0A%20%20%20%20%3Clink%20rel%3D%22stylesheet%22%20href%3D%22https%3A//cdnjs.cloudflare.com/ajax/libs/Leaflet.awesome-markers/2.0.2/leaflet.awesome-markers.css%22/%3E%0A%20%20%20%20%3Clink%20rel%3D%22stylesheet%22%20href%3D%22https%3A//rawcdn.githack.com/python-visualization/folium/master/folium/templates/leaflet.awesome.rotate.css%22/%3E%0A%20%20%20%20%3Cstyle%3Ehtml%2C%20body%20%7Bwidth%3A%20100%25%3Bheight%3A%20100%25%3Bmargin%3A%200%3Bpadding%3A%200%3B%7D%3C/style%3E%0A%20%20%20%20%3Cstyle%3E%23map%20%7Bposition%3Aabsolute%3Btop%3A0%3Bbottom%3A0%3Bright%3A0%3Bleft%3A0%3B%7D%3C/style%3E%0A%20%20%20%20%0A%20%20%20%20%3Cmeta%20name%3D%22viewport%22%20content%3D%22width%3Ddevice-width%2C%0A%20%20%20%20%20%20%20%20initial-scale%3D1.0%2C%20maximum-scale%3D1.0%2C%20user-scalable%3Dno%22%20/%3E%0A%20%20%20%20%3Cstyle%3E%23map_d6c5e40be16145bf874c23448c89ea99%20%7B%0A%20%20%20%20%20%20%20%20position%3A%20relative%3B%0A%20%20%20%20%20%20%20%20width%3A%20100.0%25%3B%0A%20%20%20%20%20%20%20%20height%3A%20100.0%25%3B%0A%20%20%20%20%20%20%20%20left%3A%200.0%25%3B%0A%20%20%20%20%20%20%20%20top%3A%200.0%25%3B%0A%20%20%20%20%20%20%20%20%7D%0A%20%20%20%20%3C/style%3E%0A%3C/head%3E%0A%3Cbody%3E%20%20%20%20%0A%20%20%20%20%0A%20%20%20%20%3Cdiv%20class%3D%22folium-map%22%20id%3D%22map_d6c5e40be16145bf874c23448c89ea99%22%20%3E%3C/div%3E%0A%3C/body%3E%0A%3Cscript%3E%20%20%20%20%0A%20%20%20%20%0A%20%20%20%20%0A%20%20%20%20%20%20%20%20var%20bounds%20%3D%20null%3B%0A%20%20%20%20%0A%0A%20%20%20%20var%20map_d6c5e40be16145bf874c23448c89ea99%20%3D%20L.map%28%0A%20%20%20%20%20%20%20%20%27map_d6c5e40be16145bf874c23448c89ea99%27%2C%20%7B%0A%20%20%20%20%20%20%20%20center%3A%20%5B-23.6835%2C%20-46.7674%5D%2C%0A%20%20%20%20%20%20%20%20zoom%3A%2012%2C%0A%20%20%20%20%20%20%20%20maxBounds%3A%20bounds%2C%0A%20%20%20%20%20%20%20%20layers%3A%20%5B%5D%2C%0A%20%20%20%20%20%20%20%20worldCopyJump%3A%20false%2C%0A%20%20%20%20%20%20%20%20crs%3A%20L.CRS.EPSG3857%2C%0A%20%20%20%20%20%20%20%20zoomControl%3A%20true%2C%0A%20%20%20%20%20%20%20%20%7D%29%3B%0A%0A%0A%20%20%20%20%0A%20%20%20%20var%20tile_layer_1750ddc2b8e44a4ea8f1963e7b07bf93%20%3D%20L.tileLayer%28%0A%20%20%20%20%20%20%20%20%27https%3A//cartodb-basemaps-%7Bs%7D.global.ssl.fastly.net/light_all/%7Bz%7D/%7Bx%7D/%7By%7D.png%27%2C%0A%20%20%20%20%20%20%20%20%7B%0A%20%20%20%20%20%20%20%20%22attribution%22%3A%20%22%5Cu00a9%20%3Ca%20href%3D%5C%22http%3A//www.openstreetmap.org/copyright%5C%22%3EOpenStreetMap%3C/a%3E%20contributors%20%5Cu00a9%20%3Ca%20href%3D%5C%22http%3A//cartodb.com/attributions%23basemaps%5C%22%3ECartoDB%3C/a%3E%22%2C%0A%20%20%20%20%20%20%20%20%22detectRetina%22%3A%20false%2C%0A%20%20%20%20%20%20%20%20%22maxNativeZoom%22%3A%2018%2C%0A%20%20%20%20%20%20%20%20%22maxZoom%22%3A%2018%2C%0A%20%20%20%20%20%20%20%20%22minZoom%22%3A%200%2C%0A%20%20%20%20%20%20%20%20%22noWrap%22%3A%20false%2C%0A%20%20%20%20%20%20%20%20%22opacity%22%3A%201%2C%0A%20%20%20%20%20%20%20%20%22subdomains%22%3A%20%22abc%22%2C%0A%20%20%20%20%20%20%20%20%22tms%22%3A%20false%0A%7D%29.addTo%28map_d6c5e40be16145bf874c23448c89ea99%29%3B%0A%20%20%20%20%0A%20%20%20%20%20%20%20%20var%20geo_json_fff34afb04974526b6282f4c0a1fb792%20%3D%20L.geoJson%28%0A%20%20%20%20%20%20%20%20%20%20%20%20%7B%22features%22%3A%20%5B%7B%22geometry%22%3A%20%7B%22coordinates%22%3A%20%5B%5B%5B-46.698421%2C%20-23.559225%5D%2C%20%5B-46.697357%2C%20-23.557739%5D%2C%20%5B-46.69833%2C%20-23.556158%5D%2C%20%5B-46.700367%2C%20-23.556063%5D%2C%20%5B-46.701431%2C%20-23.557549%5D%2C%20%5B-46.700458%2C%20-23.559129%5D%2C%20%5B-46.698421%2C%20-23.559225%5D%5D%5D%2C%20%22type%22%3A%20%22Polygon%22%7D%2C%20%22id%22%3A%20%2289a8100e82fffff%22%2C%20%22properties%22%3A%20%7B%22highlight%22%3A%20%7B%7D%2C%20%22style%22%3A%20%7B%22color%22%3A%20%22black%22%2C%20%22fillColor%22%3A%20%22%23008000ff%22%2C%20%22fillOpacity%22%3A%200.7%2C%20%22weight%22%3A%201%7D%2C%20%22value%22%3A%201%7D%2C%20%22type%22%3A%20%22Feature%22%7D%2C%20%7B%22geometry%22%3A%20%7B%22coordinates%22%3A%20%5B%5B%5B-46.701613%2C%20-23.563681%5D%2C%20%5B-46.700549%2C%20-23.562195%5D%2C%20%5B-46.701522%2C%20-23.560615%5D%2C%20%5B-46.703559%2C%20-23.56052%5D%2C%20%5B-46.704623%2C%20-23.562005%5D%2C%20%5B-46.70365%2C%20-23.563586%5D%2C%20%5B-46.701613%2C%20-23.563681%5D%5D%5D%2C%20%22type%22%3A%20%22Polygon%22%7D%2C%20%22id%22%3A%20%2289a8100e837ffff%22%2C%20%22properties%22%3A%20%7B%22highlight%22%3A%20%7B%7D%2C%20%22style%22%3A%20%7B%22color%22%3A%20%22black%22%2C%20%22fillColor%22%3A%20%22%231e8f00ff%22%2C%20%22fillOpacity%22%3A%200.7%2C%20%22weight%22%3A%201%7D%2C%20%22value%22%3A%202%7D%2C%20%22type%22%3A%20%22Feature%22%7D%2C%20%7B%22geometry%22%3A%20%7B%22coordinates%22%3A%20%5B%5B%5B-46.689298%2C%20-23.561185%5D%2C%20%5B-46.688234%2C%20-23.5597%5D%2C%20%5B-46.689208%2C%20-23.558119%5D%2C%20%5B-46.691245%2C%20-23.558024%5D%2C%20%5B-46.692309%2C%20-23.55951%5D%2C%20%5B-46.691336%2C%20-23.56109%5D%2C%20%5B-46.689298%2C%20-23.561185%5D%5D%5D%2C%20%22type%22%3A%20%22Polygon%22%7D%2C%20%22id%22%3A%20%2289a8100e863ffff%22%2C%20%22properties%22%3A%20%7B%22highlight%22%3A%20%7B%7D%2C%20%22style%22%3A%20%7B%22color%22%3A%20%22black%22%2C%20%22fillColor%22%3A%20%22%23008000ff%22%2C%20%22fillOpacity%22%3A%200.7%2C%20%22weight%22%3A%201%7D%2C%20%22value%22%3A%201%7D%2C%20%22type%22%3A%20%22Feature%22%7D%2C%20%7B%22geometry%22%3A%20%7B%22coordinates%22%3A%20%5B%5B%5B-46.686197%2C%20-23.559795%5D%2C%20%5B-46.685133%2C%20-23.558309%5D%2C%20%5B-46.686106%2C%20-23.556729%5D%2C%20%5B-46.688143%2C%20-23.556634%5D%2C%20%5B-46.689208%2C%20-23.558119%5D%2C%20%5B-46.688234%2C%20-23.5597%5D%2C%20%5B-46.686197%2C%20-23.559795%5D%5D%5D%2C%20%22type%22%3A%20%22Polygon%22%7D%2C%20%22id%22%3A%20%2289a8100e86bffff%22%2C%20%22properties%22%3A%20%7B%22highlight%22%3A%20%7B%7D%2C%20%22style%22%3A%20%7B%22color%22%3A%20%22black%22%2C%20%22fillColor%22%3A%20%22%231e8f00ff%22%2C%20%22fillOpacity%22%3A%200.7%2C%20%22weight%22%3A%201%7D%2C%20%22value%22%3A%202%7D%2C%20%22type%22%3A%20%22Feature%22%7D%2C%20%7B%22geometry%22%3A%20%7B%22coordinates%22%3A%20%5B%5B%5B-46.689208%2C%20-23.558119%5D%2C%20%5B-46.688143%2C%20-23.556634%5D%2C%20%5B-46.689117%2C%20-23.555053%5D%2C%20%5B-46.691154%2C%20-23.554958%5D%2C%20%5B-46.692218%2C%20-23.556444%5D%2C%20%5B-46.691245%2C%20-23.558024%5D%2C%20%5B-46.689208%2C%20-23.558119%5D%5D%5D%2C%20%22type%22%3A%20%22Polygon%22%7D%2C%20%22id%22%3A%20%2289a8100e86fffff%22%2C%20%22properties%22%3A%20%7B%22highlight%22%3A%20%7B%7D%2C%20%22style%22%3A%20%7B%22color%22%3A%20%22black%22%2C%20%22fillColor%22%3A%20%22%235aad00ff%22%2C%20%22fillOpacity%22%3A%200.7%2C%20%22weight%22%3A%201%7D%2C%20%22value%22%3A%204%7D%2C%20%22type%22%3A%20%22Feature%22%7D%2C%20%7B%22geometry%22%3A%20%7B%22coordinates%22%3A%20%5B%5B%5B-46.716665%2C%20-23.555301%5D%2C%20%5B-46.715601%2C%20-23.553816%5D%2C%20%5B-46.716574%2C%20-23.552235%5D%2C%20%5B-46.718612%2C%20-23.55214%5D%2C%20%5B-46.719676%2C%20-23.553625%5D%2C%20%5B-46.718702%2C%20-23.555206%5D%2C%20%5B-46.716665%2C%20-23.555301%5D%5D%5D%2C%20%22type%22%3A%20%22Polygon%22%7D%2C%20%22id%22%3A%20%2289a8100e907ffff%22%2C%20%22properties%22%3A%20%7B%22highlight%22%3A%20%7B%7D%2C%20%22style%22%3A%20%7B%22color%22%3A%20%22black%22%2C%20%22fillColor%22%3A%20%22%23008000ff%22%2C%20%22fillOpacity%22%3A%200.7%2C%20%22weight%22%3A%201%7D%2C%20%22value%22%3A%201%7D%2C%20%22type%22%3A%20%22Feature%22%7D%2C%20%7B%22geometry%22%3A%20%7B%22coordinates%22%3A%20%5B%5B%5B-46.710554%2C%20-23.555587%5D%2C%20%5B-46.70949%2C%20-23.554102%5D%2C%20%5B-46.710463%2C%20-23.552521%5D%2C%20%5B-46.7125%2C%20-23.552426%5D%2C%20%5B-46.713564%2C%20-23.553911%5D%2C%20%5B-46.712591%2C%20-23.555492%5D%2C%20%5B-46.710554%2C%20-23.555587%5D%5D%5D%2C%20%22type%22%3A%20%22Polygon%22%7D%2C%20%22id%22%3A%20%2289a8100e90bffff%22%2C%20%22properties%22%3A%20%7B%22highlight%22%3A%20%7B%7D%2C%20%22style%22%3A%20%7B%22color%22%3A%20%22black%22%2C%20%22fillColor%22%3A%20%22%231e8f00ff%22%2C%20%22fillOpacity%22%3A%200.7%2C%20%22weight%22%3A%201%7D%2C%20%22value%22%3A%202%7D%2C%20%22type%22%3A%20%22Feature%22%7D%2C%20%7B%22geometry%22%3A%20%7B%22coordinates%22%3A%20%5B%5B%5B-46.713564%2C%20-23.553911%5D%2C%20%5B-46.7125%2C%20-23.552426%5D%2C%20%5B-46.713473%2C%20-23.550845%5D%2C%20%5B-46.71551%2C%20-23.55075%5D%2C%20%5B-46.716574%2C%20-23.552235%5D%2C%20%5B-46.715601%2C%20-23.553816%5D%2C%20%5B-46.713564%2C%20-23.553911%5D%5D%5D%2C%20%22type%22%3A%20%22Polygon%22%7D%2C%20%22id%22%3A%20%2289a8100e90fffff%22%2C%20%22properties%22%3A%20%7B%22highlight%22%3A%20%7B%7D%2C%20%22style%22%3A%20%7B%22color%22%3A%20%22black%22%2C%20%22fillColor%22%3A%20%22%23008000ff%22%2C%20%22fillOpacity%22%3A%200.7%2C%20%22weight%22%3A%201%7D%2C%20%22value%22%3A%201%7D%2C%20%22type%22%3A%20%22Feature%22%7D%2C%20%7B%22geometry%22%3A%20%7B%22coordinates%22%3A%20%5B%5B%5B-46.710644%2C%20-23.558653%5D%2C%20%5B-46.70958%2C%20-23.557168%5D%2C%20%5B-46.710554%2C%20-23.555587%5D%2C%20%5B-46.712591%2C%20-23.555492%5D%2C%20%5B-46.713655%2C%20-23.556977%5D%2C%20%5B-46.712682%2C%20-23.558558%5D%2C%20%5B-46.710644%2C%20-23.558653%5D%5D%5D%2C%20%22type%22%3A%20%22Polygon%22%7D%2C%20%22id%22%3A%20%2289a8100e91bffff%22%2C%20%22properties%22%3A%20%7B%22highlight%22%3A%20%7B%7D%2C%20%22style%22%3A%20%7B%22color%22%3A%20%22black%22%2C%20%22fillColor%22%3A%20%22%233c9e00ff%22%2C%20%22fillOpacity%22%3A%200.7%2C%20%22weight%22%3A%201%7D%2C%20%22value%22%3A%203%7D%2C%20%22type%22%3A%20%22Feature%22%7D%2C%20%7B%22geometry%22%3A%20%7B%22coordinates%22%3A%20%5B%5B%5B-46.716484%2C%20-23.549169%5D%2C%20%5B-46.71542%2C%20-23.547683%5D%2C%20%5B-46.716393%2C%20-23.546102%5D%2C%20%5B-46.71843%2C%20-23.546007%5D%2C%20%5B-46.719494%2C%20-23.547492%5D%2C%20%5B-46.718521%2C%20-23.549073%5D%2C%20%5B-46.716484%2C%20-23.549169%5D%5D%5D%2C%20%22type%22%3A%20%22Polygon%22%7D%2C%20%22id%22%3A%20%2289a8100e92bffff%22%2C%20%22properties%22%3A%20%7B%22highlight%22%3A%20%7B%7D%2C%20%22style%22%3A%20%7B%22color%22%3A%20%22black%22%2C%20%22fillColor%22%3A%20%22%235aad00ff%22%2C%20%22fillOpacity%22%3A%200.7%2C%20%22weight%22%3A%201%7D%2C%20%22value%22%3A%204%7D%2C%20%22type%22%3A%20%22Feature%22%7D%2C%20%7B%22geometry%22%3A%20%7B%22coordinates%22%3A%20%5B%5B%5B-46.719494%2C%20-23.547492%5D%2C%20%5B-46.71843%2C%20-23.546007%5D%2C%20%5B-46.719403%2C%20-23.544426%5D%2C%20%5B-46.72144%2C%20-23.544331%5D%2C%20%5B-46.722504%2C%20-23.545816%5D%2C%20%5B-46.721531%2C%20-23.547397%5D%2C%20%5B-46.719494%2C%20-23.547492%5D%5D%5D%2C%20%22type%22%3A%20%22Polygon%22%7D%2C%20%22id%22%3A%20%2289a8100e92fffff%22%2C%20%22properties%22%3A%20%7B%22highlight%22%3A%20%7B%7D%2C%20%22style%22%3A%20%7B%22color%22%3A%20%22black%22%2C%20%22fillColor%22%3A%20%22%231e8f00ff%22%2C%20%22fillOpacity%22%3A%200.7%2C%20%22weight%22%3A%201%7D%2C%20%22value%22%3A%202%7D%2C%20%22type%22%3A%20%22Feature%22%7D%2C%20%7B%22geometry%22%3A%20%7B%22coordinates%22%3A%20%5B%5B%5B-46.719676%2C%20-23.553625%5D%2C%20%5B-46.718612%2C%20-23.55214%5D%2C%20%5B-46.719585%2C%20-23.550559%5D%2C%20%5B-46.721622%2C%20-23.550463%5D%2C%20%5B-46.722686%2C%20-23.551949%5D%2C%20%5B-46.721713%2C%20-23.55353%5D%2C%20%5B-46.719676%2C%20-23.553625%5D%5D%5D%2C%20%22type%22%3A%20%22Polygon%22%7D%2C%20%22id%22%3A%20%2289a8100e933ffff%22%2C%20%22properties%22%3A%20%7B%22highlight%22%3A%20%7B%7D%2C%20%22style%22%3A%20%7B%22color%22%3A%20%22black%22%2C%20%22fillColor%22%3A%20%22%235aad00ff%22%2C%20%22fillOpacity%22%3A%200.7%2C%20%22weight%22%3A%201%7D%2C%20%22value%22%3A%204%7D%2C%20%22type%22%3A%20%22Feature%22%7D%2C%20%7B%22geometry%22%3A%20%7B%22coordinates%22%3A%20%5B%5B%5B-46.722686%2C%20-23.551949%5D%2C%20%5B-46.721622%2C%20-23.550463%5D%2C%20%5B-46.722595%2C%20-23.548883%5D%2C%20%5B-46.724632%2C%20-23.548787%5D%2C%20%5B-46.725696%2C%20-23.550272%5D%2C%20%5B-46.724723%2C%20-23.551853%5D%2C%20%5B-46.722686%2C%20-23.551949%5D%5D%5D%2C%20%22type%22%3A%20%22Polygon%22%7D%2C%20%22id%22%3A%20%2289a8100e937ffff%22%2C%20%22properties%22%3A%20%7B%22highlight%22%3A%20%7B%7D%2C%20%22style%22%3A%20%7B%22color%22%3A%20%22black%22%2C%20%22fillColor%22%3A%20%22%233c9e00ff%22%2C%20%22fillOpacity%22%3A%200.7%2C%20%22weight%22%3A%201%7D%2C%20%22value%22%3A%203%7D%2C%20%22type%22%3A%20%22Feature%22%7D%2C%20%7B%22geometry%22%3A%20%7B%22coordinates%22%3A%20%5B%5B%5B-46.716574%2C%20-23.552235%5D%2C%20%5B-46.71551%2C%20-23.55075%5D%2C%20%5B-46.716484%2C%20-23.549169%5D%2C%20%5B-46.718521%2C%20-23.549073%5D%2C%20%5B-46.719585%2C%20-23.550559%5D%2C%20%5B-46.718612%2C%20-23.55214%5D%2C%20%5B-46.716574%2C%20-23.552235%5D%5D%5D%2C%20%22type%22%3A%20%22Polygon%22%7D%2C%20%22id%22%3A%20%2289a8100e93bffff%22%2C%20%22properties%22%3A%20%7B%22highlight%22%3A%20%7B%7D%2C%20%22style%22%3A%20%7B%22color%22%3A%20%22black%22%2C%20%22fillColor%22%3A%20%22%233c9e00ff%22%2C%20%22fillOpacity%22%3A%200.7%2C%20%22weight%22%3A%201%7D%2C%20%22value%22%3A%203%7D%2C%20%22type%22%3A%20%22Feature%22%7D%2C%20%7B%22geometry%22%3A%20%7B%22coordinates%22%3A%20%5B%5B%5B-46.707452%2C%20-23.554197%5D%2C%20%5B-46.706388%2C%20-23.552712%5D%2C%20%5B-46.707362%2C%20-23.551131%5D%2C%20%5B-46.709399%2C%20-23.551035%5D%2C%20%5B-46.710463%2C%20-23.552521%5D%2C%20%5B-46.70949%2C%20-23.554102%5D%2C%20%5B-46.707452%2C%20-23.554197%5D%5D%5D%2C%20%22type%22%3A%20%22Polygon%22%7D%2C%20%22id%22%3A%20%2289a8100e947ffff%22%2C%20%22properties%22%3A%20%7B%22highlight%22%3A%20%7B%7D%2C%20%22style%22%3A%20%7B%22color%22%3A%20%22black%22%2C%20%22fillColor%22%3A%20%22%231e8f00ff%22%2C%20%22fillOpacity%22%3A%200.7%2C%20%22weight%22%3A%201%7D%2C%20%22value%22%3A%202%7D%2C%20%22type%22%3A%20%22Feature%22%7D%2C%20%7B%22geometry%22%3A%20%7B%22coordinates%22%3A%20%5B%5B%5B-46.701341%2C%20-23.554483%5D%2C%20%5B-46.700277%2C%20-23.552997%5D%2C%20%5B-46.70125%2C%20-23.551416%5D%2C%20%5B-46.703287%2C%20-23.551321%5D%2C%20%5B-46.704351%2C%20-23.552807%5D%2C%20%5B-46.703378%2C%20-23.554387%5D%2C%20%5B-46.701341%2C%20-23.554483%5D%5D%5D%2C%20%22type%22%3A%20%22Polygon%22%7D%2C%20%22id%22%3A%20%2289a8100e94bffff%22%2C%20%22properties%22%3A%20%7B%22highlight%22%3A%20%7B%7D%2C%20%22style%22%3A%20%7B%22color%22%3A%20%22black%22%2C%20%22fillColor%22%3A%20%22%233c9e00ff%22%2C%20%22fillOpacity%22%3A%200.7%2C%20%22weight%22%3A%201%7D%2C%20%22value%22%3A%203%7D%2C%20%22type%22%3A%20%22Feature%22%7D%2C%20%7B%22geometry%22%3A%20%7B%22coordinates%22%3A%20%5B%5B%5B-46.701431%2C%20-23.557549%5D%2C%20%5B-46.700367%2C%20-23.556063%5D%2C%20%5B-46.701341%2C%20-23.554483%5D%2C%20%5B-46.703378%2C%20-23.554387%5D%2C%20%5B-46.704442%2C%20-23.555873%5D%2C%20%5B-46.703469%2C%20-23.557454%5D%2C%20%5B-46.701431%2C%20-23.557549%5D%5D%5D%2C%20%22type%22%3A%20%22Polygon%22%7D%2C%20%22id%22%3A%20%2289a8100e95bffff%22%2C%20%22properties%22%3A%20%7B%22highlight%22%3A%20%7B%7D%2C%20%22style%22%3A%20%7B%22color%22%3A%20%22black%22%2C%20%22fillColor%22%3A%20%22%231e8f00ff%22%2C%20%22fillOpacity%22%3A%200.7%2C%20%22weight%22%3A%201%7D%2C%20%22value%22%3A%202%7D%2C%20%22type%22%3A%20%22Feature%22%7D%2C%20%7B%22geometry%22%3A%20%7B%22coordinates%22%3A%20%5B%5B%5B-46.710372%2C%20-23.549455%5D%2C%20%5B-46.709308%2C%20-23.547969%5D%2C%20%5B-46.710281%2C%20-23.546388%5D%2C%20%5B-46.712319%2C%20-23.546293%5D%2C%20%5B-46.713383%2C%20-23.547779%5D%2C%20%5B-46.712409%2C%20-23.549359%5D%2C%20%5B-46.710372%2C%20-23.549455%5D%5D%5D%2C%20%22type%22%3A%20%22Polygon%22%7D%2C%20%22id%22%3A%20%2289a8100e963ffff%22%2C%20%22properties%22%3A%20%7B%22highlight%22%3A%20%7B%7D%2C%20%22style%22%3A%20%7B%22color%22%3A%20%22black%22%2C%20%22fillColor%22%3A%20%22%231e8f00ff%22%2C%20%22fillOpacity%22%3A%200.7%2C%20%22weight%22%3A%201%7D%2C%20%22value%22%3A%202%7D%2C%20%22type%22%3A%20%22Feature%22%7D%2C%20%7B%22geometry%22%3A%20%7B%22coordinates%22%3A%20%5B%5B%5B-46.707271%2C%20-23.548064%5D%2C%20%5B-46.706207%2C%20-23.546579%5D%2C%20%5B-46.70718%2C%20-23.544998%5D%2C%20%5B-46.709217%2C%20-23.544903%5D%2C%20%5B-46.710281%2C%20-23.546388%5D%2C%20%5B-46.709308%2C%20-23.547969%5D%2C%20%5B-46.707271%2C%20-23.548064%5D%5D%5D%2C%20%22type%22%3A%20%22Polygon%22%7D%2C%20%22id%22%3A%20%2289a8100e96bffff%22%2C%20%22properties%22%3A%20%7B%22highlight%22%3A%20%7B%7D%2C%20%22style%22%3A%20%7B%22color%22%3A%20%22black%22%2C%20%22fillColor%22%3A%20%22%2378bc00ff%22%2C%20%22fillOpacity%22%3A%200.7%2C%20%22weight%22%3A%201%7D%2C%20%22value%22%3A%205%7D%2C%20%22type%22%3A%20%22Feature%22%7D%2C%20%7B%22geometry%22%3A%20%7B%22coordinates%22%3A%20%5B%5B%5B-46.710281%2C%20-23.546388%5D%2C%20%5B-46.709217%2C%20-23.544903%5D%2C%20%5B-46.710191%2C%20-23.543322%5D%2C%20%5B-46.712228%2C%20-23.543226%5D%2C%20%5B-46.713292%2C%20-23.544712%5D%2C%20%5B-46.712319%2C%20-23.546293%5D%2C%20%5B-46.710281%2C%20-23.546388%5D%5D%5D%2C%20%22type%22%3A%20%22Polygon%22%7D%2C%20%22id%22%3A%20%2289a8100e96fffff%22%2C%20%22properties%22%3A%20%7B%22highlight%22%3A%20%7B%7D%2C%20%22style%22%3A%20%7B%22color%22%3A%20%22black%22%2C%20%22fillColor%22%3A%20%22%233c9e00ff%22%2C%20%22fillOpacity%22%3A%200.7%2C%20%22weight%22%3A%201%7D%2C%20%22value%22%3A%203%7D%2C%20%22type%22%3A%20%22Feature%22%7D%2C%20%7B%22geometry%22%3A%20%7B%22coordinates%22%3A%20%5B%5B%5B-46.710463%2C%20-23.552521%5D%2C%20%5B-46.709399%2C%20-23.551035%5D%2C%20%5B-46.710372%2C%20-23.549455%5D%2C%20%5B-46.712409%2C%20-23.549359%5D%2C%20%5B-46.713473%2C%20-23.550845%5D%2C%20%5B-46.7125%2C%20-23.552426%5D%2C%20%5B-46.710463%2C%20-23.552521%5D%5D%5D%2C%20%22type%22%3A%20%22Polygon%22%7D%2C%20%22id%22%3A%20%2289a8100e973ffff%22%2C%20%22properties%22%3A%20%7B%22highlight%22%3A%20%7B%7D%2C%20%22style%22%3A%20%7B%22color%22%3A%20%22black%22%2C%20%22fillColor%22%3A%20%22%23008000ff%22%2C%20%22fillOpacity%22%3A%200.7%2C%20%22weight%22%3A%201%7D%2C%20%22value%22%3A%201%7D%2C%20%22type%22%3A%20%22Feature%22%7D%2C%20%7B%22geometry%22%3A%20%7B%22coordinates%22%3A%20%5B%5B%5B-46.713473%2C%20-23.550845%5D%2C%20%5B-46.712409%2C%20-23.549359%5D%2C%20%5B-46.713383%2C%20-23.547779%5D%2C%20%5B-46.71542%2C%20-23.547683%5D%2C%20%5B-46.716484%2C%20-23.549169%5D%2C%20%5B-46.71551%2C%20-23.55075%5D%2C%20%5B-46.713473%2C%20-23.550845%5D%5D%5D%2C%20%22type%22%3A%20%22Polygon%22%7D%2C%20%22id%22%3A%20%2289a8100e977ffff%22%2C%20%22properties%22%3A%20%7B%22highlight%22%3A%20%7B%7D%2C%20%22style%22%3A%20%7B%22color%22%3A%20%22black%22%2C%20%22fillColor%22%3A%20%22%23008000ff%22%2C%20%22fillOpacity%22%3A%200.7%2C%20%22weight%22%3A%201%7D%2C%20%22value%22%3A%201%7D%2C%20%22type%22%3A%20%22Feature%22%7D%2C%20%7B%22geometry%22%3A%20%7B%22coordinates%22%3A%20%5B%5B%5B-46.707634%2C%20-23.560329%5D%2C%20%5B-46.70657%2C%20-23.558844%5D%2C%20%5B-46.707543%2C%20-23.557263%5D%2C%20%5B-46.70958%2C%20-23.557168%5D%2C%20%5B-46.710644%2C%20-23.558653%5D%2C%20%5B-46.709671%2C%20-23.560234%5D%2C%20%5B-46.707634%2C%20-23.560329%5D%5D%5D%2C%20%22type%22%3A%20%22Polygon%22%7D%2C%20%22id%22%3A%20%2289a8100e9cfffff%22%2C%20%22properties%22%3A%20%7B%22highlight%22%3A%20%7B%7D%2C%20%22style%22%3A%20%7B%22color%22%3A%20%22black%22%2C%20%22fillColor%22%3A%20%22%231e8f00ff%22%2C%20%22fillOpacity%22%3A%200.7%2C%20%22weight%22%3A%201%7D%2C%20%22value%22%3A%202%7D%2C%20%22type%22%3A%20%22Feature%22%7D%2C%20%7B%22geometry%22%3A%20%7B%22coordinates%22%3A%20%5B%5B%5B-46.694957%2C%20-23.545569%5D%2C%20%5B-46.693893%2C%20-23.544083%5D%2C%20%5B-46.694866%2C%20-23.542502%5D%2C%20%5B-46.696903%2C%20-23.542407%5D%2C%20%5B-46.697967%2C%20-23.543893%5D%2C%20%5B-46.696994%2C%20-23.545474%5D%2C%20%5B-46.694957%2C%20-23.545569%5D%5D%5D%2C%20%22type%22%3A%20%22Polygon%22%7D%2C%20%22id%22%3A%20%2289a8100eb07ffff%22%2C%20%22properties%22%3A%20%7B%22highlight%22%3A%20%7B%7D%2C%20%22style%22%3A%20%7B%22color%22%3A%20%22black%22%2C%20%22fillColor%22%3A%20%22%23008000ff%22%2C%20%22fillOpacity%22%3A%200.7%2C%20%22weight%22%3A%201%7D%2C%20%22value%22%3A%201%7D%2C%20%22type%22%3A%20%22Feature%22%7D%2C%20%7B%22geometry%22%3A%20%7B%22coordinates%22%3A%20%5B%5B%5B-46.692037%2C%20-23.550311%5D%2C%20%5B-46.690973%2C%20-23.548825%5D%2C%20%5B-46.691946%2C%20-23.547245%5D%2C%20%5B-46.693983%2C%20-23.54715%5D%2C%20%5B-46.695047%2C%20-23.548635%5D%2C%20%5B-46.694074%2C%20-23.550216%5D%2C%20%5B-46.692037%2C%20-23.550311%5D%5D%5D%2C%20%22type%22%3A%20%22Polygon%22%7D%2C%20%22id%22%3A%20%2289a8100eb13ffff%22%2C%20%22properties%22%3A%20%7B%22highlight%22%3A%20%7B%7D%2C%20%22style%22%3A%20%7B%22color%22%3A%20%22black%22%2C%20%22fillColor%22%3A%20%22%23008000ff%22%2C%20%22fillOpacity%22%3A%200.7%2C%20%22weight%22%3A%201%7D%2C%20%22value%22%3A%201%7D%2C%20%22type%22%3A%20%22Feature%22%7D%2C%20%7B%22geometry%22%3A%20%7B%22coordinates%22%3A%20%5B%5B%5B-46.697967%2C%20-23.543893%5D%2C%20%5B-46.696903%2C%20-23.542407%5D%2C%20%5B-46.697877%2C%20-23.540826%5D%2C%20%5B-46.699914%2C%20-23.540731%5D%2C%20%5B-46.700978%2C%20-23.542217%5D%2C%20%5B-46.700005%2C%20-23.543798%5D%2C%20%5B-46.697967%2C%20-23.543893%5D%5D%5D%2C%20%22type%22%3A%20%22Polygon%22%7D%2C%20%22id%22%3A%20%2289a8100eb33ffff%22%2C%20%22properties%22%3A%20%7B%22highlight%22%3A%20%7B%7D%2C%20%22style%22%3A%20%7B%22color%22%3A%20%22black%22%2C%20%22fillColor%22%3A%20%22%23008000ff%22%2C%20%22fillOpacity%22%3A%200.7%2C%20%22weight%22%3A%201%7D%2C%20%22value%22%3A%201%7D%2C%20%22type%22%3A%20%22Feature%22%7D%2C%20%7B%22geometry%22%3A%20%7B%22coordinates%22%3A%20%5B%5B%5B-46.700978%2C%20-23.542217%5D%2C%20%5B-46.699914%2C%20-23.540731%5D%2C%20%5B-46.700887%2C%20-23.53915%5D%2C%20%5B-46.702924%2C%20-23.539055%5D%2C%20%5B-46.703988%2C%20-23.540541%5D%2C%20%5B-46.703015%2C%20-23.542122%5D%2C%20%5B-46.700978%2C%20-23.542217%5D%5D%5D%2C%20%22type%22%3A%20%22Polygon%22%7D%2C%20%22id%22%3A%20%2289a8100eb37ffff%22%2C%20%22properties%22%3A%20%7B%22highlight%22%3A%20%7B%7D%2C%20%22style%22%3A%20%7B%22color%22%3A%20%22black%22%2C%20%22fillColor%22%3A%20%22%231e8f00ff%22%2C%20%22fillOpacity%22%3A%200.7%2C%20%22weight%22%3A%201%7D%2C%20%22value%22%3A%202%7D%2C%20%22type%22%3A%20%22Feature%22%7D%2C%20%7B%22geometry%22%3A%20%7B%22coordinates%22%3A%20%5B%5B%5B-46.694866%2C%20-23.542502%5D%2C%20%5B-46.693802%2C%20-23.541016%5D%2C%20%5B-46.694775%2C%20-23.539435%5D%2C%20%5B-46.696813%2C%20-23.53934%5D%2C%20%5B-46.697877%2C%20-23.540826%5D%2C%20%5B-46.696903%2C%20-23.542407%5D%2C%20%5B-46.694866%2C%20-23.542502%5D%5D%5D%2C%20%22type%22%3A%20%22Polygon%22%7D%2C%20%22id%22%3A%20%2289a8100eb3bffff%22%2C%20%22properties%22%3A%20%7B%22highlight%22%3A%20%7B%7D%2C%20%22style%22%3A%20%7B%22color%22%3A%20%22black%22%2C%20%22fillColor%22%3A%20%22%231e8f00ff%22%2C%20%22fillOpacity%22%3A%200.7%2C%20%22weight%22%3A%201%7D%2C%20%22value%22%3A%202%7D%2C%20%22type%22%3A%20%22Feature%22%7D%2C%20%7B%22geometry%22%3A%20%7B%22coordinates%22%3A%20%5B%5B%5B-46.695138%2C%20-23.551702%5D%2C%20%5B-46.694074%2C%20-23.550216%5D%2C%20%5B-46.695047%2C%20-23.548635%5D%2C%20%5B-46.697085%2C%20-23.54854%5D%2C%20%5B-46.698149%2C%20-23.550026%5D%2C%20%5B-46.697175%2C%20-23.551607%5D%2C%20%5B-46.695138%2C%20-23.551702%5D%5D%5D%2C%20%22type%22%3A%20%22Polygon%22%7D%2C%20%22id%22%3A%20%2289a8100eb8fffff%22%2C%20%22properties%22%3A%20%7B%22highlight%22%3A%20%7B%7D%2C%20%22style%22%3A%20%7B%22color%22%3A%20%22black%22%2C%20%22fillColor%22%3A%20%22%23b4da00ff%22%2C%20%22fillOpacity%22%3A%200.7%2C%20%22weight%22%3A%201%7D%2C%20%22value%22%3A%207%7D%2C%20%22type%22%3A%20%22Feature%22%7D%2C%20%7B%22geometry%22%3A%20%7B%22coordinates%22%3A%20%5B%5B%5B-46.69833%2C%20-23.556158%5D%2C%20%5B-46.697266%2C%20-23.554673%5D%2C%20%5B-46.698239%2C%20-23.553092%5D%2C%20%5B-46.700277%2C%20-23.552997%5D%2C%20%5B-46.701341%2C%20-23.554483%5D%2C%20%5B-46.700367%2C%20-23.556063%5D%2C%20%5B-46.69833%2C%20-23.556158%5D%5D%5D%2C%20%22type%22%3A%20%22Polygon%22%7D%2C%20%22id%22%3A%20%2289a8100eb97ffff%22%2C%20%22properties%22%3A%20%7B%22highlight%22%3A%20%7B%7D%2C%20%22style%22%3A%20%7B%22color%22%3A%20%22black%22%2C%20%22fillColor%22%3A%20%22%23008000ff%22%2C%20%22fillOpacity%22%3A%200.7%2C%20%22weight%22%3A%201%7D%2C%20%22value%22%3A%201%7D%2C%20%22type%22%3A%20%22Feature%22%7D%2C%20%7B%22geometry%22%3A%20%7B%22coordinates%22%3A%20%5B%5B%5B-46.701069%2C%20-23.545284%5D%2C%20%5B-46.700005%2C%20-23.543798%5D%2C%20%5B-46.700978%2C%20-23.542217%5D%2C%20%5B-46.703015%2C%20-23.542122%5D%2C%20%5B-46.704079%2C%20-23.543607%5D%2C%20%5B-46.703106%2C%20-23.545188%5D%2C%20%5B-46.701069%2C%20-23.545284%5D%5D%5D%2C%20%22type%22%3A%20%22Polygon%22%7D%2C%20%22id%22%3A%20%2289a8100ebafffff%22%2C%20%22properties%22%3A%20%7B%22highlight%22%3A%20%7B%7D%2C%20%22style%22%3A%20%7B%22color%22%3A%20%22black%22%2C%20%22fillColor%22%3A%20%22%23008000ff%22%2C%20%22fillOpacity%22%3A%200.7%2C%20%22weight%22%3A%201%7D%2C%20%22value%22%3A%201%7D%2C%20%22type%22%3A%20%22Feature%22%7D%2C%20%7B%22geometry%22%3A%20%7B%22coordinates%22%3A%20%5B%5B%5B-46.689026%2C%20-23.551987%5D%2C%20%5B-46.687962%2C%20-23.550501%5D%2C%20%5B-46.688936%2C%20-23.54892%5D%2C%20%5B-46.690973%2C%20-23.548825%5D%2C%20%5B-46.692037%2C%20-23.550311%5D%2C%20%5B-46.691064%2C%20-23.551892%5D%2C%20%5B-46.689026%2C%20-23.551987%5D%5D%5D%2C%20%22type%22%3A%20%22Polygon%22%7D%2C%20%22id%22%3A%20%2289a8100ebc7ffff%22%2C%20%22properties%22%3A%20%7B%22highlight%22%3A%20%7B%7D%2C%20%22style%22%3A%20%7B%22color%22%3A%20%22black%22%2C%20%22fillColor%22%3A%20%22%23008000ff%22%2C%20%22fillOpacity%22%3A%200.7%2C%20%22weight%22%3A%201%7D%2C%20%22value%22%3A%201%7D%2C%20%22type%22%3A%20%22Feature%22%7D%2C%20%7B%22geometry%22%3A%20%7B%22coordinates%22%3A%20%5B%5B%5B-46.686106%2C%20-23.556729%5D%2C%20%5B-46.685042%2C%20-23.555243%5D%2C%20%5B-46.686015%2C%20-23.553663%5D%2C%20%5B-46.688053%2C%20-23.553568%5D%2C%20%5B-46.689117%2C%20-23.555053%5D%2C%20%5B-46.688143%2C%20-23.556634%5D%2C%20%5B-46.686106%2C%20-23.556729%5D%5D%5D%2C%20%22type%22%3A%20%22Polygon%22%7D%2C%20%22id%22%3A%20%2289a8100ebd3ffff%22%2C%20%22properties%22%3A%20%7B%22highlight%22%3A%20%7B%7D%2C%20%22style%22%3A%20%7B%22color%22%3A%20%22black%22%2C%20%22fillColor%22%3A%20%22%23008000ff%22%2C%20%22fillOpacity%22%3A%200.7%2C%20%22weight%22%3A%201%7D%2C%20%22value%22%3A%201%7D%2C%20%22type%22%3A%20%22Feature%22%7D%2C%20%7B%22geometry%22%3A%20%7B%22coordinates%22%3A%20%5B%5B%5B-46.731626%2C%20-23.543853%5D%2C%20%5B-46.730562%2C%20-23.542368%5D%2C%20%5B-46.731535%2C%20-23.540787%5D%2C%20%5B-46.733572%2C%20-23.540691%5D%2C%20%5B-46.734636%2C%20-23.542177%5D%2C%20%5B-46.733663%2C%20-23.543758%5D%2C%20%5B-46.731626%2C%20-23.543853%5D%5D%5D%2C%20%22type%22%3A%20%22Polygon%22%7D%2C%20%22id%22%3A%20%2289a8103b40bffff%22%2C%20%22properties%22%3A%20%7B%22highlight%22%3A%20%7B%7D%2C%20%22style%22%3A%20%7B%22color%22%3A%20%22black%22%2C%20%22fillColor%22%3A%20%22%2396cb00ff%22%2C%20%22fillOpacity%22%3A%200.7%2C%20%22weight%22%3A%201%7D%2C%20%22value%22%3A%206%7D%2C%20%22type%22%3A%20%22Feature%22%7D%2C%20%7B%22geometry%22%3A%20%7B%22coordinates%22%3A%20%5B%5B%5B-46.731717%2C%20-23.54692%5D%2C%20%5B-46.730653%2C%20-23.545434%5D%2C%20%5B-46.731626%2C%20-23.543853%5D%2C%20%5B-46.733663%2C%20-23.543758%5D%2C%20%5B-46.734727%2C%20-23.545243%5D%2C%20%5B-46.733754%2C%20-23.546824%5D%2C%20%5B-46.731717%2C%20-23.54692%5D%5D%5D%2C%20%22type%22%3A%20%22Polygon%22%7D%2C%20%22id%22%3A%20%2289a8103b41bffff%22%2C%20%22properties%22%3A%20%7B%22highlight%22%3A%20%7B%7D%2C%20%22style%22%3A%20%7B%22color%22%3A%20%22black%22%2C%20%22fillColor%22%3A%20%22%23ff0000ff%22%2C%20%22fillOpacity%22%3A%200.7%2C%20%22weight%22%3A%201%7D%2C%20%22value%22%3A%2018%7D%2C%20%22type%22%3A%20%22Feature%22%7D%2C%20%7B%22geometry%22%3A%20%7B%22coordinates%22%3A%20%5B%5B%5B-46.725515%2C%20-23.54414%5D%2C%20%5B-46.724451%2C%20-23.542654%5D%2C%20%5B-46.725424%2C%20-23.541073%5D%2C%20%5B-46.727461%2C%20-23.540978%5D%2C%20%5B-46.728525%2C%20-23.542463%5D%2C%20%5B-46.727552%2C%20-23.544044%5D%2C%20%5B-46.725515%2C%20-23.54414%5D%5D%5D%2C%20%22type%22%3A%20%22Polygon%22%7D%2C%20%22id%22%3A%20%2289a8103b443ffff%22%2C%20%22properties%22%3A%20%7B%22highlight%22%3A%20%7B%7D%2C%20%22style%22%3A%20%7B%22color%22%3A%20%22black%22%2C%20%22fillColor%22%3A%20%22%23d2e900ff%22%2C%20%22fillOpacity%22%3A%200.7%2C%20%22weight%22%3A%201%7D%2C%20%22value%22%3A%208%7D%2C%20%22type%22%3A%20%22Feature%22%7D%2C%20%7B%22geometry%22%3A%20%7B%22coordinates%22%3A%20%5B%5B%5B-46.728525%2C%20-23.542463%5D%2C%20%5B-46.727461%2C%20-23.540978%5D%2C%20%5B-46.728434%2C%20-23.539397%5D%2C%20%5B-46.730471%2C%20-23.539301%5D%2C%20%5B-46.731535%2C%20-23.540787%5D%2C%20%5B-46.730562%2C%20-23.542368%5D%2C%20%5B-46.728525%2C%20-23.542463%5D%5D%5D%2C%20%22type%22%3A%20%22Polygon%22%7D%2C%20%22id%22%3A%20%2289a8103b447ffff%22%2C%20%22properties%22%3A%20%7B%22highlight%22%3A%20%7B%7D%2C%20%22style%22%3A%20%7B%22color%22%3A%20%22black%22%2C%20%22fillColor%22%3A%20%22%23008000ff%22%2C%20%22fillOpacity%22%3A%200.7%2C%20%22weight%22%3A%201%7D%2C%20%22value%22%3A%201%7D%2C%20%22type%22%3A%20%22Feature%22%7D%2C%20%7B%22geometry%22%3A%20%7B%22coordinates%22%3A%20%5B%5B%5B-46.722414%2C%20-23.54275%5D%2C%20%5B-46.72135%2C%20-23.541264%5D%2C%20%5B-46.722323%2C%20-23.539683%5D%2C%20%5B-46.72436%2C%20-23.539588%5D%2C%20%5B-46.725424%2C%20-23.541073%5D%2C%20%5B-46.724451%2C%20-23.542654%5D%2C%20%5B-46.722414%2C%20-23.54275%5D%5D%5D%2C%20%22type%22%3A%20%22Polygon%22%7D%2C%20%22id%22%3A%20%2289a8103b44bffff%22%2C%20%22properties%22%3A%20%7B%22highlight%22%3A%20%7B%7D%2C%20%22style%22%3A%20%7B%22color%22%3A%20%22black%22%2C%20%22fillColor%22%3A%20%22%231e8f00ff%22%2C%20%22fillOpacity%22%3A%200.7%2C%20%22weight%22%3A%201%7D%2C%20%22value%22%3A%202%7D%2C%20%22type%22%3A%20%22Feature%22%7D%2C%20%7B%22geometry%22%3A%20%7B%22coordinates%22%3A%20%5B%5B%5B-46.725424%2C%20-23.541073%5D%2C%20%5B-46.72436%2C%20-23.539588%5D%2C%20%5B-46.725333%2C%20-23.538007%5D%2C%20%5B-46.72737%2C%20-23.537911%5D%2C%20%5B-46.728434%2C%20-23.539397%5D%2C%20%5B-46.727461%2C%20-23.540978%5D%2C%20%5B-46.725424%2C%20-23.541073%5D%5D%5D%2C%20%22type%22%3A%20%22Polygon%22%7D%2C%20%22id%22%3A%20%2289a8103b44fffff%22%2C%20%22properties%22%3A%20%7B%22highlight%22%3A%20%7B%7D%2C%20%22style%22%3A%20%7B%22color%22%3A%20%22black%22%2C%20%22fillColor%22%3A%20%22%23008000ff%22%2C%20%22fillOpacity%22%3A%200.7%2C%20%22weight%22%3A%201%7D%2C%20%22value%22%3A%201%7D%2C%20%22type%22%3A%20%22Feature%22%7D%2C%20%7B%22geometry%22%3A%20%7B%22coordinates%22%3A%20%5B%5B%5B-46.722504%2C%20-23.545816%5D%2C%20%5B-46.72144%2C%20-23.544331%5D%2C%20%5B-46.722414%2C%20-23.54275%5D%2C%20%5B-46.724451%2C%20-23.542654%5D%2C%20%5B-46.725515%2C%20-23.54414%5D%2C%20%5B-46.724541%2C%20-23.545721%5D%2C%20%5B-46.722504%2C%20-23.545816%5D%5D%5D%2C%20%22type%22%3A%20%22Polygon%22%7D%2C%20%22id%22%3A%20%2289a8103b45bffff%22%2C%20%22properties%22%3A%20%7B%22highlight%22%3A%20%7B%7D%2C%20%22style%22%3A%20%7B%22color%22%3A%20%22black%22%2C%20%22fillColor%22%3A%20%22%23008000ff%22%2C%20%22fillOpacity%22%3A%200.7%2C%20%22weight%22%3A%201%7D%2C%20%22value%22%3A%201%7D%2C%20%22type%22%3A%20%22Feature%22%7D%2C%20%7B%22geometry%22%3A%20%7B%22coordinates%22%3A%20%5B%5B%5B-46.71311%2C%20-23.538579%5D%2C%20%5B-46.712046%2C%20-23.537093%5D%2C%20%5B-46.713019%2C%20-23.535512%5D%2C%20%5B-46.715057%2C%20-23.535417%5D%2C%20%5B-46.716121%2C%20-23.536903%5D%2C%20%5B-46.715147%2C%20-23.538484%5D%2C%20%5B-46.71311%2C%20-23.538579%5D%5D%5D%2C%20%22type%22%3A%20%22Polygon%22%7D%2C%20%22id%22%3A%20%2289a8103b613ffff%22%2C%20%22properties%22%3A%20%7B%22highlight%22%3A%20%7B%7D%2C%20%22style%22%3A%20%7B%22color%22%3A%20%22black%22%2C%20%22fillColor%22%3A%20%22%235aad00ff%22%2C%20%22fillOpacity%22%3A%200.7%2C%20%22weight%22%3A%201%7D%2C%20%22value%22%3A%204%7D%2C%20%22type%22%3A%20%22Feature%22%7D%2C%20%7B%22geometry%22%3A%20%7B%22coordinates%22%3A%20%5B%5B%5B-46.716302%2C%20-23.543036%5D%2C%20%5B-46.715238%2C%20-23.54155%5D%2C%20%5B-46.716211%2C%20-23.539969%5D%2C%20%5B-46.718248%2C%20-23.539874%5D%2C%20%5B-46.719312%2C%20-23.54136%5D%2C%20%5B-46.718339%2C%20-23.54294%5D%2C%20%5B-46.716302%2C%20-23.543036%5D%5D%5D%2C%20%22type%22%3A%20%22Polygon%22%7D%2C%20%22id%22%3A%20%2289a8103b683ffff%22%2C%20%22properties%22%3A%20%7B%22highlight%22%3A%20%7B%7D%2C%20%22style%22%3A%20%7B%22color%22%3A%20%22black%22%2C%20%22fillColor%22%3A%20%22%23008000ff%22%2C%20%22fillOpacity%22%3A%200.7%2C%20%22weight%22%3A%201%7D%2C%20%22value%22%3A%201%7D%2C%20%22type%22%3A%20%22Feature%22%7D%2C%20%7B%22geometry%22%3A%20%7B%22coordinates%22%3A%20%5B%5B%5B-46.713201%2C%20-23.541646%5D%2C%20%5B-46.712137%2C%20-23.54016%5D%2C%20%5B-46.71311%2C%20-23.538579%5D%2C%20%5B-46.715147%2C%20-23.538484%5D%2C%20%5B-46.716211%2C%20-23.539969%5D%2C%20%5B-46.715238%2C%20-23.54155%5D%2C%20%5B-46.713201%2C%20-23.541646%5D%5D%5D%2C%20%22type%22%3A%20%22Polygon%22%7D%2C%20%22id%22%3A%20%2289a8103b68bffff%22%2C%20%22properties%22%3A%20%7B%22highlight%22%3A%20%7B%7D%2C%20%22style%22%3A%20%7B%22color%22%3A%20%22black%22%2C%20%22fillColor%22%3A%20%22%231e8f00ff%22%2C%20%22fillOpacity%22%3A%200.7%2C%20%22weight%22%3A%201%7D%2C%20%22value%22%3A%202%7D%2C%20%22type%22%3A%20%22Feature%22%7D%2C%20%7B%22geometry%22%3A%20%7B%22coordinates%22%3A%20%5B%5B%5B-46.719403%2C%20-23.544426%5D%2C%20%5B-46.718339%2C%20-23.54294%5D%2C%20%5B-46.719312%2C%20-23.54136%5D%2C%20%5B-46.72135%2C%20-23.541264%5D%2C%20%5B-46.722414%2C%20-23.54275%5D%2C%20%5B-46.72144%2C%20-23.544331%5D%2C%20%5B-46.719403%2C%20-23.544426%5D%5D%5D%2C%20%22type%22%3A%20%22Polygon%22%7D%2C%20%22id%22%3A%20%2289a8103b697ffff%22%2C%20%22properties%22%3A%20%7B%22highlight%22%3A%20%7B%7D%2C%20%22style%22%3A%20%7B%22color%22%3A%20%22black%22%2C%20%22fillColor%22%3A%20%22%231e8f00ff%22%2C%20%22fillOpacity%22%3A%200.7%2C%20%22weight%22%3A%201%7D%2C%20%22value%22%3A%202%7D%2C%20%22type%22%3A%20%22Feature%22%7D%2C%20%7B%22geometry%22%3A%20%7B%22coordinates%22%3A%20%5B%5B%5B-46.713292%2C%20-23.544712%5D%2C%20%5B-46.712228%2C%20-23.543226%5D%2C%20%5B-46.713201%2C%20-23.541646%5D%2C%20%5B-46.715238%2C%20-23.54155%5D%2C%20%5B-46.716302%2C%20-23.543036%5D%2C%20%5B-46.715329%2C%20-23.544617%5D%2C%20%5B-46.713292%2C%20-23.544712%5D%5D%5D%2C%20%22type%22%3A%20%22Polygon%22%7D%2C%20%22id%22%3A%20%2289a8103b69bffff%22%2C%20%22properties%22%3A%20%7B%22highlight%22%3A%20%7B%7D%2C%20%22style%22%3A%20%7B%22color%22%3A%20%22black%22%2C%20%22fillColor%22%3A%20%22%231e8f00ff%22%2C%20%22fillOpacity%22%3A%200.7%2C%20%22weight%22%3A%201%7D%2C%20%22value%22%3A%202%7D%2C%20%22type%22%3A%20%22Feature%22%7D%2C%20%7B%22geometry%22%3A%20%7B%22coordinates%22%3A%20%5B%5B%5B-46.722323%2C%20-23.539683%5D%2C%20%5B-46.721259%2C%20-23.538197%5D%2C%20%5B-46.722232%2C%20-23.536616%5D%2C%20%5B-46.724269%2C%20-23.536521%5D%2C%20%5B-46.725333%2C%20-23.538007%5D%2C%20%5B-46.72436%2C%20-23.539588%5D%2C%20%5B-46.722323%2C%20-23.539683%5D%5D%5D%2C%20%22type%22%3A%20%22Polygon%22%7D%2C%20%22id%22%3A%20%2289a8103b6b3ffff%22%2C%20%22properties%22%3A%20%7B%22highlight%22%3A%20%7B%7D%2C%20%22style%22%3A%20%7B%22color%22%3A%20%22black%22%2C%20%22fillColor%22%3A%20%22%2378bc00ff%22%2C%20%22fillOpacity%22%3A%200.7%2C%20%22weight%22%3A%201%7D%2C%20%22value%22%3A%205%7D%2C%20%22type%22%3A%20%22Feature%22%7D%2C%20%7B%22geometry%22%3A%20%7B%22coordinates%22%3A%20%5B%5B%5B-46.725333%2C%20-23.538007%5D%2C%20%5B-46.724269%2C%20-23.536521%5D%2C%20%5B-46.725242%2C%20-23.53494%5D%2C%20%5B-46.727279%2C%20-23.534844%5D%2C%20%5B-46.728343%2C%20-23.53633%5D%2C%20%5B-46.72737%2C%20-23.537911%5D%2C%20%5B-46.725333%2C%20-23.538007%5D%5D%5D%2C%20%22type%22%3A%20%22Polygon%22%7D%2C%20%22id%22%3A%20%2289a8103b6b7ffff%22%2C%20%22properties%22%3A%20%7B%22highlight%22%3A%20%7B%7D%2C%20%22style%22%3A%20%7B%22color%22%3A%20%22black%22%2C%20%22fillColor%22%3A%20%22%235aad00ff%22%2C%20%22fillOpacity%22%3A%200.7%2C%20%22weight%22%3A%201%7D%2C%20%22value%22%3A%204%7D%2C%20%22type%22%3A%20%22Feature%22%7D%2C%20%7B%22geometry%22%3A%20%7B%22coordinates%22%3A%20%5B%5B%5B-46.719222%2C%20-23.538293%5D%2C%20%5B-46.718158%2C%20-23.536807%5D%2C%20%5B-46.719131%2C%20-23.535226%5D%2C%20%5B-46.721168%2C%20-23.535131%5D%2C%20%5B-46.722232%2C%20-23.536616%5D%2C%20%5B-46.721259%2C%20-23.538197%5D%2C%20%5B-46.719222%2C%20-23.538293%5D%5D%5D%2C%20%22type%22%3A%20%22Polygon%22%7D%2C%20%22id%22%3A%20%2289a8103b6bbffff%22%2C%20%22properties%22%3A%20%7B%22highlight%22%3A%20%7B%7D%2C%20%22style%22%3A%20%7B%22color%22%3A%20%22black%22%2C%20%22fillColor%22%3A%20%22%231e8f00ff%22%2C%20%22fillOpacity%22%3A%200.7%2C%20%22weight%22%3A%201%7D%2C%20%22value%22%3A%202%7D%2C%20%22type%22%3A%20%22Feature%22%7D%2C%20%7B%22geometry%22%3A%20%7B%22coordinates%22%3A%20%5B%5B%5B-46.703988%2C%20-23.540541%5D%2C%20%5B-46.702924%2C%20-23.539055%5D%2C%20%5B-46.703898%2C%20-23.537474%5D%2C%20%5B-46.705935%2C%20-23.537379%5D%2C%20%5B-46.706999%2C%20-23.538865%5D%2C%20%5B-46.706025%2C%20-23.540446%5D%2C%20%5B-46.703988%2C%20-23.540541%5D%5D%5D%2C%20%22type%22%3A%20%22Polygon%22%7D%2C%20%22id%22%3A%20%2289a8103b6cbffff%22%2C%20%22properties%22%3A%20%7B%22highlight%22%3A%20%7B%7D%2C%20%22style%22%3A%20%7B%22color%22%3A%20%22black%22%2C%20%22fillColor%22%3A%20%22%231e8f00ff%22%2C%20%22fillOpacity%22%3A%200.7%2C%20%22weight%22%3A%201%7D%2C%20%22value%22%3A%202%7D%2C%20%22type%22%3A%20%22Feature%22%7D%2C%20%7B%22geometry%22%3A%20%7B%22coordinates%22%3A%20%5B%5B%5B-46.704079%2C%20-23.543607%5D%2C%20%5B-46.703015%2C%20-23.542122%5D%2C%20%5B-46.703988%2C%20-23.540541%5D%2C%20%5B-46.706025%2C%20-23.540446%5D%2C%20%5B-46.707089%2C%20-23.541931%5D%2C%20%5B-46.706116%2C%20-23.543512%5D%2C%20%5B-46.704079%2C%20-23.543607%5D%5D%5D%2C%20%22type%22%3A%20%22Polygon%22%7D%2C%20%22id%22%3A%20%2289a8103b6dbffff%22%2C%20%22properties%22%3A%20%7B%22highlight%22%3A%20%7B%7D%2C%20%22style%22%3A%20%7B%22color%22%3A%20%22black%22%2C%20%22fillColor%22%3A%20%22%23008000ff%22%2C%20%22fillOpacity%22%3A%200.7%2C%20%22weight%22%3A%201%7D%2C%20%22value%22%3A%201%7D%2C%20%22type%22%3A%20%22Feature%22%7D%5D%2C%20%22type%22%3A%20%22FeatureCollection%22%7D%2C%0A%20%20%20%20%20%20%20%20%20%20%20%20%7B%0A%20%20%20%20%20%20%20%20%20%20%20%20%7D%0A%20%20%20%20%20%20%20%20%29.addTo%28map_d6c5e40be16145bf874c23448c89ea99%20%29%3B%0A%20%20%20%20%20%20%20%20geo_json_fff34afb04974526b6282f4c0a1fb792.setStyle%28function%28feature%29%20%7Breturn%20feature.properties.style%3B%7D%29%3B%0A%20%20%20%20%20%20%20%20%0A%20%20%20%20%0A%20%20%20%20%20%20%20%20var%20geo_json_ab975e9e847c4143ad26eaff92a42e45%20%3D%20L.geoJson%28%0A%20%20%20%20%20%20%20%20%20%20%20%20%7B%22features%22%3A%20%5B%7B%22geometry%22%3A%20%7B%22coordinates%22%3A%20%5B%5B%5B-46.698602%2C%20-23.565356%5D%2C%20%5B-46.694437%2C%20-23.562481%5D%2C%20%5B-46.69532%2C%20-23.557834%5D%2C%20%5B-46.700367%2C%20-23.556063%5D%2C%20%5B-46.704533%2C%20-23.558939%5D%2C%20%5B-46.70365%2C%20-23.563586%5D%2C%20%5B-46.698602%2C%20-23.565356%5D%5D%5D%2C%20%22type%22%3A%20%22Polygon%22%7D%2C%20%22id%22%3A%20%2288a8100e83fffff%22%2C%20%22properties%22%3A%20%7B%22highlight%22%3A%20%7B%7D%2C%20%22style%22%3A%20%7B%22color%22%3A%20%22black%22%2C%20%22fillColor%22%3A%20%22%232c9600ff%22%2C%20%22fillOpacity%22%3A%200.7%2C%20%22weight%22%3A%201%7D%2C%20%22value%22%3A%203%7D%2C%20%22type%22%3A%20%22Feature%22%7D%2C%20%7B%22geometry%22%3A%20%7B%22coordinates%22%3A%20%5B%5B%5B-46.689389%2C%20-23.564251%5D%2C%20%5B-46.685223%2C%20-23.561375%5D%2C%20%5B-46.686106%2C%20-23.556729%5D%2C%20%5B-46.691154%2C%20-23.554958%5D%2C%20%5B-46.69532%2C%20-23.557834%5D%2C%20%5B-46.694437%2C%20-23.562481%5D%2C%20%5B-46.689389%2C%20-23.564251%5D%5D%5D%2C%20%22type%22%3A%20%22Polygon%22%7D%2C%20%22id%22%3A%20%2288a8100e87fffff%22%2C%20%22properties%22%3A%20%7B%22highlight%22%3A%20%7B%7D%2C%20%22style%22%3A%20%7B%22color%22%3A%20%22black%22%2C%20%22fillColor%22%3A%20%22%239bce00ff%22%2C%20%22fillOpacity%22%3A%200.7%2C%20%22weight%22%3A%201%7D%2C%20%22value%22%3A%208%7D%2C%20%22type%22%3A%20%22Feature%22%7D%2C%20%7B%22geometry%22%3A%20%7B%22coordinates%22%3A%20%5B%5B%5B-46.713746%2C%20-23.560043%5D%2C%20%5B-46.70958%2C%20-23.557168%5D%2C%20%5B-46.710463%2C%20-23.552521%5D%2C%20%5B-46.71551%2C%20-23.55075%5D%2C%20%5B-46.719676%2C%20-23.553625%5D%2C%20%5B-46.718793%2C%20-23.558272%5D%2C%20%5B-46.713746%2C%20-23.560043%5D%5D%5D%2C%20%22type%22%3A%20%22Polygon%22%7D%2C%20%22id%22%3A%20%2288a8100e91fffff%22%2C%20%22properties%22%3A%20%7B%22highlight%22%3A%20%7B%7D%2C%20%22style%22%3A%20%7B%22color%22%3A%20%22black%22%2C%20%22fillColor%22%3A%20%22%2385c300ff%22%2C%20%22fillOpacity%22%3A%200.7%2C%20%22weight%22%3A%201%7D%2C%20%22value%22%3A%207%7D%2C%20%22type%22%3A%20%22Feature%22%7D%2C%20%7B%22geometry%22%3A%20%7B%22coordinates%22%3A%20%5B%5B%5B-46.719676%2C%20-23.553625%5D%2C%20%5B-46.71551%2C%20-23.55075%5D%2C%20%5B-46.716393%2C%20-23.546102%5D%2C%20%5B-46.72144%2C%20-23.544331%5D%2C%20%5B-46.725605%2C%20-23.547206%5D%2C%20%5B-46.724723%2C%20-23.551853%5D%2C%20%5B-46.719676%2C%20-23.553625%5D%5D%5D%2C%20%22type%22%3A%20%22Polygon%22%7D%2C%20%22id%22%3A%20%2288a8100e93fffff%22%2C%20%22properties%22%3A%20%7B%22highlight%22%3A%20%7B%7D%2C%20%22style%22%3A%20%7B%22color%22%3A%20%22black%22%2C%20%22fillColor%22%3A%20%22%23f4fa00ff%22%2C%20%22fillOpacity%22%3A%200.7%2C%20%22weight%22%3A%201%7D%2C%20%22value%22%3A%2012%7D%2C%20%22type%22%3A%20%22Feature%22%7D%2C%20%7B%22geometry%22%3A%20%7B%22coordinates%22%3A%20%5B%5B%5B-46.704533%2C%20-23.558939%5D%2C%20%5B-46.700367%2C%20-23.556063%5D%2C%20%5B-46.70125%2C%20-23.551416%5D%2C%20%5B-46.706298%2C%20-23.549645%5D%2C%20%5B-46.710463%2C%20-23.552521%5D%2C%20%5B-46.70958%2C%20-23.557168%5D%2C%20%5B-46.704533%2C%20-23.558939%5D%5D%5D%2C%20%22type%22%3A%20%22Polygon%22%7D%2C%20%22id%22%3A%20%2288a8100e95fffff%22%2C%20%22properties%22%3A%20%7B%22highlight%22%3A%20%7B%7D%2C%20%22style%22%3A%20%7B%22color%22%3A%20%22black%22%2C%20%22fillColor%22%3A%20%22%239bce00ff%22%2C%20%22fillOpacity%22%3A%200.7%2C%20%22weight%22%3A%201%7D%2C%20%22value%22%3A%208%7D%2C%20%22type%22%3A%20%22Feature%22%7D%2C%20%7B%22geometry%22%3A%20%7B%22coordinates%22%3A%20%5B%5B%5B-46.710463%2C%20-23.552521%5D%2C%20%5B-46.706298%2C%20-23.549645%5D%2C%20%5B-46.70718%2C%20-23.544998%5D%2C%20%5B-46.712228%2C%20-23.543226%5D%2C%20%5B-46.716393%2C%20-23.546102%5D%2C%20%5B-46.71551%2C%20-23.55075%5D%2C%20%5B-46.710463%2C%20-23.552521%5D%5D%5D%2C%20%22type%22%3A%20%22Polygon%22%7D%2C%20%22id%22%3A%20%2288a8100e97fffff%22%2C%20%22properties%22%3A%20%7B%22highlight%22%3A%20%7B%7D%2C%20%22style%22%3A%20%7B%22color%22%3A%20%22black%22%2C%20%22fillColor%22%3A%20%22%23fff400ff%22%2C%20%22fillOpacity%22%3A%200.7%2C%20%22weight%22%3A%201%7D%2C%20%22value%22%3A%2013%7D%2C%20%22type%22%3A%20%22Feature%22%7D%2C%20%7B%22geometry%22%3A%20%7B%22coordinates%22%3A%20%5B%5B%5B-46.707815%2C%20-23.566461%5D%2C%20%5B-46.70365%2C%20-23.563586%5D%2C%20%5B-46.704533%2C%20-23.558939%5D%2C%20%5B-46.70958%2C%20-23.557168%5D%2C%20%5B-46.713746%2C%20-23.560043%5D%2C%20%5B-46.712863%2C%20-23.56469%5D%2C%20%5B-46.707815%2C%20-23.566461%5D%5D%5D%2C%20%22type%22%3A%20%22Polygon%22%7D%2C%20%22id%22%3A%20%2288a8100e9dfffff%22%2C%20%22properties%22%3A%20%7B%22highlight%22%3A%20%7B%7D%2C%20%22style%22%3A%20%7B%22color%22%3A%20%22black%22%2C%20%22fillColor%22%3A%20%22%23168b00ff%22%2C%20%22fillOpacity%22%3A%200.7%2C%20%22weight%22%3A%201%7D%2C%20%22value%22%3A%202%7D%2C%20%22type%22%3A%20%22Feature%22%7D%2C%20%7B%22geometry%22%3A%20%7B%22coordinates%22%3A%20%5B%5B%5B-46.692037%2C%20-23.550311%5D%2C%20%5B-46.687872%2C%20-23.547435%5D%2C%20%5B-46.688754%2C%20-23.542787%5D%2C%20%5B-46.693802%2C%20-23.541016%5D%2C%20%5B-46.697967%2C%20-23.543893%5D%2C%20%5B-46.697085%2C%20-23.54854%5D%2C%20%5B-46.692037%2C%20-23.550311%5D%5D%5D%2C%20%22type%22%3A%20%22Polygon%22%7D%2C%20%22id%22%3A%20%2288a8100eb1fffff%22%2C%20%22properties%22%3A%20%7B%22highlight%22%3A%20%7B%7D%2C%20%22style%22%3A%20%7B%22color%22%3A%20%22black%22%2C%20%22fillColor%22%3A%20%22%232c9600ff%22%2C%20%22fillOpacity%22%3A%200.7%2C%20%22weight%22%3A%201%7D%2C%20%22value%22%3A%203%7D%2C%20%22type%22%3A%20%22Feature%22%7D%2C%20%7B%22geometry%22%3A%20%7B%22coordinates%22%3A%20%5B%5B%5B-46.697967%2C%20-23.543893%5D%2C%20%5B-46.693802%2C%20-23.541016%5D%2C%20%5B-46.694685%2C%20-23.536369%5D%2C%20%5B-46.699732%2C%20-23.534597%5D%2C%20%5B-46.703898%2C%20-23.537474%5D%2C%20%5B-46.703015%2C%20-23.542122%5D%2C%20%5B-46.697967%2C%20-23.543893%5D%5D%5D%2C%20%22type%22%3A%20%22Polygon%22%7D%2C%20%22id%22%3A%20%2288a8100eb3fffff%22%2C%20%22properties%22%3A%20%7B%22highlight%22%3A%20%7B%7D%2C%20%22style%22%3A%20%7B%22color%22%3A%20%22black%22%2C%20%22fillColor%22%3A%20%22%2359ac00ff%22%2C%20%22fillOpacity%22%3A%200.7%2C%20%22weight%22%3A%201%7D%2C%20%22value%22%3A%205%7D%2C%20%22type%22%3A%20%22Feature%22%7D%2C%20%7B%22geometry%22%3A%20%7B%22coordinates%22%3A%20%5B%5B%5B-46.69532%2C%20-23.557834%5D%2C%20%5B-46.691154%2C%20-23.554958%5D%2C%20%5B-46.692037%2C%20-23.550311%5D%2C%20%5B-46.697085%2C%20-23.54854%5D%2C%20%5B-46.70125%2C%20-23.551416%5D%2C%20%5B-46.700367%2C%20-23.556063%5D%2C%20%5B-46.69532%2C%20-23.557834%5D%5D%5D%2C%20%22type%22%3A%20%22Polygon%22%7D%2C%20%22id%22%3A%20%2288a8100eb9fffff%22%2C%20%22properties%22%3A%20%7B%22highlight%22%3A%20%7B%7D%2C%20%22style%22%3A%20%7B%22color%22%3A%20%22black%22%2C%20%22fillColor%22%3A%20%22%236fb700ff%22%2C%20%22fillOpacity%22%3A%200.7%2C%20%22weight%22%3A%201%7D%2C%20%22value%22%3A%206%7D%2C%20%22type%22%3A%20%22Feature%22%7D%2C%20%7B%22geometry%22%3A%20%7B%22coordinates%22%3A%20%5B%5B%5B-46.70125%2C%20-23.551416%5D%2C%20%5B-46.697085%2C%20-23.54854%5D%2C%20%5B-46.697967%2C%20-23.543893%5D%2C%20%5B-46.703015%2C%20-23.542122%5D%2C%20%5B-46.70718%2C%20-23.544998%5D%2C%20%5B-46.706298%2C%20-23.549645%5D%2C%20%5B-46.70125%2C%20-23.551416%5D%5D%5D%2C%20%22type%22%3A%20%22Polygon%22%7D%2C%20%22id%22%3A%20%2288a8100ebbfffff%22%2C%20%22properties%22%3A%20%7B%22highlight%22%3A%20%7B%7D%2C%20%22style%22%3A%20%7B%22color%22%3A%20%22black%22%2C%20%22fillColor%22%3A%20%22%23008000ff%22%2C%20%22fillOpacity%22%3A%200.7%2C%20%22weight%22%3A%201%7D%2C%20%22value%22%3A%201%7D%2C%20%22type%22%3A%20%22Feature%22%7D%2C%20%7B%22geometry%22%3A%20%7B%22coordinates%22%3A%20%5B%5B%5B-46.686106%2C%20-23.556729%5D%2C%20%5B-46.681941%2C%20-23.553852%5D%2C%20%5B-46.682823%2C%20-23.549205%5D%2C%20%5B-46.687872%2C%20-23.547435%5D%2C%20%5B-46.692037%2C%20-23.550311%5D%2C%20%5B-46.691154%2C%20-23.554958%5D%2C%20%5B-46.686106%2C%20-23.556729%5D%5D%5D%2C%20%22type%22%3A%20%22Polygon%22%7D%2C%20%22id%22%3A%20%2288a8100ebdfffff%22%2C%20%22properties%22%3A%20%7B%22highlight%22%3A%20%7B%7D%2C%20%22style%22%3A%20%7B%22color%22%3A%20%22black%22%2C%20%22fillColor%22%3A%20%22%23008000ff%22%2C%20%22fillOpacity%22%3A%200.7%2C%20%22weight%22%3A%201%7D%2C%20%22value%22%3A%201%7D%2C%20%22type%22%3A%20%22Feature%22%7D%2C%20%7B%22geometry%22%3A%20%7B%22coordinates%22%3A%20%5B%5B%5B-46.734818%2C%20-23.548309%5D%2C%20%5B-46.730653%2C%20-23.545434%5D%2C%20%5B-46.731535%2C%20-23.540787%5D%2C%20%5B-46.736582%2C%20-23.539015%5D%2C%20%5B-46.740747%2C%20-23.54189%5D%2C%20%5B-46.739865%2C%20-23.546537%5D%2C%20%5B-46.734818%2C%20-23.548309%5D%5D%5D%2C%20%22type%22%3A%20%22Polygon%22%7D%2C%20%22id%22%3A%20%2288a8103b41fffff%22%2C%20%22properties%22%3A%20%7B%22highlight%22%3A%20%7B%7D%2C%20%22style%22%3A%20%7B%22color%22%3A%20%22black%22%2C%20%22fillColor%22%3A%20%22%23ff0000ff%22%2C%20%22fillOpacity%22%3A%200.7%2C%20%22weight%22%3A%201%7D%2C%20%22value%22%3A%2024%7D%2C%20%22type%22%3A%20%22Feature%22%7D%2C%20%7B%22geometry%22%3A%20%7B%22coordinates%22%3A%20%5B%5B%5B-46.725605%2C%20-23.547206%5D%2C%20%5B-46.72144%2C%20-23.544331%5D%2C%20%5B-46.722323%2C%20-23.539683%5D%2C%20%5B-46.72737%2C%20-23.537911%5D%2C%20%5B-46.731535%2C%20-23.540787%5D%2C%20%5B-46.730653%2C%20-23.545434%5D%2C%20%5B-46.725605%2C%20-23.547206%5D%5D%5D%2C%20%22type%22%3A%20%22Polygon%22%7D%2C%20%22id%22%3A%20%2288a8103b45fffff%22%2C%20%22properties%22%3A%20%7B%22highlight%22%3A%20%7B%7D%2C%20%22style%22%3A%20%7B%22color%22%3A%20%22black%22%2C%20%22fillColor%22%3A%20%22%23fff400ff%22%2C%20%22fillOpacity%22%3A%200.7%2C%20%22weight%22%3A%201%7D%2C%20%22value%22%3A%2013%7D%2C%20%22type%22%3A%20%22Feature%22%7D%2C%20%7B%22geometry%22%3A%20%7B%22coordinates%22%3A%20%5B%5B%5B-46.728888%2C%20-23.554728%5D%2C%20%5B-46.724723%2C%20-23.551853%5D%2C%20%5B-46.725605%2C%20-23.547206%5D%2C%20%5B-46.730653%2C%20-23.545434%5D%2C%20%5B-46.734818%2C%20-23.548309%5D%2C%20%5B-46.733935%2C%20-23.552957%5D%2C%20%5B-46.728888%2C%20-23.554728%5D%5D%5D%2C%20%22type%22%3A%20%22Polygon%22%7D%2C%20%22id%22%3A%20%2288a8103b4dfffff%22%2C%20%22properties%22%3A%20%7B%22highlight%22%3A%20%7B%7D%2C%20%22style%22%3A%20%7B%22color%22%3A%20%22black%22%2C%20%22fillColor%22%3A%20%22%232c9600ff%22%2C%20%22fillOpacity%22%3A%200.7%2C%20%22weight%22%3A%201%7D%2C%20%22value%22%3A%203%7D%2C%20%22type%22%3A%20%22Feature%22%7D%2C%20%7B%22geometry%22%3A%20%7B%22coordinates%22%3A%20%5B%5B%5B-46.71311%2C%20-23.538579%5D%2C%20%5B-46.708945%2C%20-23.535703%5D%2C%20%5B-46.709828%2C%20-23.531055%5D%2C%20%5B-46.714875%2C%20-23.529283%5D%2C%20%5B-46.71904%2C%20-23.532159%5D%2C%20%5B-46.718158%2C%20-23.536807%5D%2C%20%5B-46.71311%2C%20-23.538579%5D%5D%5D%2C%20%22type%22%3A%20%22Polygon%22%7D%2C%20%22id%22%3A%20%2288a8103b61fffff%22%2C%20%22properties%22%3A%20%7B%22highlight%22%3A%20%7B%7D%2C%20%22style%22%3A%20%7B%22color%22%3A%20%22black%22%2C%20%22fillColor%22%3A%20%22%23008000ff%22%2C%20%22fillOpacity%22%3A%200.7%2C%20%22weight%22%3A%201%7D%2C%20%22value%22%3A%201%7D%2C%20%22type%22%3A%20%22Feature%22%7D%2C%20%7B%22geometry%22%3A%20%7B%22coordinates%22%3A%20%5B%5B%5B-46.716393%2C%20-23.546102%5D%2C%20%5B-46.712228%2C%20-23.543226%5D%2C%20%5B-46.71311%2C%20-23.538579%5D%2C%20%5B-46.718158%2C%20-23.536807%5D%2C%20%5B-46.722323%2C%20-23.539683%5D%2C%20%5B-46.72144%2C%20-23.544331%5D%2C%20%5B-46.716393%2C%20-23.546102%5D%5D%5D%2C%20%22type%22%3A%20%22Polygon%22%7D%2C%20%22id%22%3A%20%2288a8103b69fffff%22%2C%20%22properties%22%3A%20%7B%22highlight%22%3A%20%7B%7D%2C%20%22style%22%3A%20%7B%22color%22%3A%20%22black%22%2C%20%22fillColor%22%3A%20%22%23b2d900ff%22%2C%20%22fillOpacity%22%3A%200.7%2C%20%22weight%22%3A%201%7D%2C%20%22value%22%3A%209%7D%2C%20%22type%22%3A%20%22Feature%22%7D%2C%20%7B%22geometry%22%3A%20%7B%22coordinates%22%3A%20%5B%5B%5B-46.722323%2C%20-23.539683%5D%2C%20%5B-46.718158%2C%20-23.536807%5D%2C%20%5B-46.71904%2C%20-23.532159%5D%2C%20%5B-46.724087%2C%20-23.530387%5D%2C%20%5B-46.728252%2C%20-23.533263%5D%2C%20%5B-46.72737%2C%20-23.537911%5D%2C%20%5B-46.722323%2C%20-23.539683%5D%5D%5D%2C%20%22type%22%3A%20%22Polygon%22%7D%2C%20%22id%22%3A%20%2288a8103b6bfffff%22%2C%20%22properties%22%3A%20%7B%22highlight%22%3A%20%7B%7D%2C%20%22style%22%3A%20%7B%22color%22%3A%20%22black%22%2C%20%22fillColor%22%3A%20%22%23deef00ff%22%2C%20%22fillOpacity%22%3A%200.7%2C%20%22weight%22%3A%201%7D%2C%20%22value%22%3A%2011%7D%2C%20%22type%22%3A%20%22Feature%22%7D%2C%20%7B%22geometry%22%3A%20%7B%22coordinates%22%3A%20%5B%5B%5B-46.70718%2C%20-23.544998%5D%2C%20%5B-46.703015%2C%20-23.542122%5D%2C%20%5B-46.703898%2C%20-23.537474%5D%2C%20%5B-46.708945%2C%20-23.535703%5D%2C%20%5B-46.71311%2C%20-23.538579%5D%2C%20%5B-46.712228%2C%20-23.543226%5D%2C%20%5B-46.70718%2C%20-23.544998%5D%5D%5D%2C%20%22type%22%3A%20%22Polygon%22%7D%2C%20%22id%22%3A%20%2288a8103b6dfffff%22%2C%20%22properties%22%3A%20%7B%22highlight%22%3A%20%7B%7D%2C%20%22style%22%3A%20%7B%22color%22%3A%20%22black%22%2C%20%22fillColor%22%3A%20%22%2342a100ff%22%2C%20%22fillOpacity%22%3A%200.7%2C%20%22weight%22%3A%201%7D%2C%20%22value%22%3A%204%7D%2C%20%22type%22%3A%20%22Feature%22%7D%5D%2C%20%22type%22%3A%20%22FeatureCollection%22%7D%2C%0A%20%20%20%20%20%20%20%20%20%20%20%20%7B%0A%20%20%20%20%20%20%20%20%20%20%20%20%7D%0A%20%20%20%20%20%20%20%20%29.addTo%28map_d6c5e40be16145bf874c23448c89ea99%20%29%3B%0A%20%20%20%20%20%20%20%20geo_json_ab975e9e847c4143ad26eaff92a42e45.setStyle%28function%28feature%29%20%7Breturn%20feature.properties.style%3B%7D%29%3B%0A%20%20%20%20%20%20%20%20%0A%20%20%20%20%0A%20%20%20%20%20%20%20%20var%20geo_json_7188ecb6fcf84b1681f632d46c6ee427%20%3D%20L.geoJson%28%0A%20%20%20%20%20%20%20%20%20%20%20%20%7B%22features%22%3A%20%5B%7B%22geometry%22%3A%20%7B%22coordinates%22%3A%20%5B%5B%5B-46.686741%2C%20-23.578189%5D%2C%20%5B-46.679292%2C%20-23.567792%5D%2C%20%5B-46.686106%2C%20-23.556729%5D%2C%20%5B-46.700367%2C%20-23.556063%5D%2C%20%5B-46.707815%2C%20-23.566461%5D%2C%20%5B-46.701002%2C%20-23.577524%5D%2C%20%5B-46.686741%2C%20-23.578189%5D%5D%5D%2C%20%22type%22%3A%20%22Polygon%22%7D%2C%20%22id%22%3A%20%2287a8100e8ffffff%22%2C%20%22properties%22%3A%20%7B%22highlight%22%3A%20%7B%7D%2C%20%22style%22%3A%20%7B%22color%22%3A%20%22black%22%2C%20%22fillColor%22%3A%20%22%23008000ff%22%2C%20%22fillOpacity%22%3A%200.7%2C%20%22weight%22%3A%201%7D%2C%20%22value%22%3A%207%7D%2C%20%22type%22%3A%20%22Feature%22%7D%2C%20%7B%22geometry%22%3A%20%7B%22coordinates%22%3A%20%5B%5B%5B-46.707815%2C%20-23.566461%5D%2C%20%5B-46.700367%2C%20-23.556063%5D%2C%20%5B-46.70718%2C%20-23.544998%5D%2C%20%5B-46.72144%2C%20-23.544331%5D%2C%20%5B-46.728888%2C%20-23.554728%5D%2C%20%5B-46.722076%2C%20-23.565793%5D%2C%20%5B-46.707815%2C%20-23.566461%5D%5D%5D%2C%20%22type%22%3A%20%22Polygon%22%7D%2C%20%22id%22%3A%20%2287a8100e9ffffff%22%2C%20%22properties%22%3A%20%7B%22highlight%22%3A%20%7B%7D%2C%20%22style%22%3A%20%7B%22color%22%3A%20%22black%22%2C%20%22fillColor%22%3A%20%22%23ff0000ff%22%2C%20%22fillOpacity%22%3A%200.7%2C%20%22weight%22%3A%201%7D%2C%20%22value%22%3A%2044%7D%2C%20%22type%22%3A%20%22Feature%22%7D%2C%20%7B%22geometry%22%3A%20%7B%22coordinates%22%3A%20%5B%5B%5B-46.686106%2C%20-23.556729%5D%2C%20%5B-46.678658%2C%20-23.546329%5D%2C%20%5B-46.685472%2C%20-23.535263%5D%2C%20%5B-46.699732%2C%20-23.534597%5D%2C%20%5B-46.70718%2C%20-23.544998%5D%2C%20%5B-46.700367%2C%20-23.556063%5D%2C%20%5B-46.686106%2C%20-23.556729%5D%5D%5D%2C%20%22type%22%3A%20%22Polygon%22%7D%2C%20%22id%22%3A%20%2287a8100ebffffff%22%2C%20%22properties%22%3A%20%7B%22highlight%22%3A%20%7B%7D%2C%20%22style%22%3A%20%7B%22color%22%3A%20%22black%22%2C%20%22fillColor%22%3A%20%22%23cfe700ff%22%2C%20%22fillOpacity%22%3A%200.7%2C%20%22weight%22%3A%201%7D%2C%20%22value%22%3A%2022%7D%2C%20%22type%22%3A%20%22Feature%22%7D%2C%20%7B%22geometry%22%3A%20%7B%22coordinates%22%3A%20%5B%5B%5B-46.728888%2C%20-23.554728%5D%2C%20%5B-46.72144%2C%20-23.544331%5D%2C%20%5B-46.728252%2C%20-23.533263%5D%2C%20%5B-46.742511%2C%20-23.532594%5D%2C%20%5B-46.749959%2C%20-23.542992%5D%2C%20%5B-46.743148%2C%20-23.554059%5D%2C%20%5B-46.728888%2C%20-23.554728%5D%5D%5D%2C%20%22type%22%3A%20%22Polygon%22%7D%2C%20%22id%22%3A%20%2287a8103b4ffffff%22%2C%20%22properties%22%3A%20%7B%22highlight%22%3A%20%7B%7D%2C%20%22style%22%3A%20%7B%22color%22%3A%20%22black%22%2C%20%22fillColor%22%3A%20%22%23ff6000ff%22%2C%20%22fillOpacity%22%3A%200.7%2C%20%22weight%22%3A%201%7D%2C%20%22value%22%3A%2037%7D%2C%20%22type%22%3A%20%22Feature%22%7D%2C%20%7B%22geometry%22%3A%20%7B%22coordinates%22%3A%20%5B%5B%5B-46.70718%2C%20-23.544998%5D%2C%20%5B-46.699732%2C%20-23.534597%5D%2C%20%5B-46.706545%2C%20-23.523529%5D%2C%20%5B-46.720805%2C%20-23.522862%5D%2C%20%5B-46.728252%2C%20-23.533263%5D%2C%20%5B-46.72144%2C%20-23.544331%5D%2C%20%5B-46.70718%2C%20-23.544998%5D%5D%5D%2C%20%22type%22%3A%20%22Polygon%22%7D%2C%20%22id%22%3A%20%2287a8103b6ffffff%22%2C%20%22properties%22%3A%20%7B%22highlight%22%3A%20%7B%7D%2C%20%22style%22%3A%20%7B%22color%22%3A%20%22black%22%2C%20%22fillColor%22%3A%20%22%23ebf500ff%22%2C%20%22fillOpacity%22%3A%200.7%2C%20%22weight%22%3A%201%7D%2C%20%22value%22%3A%2024%7D%2C%20%22type%22%3A%20%22Feature%22%7D%5D%2C%20%22type%22%3A%20%22FeatureCollection%22%7D%2C%0A%20%20%20%20%20%20%20%20%20%20%20%20%7B%0A%20%20%20%20%20%20%20%20%20%20%20%20%7D%0A%20%20%20%20%20%20%20%20%29.addTo%28map_d6c5e40be16145bf874c23448c89ea99%20%29%3B%0A%20%20%20%20%20%20%20%20geo_json_7188ecb6fcf84b1681f632d46c6ee427.setStyle%28function%28feature%29%20%7Breturn%20feature.properties.style%3B%7D%29%3B%0A%20%20%20%20%20%20%20%20%0A%20%20%20%20%0A%20%20%20%20%20%20%20%20var%20geo_json_edc6b133b6774e87a8eb0992d75ef14b%20%3D%20L.geoJson%28%0A%20%20%20%20%20%20%20%20%20%20%20%20%7B%22features%22%3A%20%5B%7B%22geometry%22%3A%20%7B%22coordinates%22%3A%20%5B%5B%5B-46.687375%2C%20-23.599644%5D%2C%20%5B-46.658215%2C%20-23.579517%5D%2C%20%5B-46.664396%2C%20-23.546992%5D%2C%20%5B-46.699732%2C%20-23.534597%5D%2C%20%5B-46.728888%2C%20-23.554728%5D%2C%20%5B-46.722712%2C%20-23.58725%5D%2C%20%5B-46.687375%2C%20-23.599644%5D%5D%5D%2C%20%22type%22%3A%20%22Polygon%22%7D%2C%20%22id%22%3A%20%2286a8100efffffff%22%2C%20%22properties%22%3A%20%7B%22highlight%22%3A%20%7B%7D%2C%20%22style%22%3A%20%7B%22color%22%3A%20%22black%22%2C%20%22fillColor%22%3A%20%22%23ff0000ff%22%2C%20%22fillOpacity%22%3A%200.7%2C%20%22weight%22%3A%201%7D%2C%20%22value%22%3A%2070%7D%2C%20%22type%22%3A%20%22Feature%22%7D%2C%20%7B%22geometry%22%3A%20%7B%22coordinates%22%3A%20%5B%5B%5B-46.728888%2C%20-23.554728%5D%2C%20%5B-46.699732%2C%20-23.534597%5D%2C%20%5B-46.70591%2C%20-23.502055%5D%2C%20%5B-46.741239%2C%20-23.489648%5D%2C%20%5B-46.77039%2C%20-23.509782%5D%2C%20%5B-46.764217%2C%20-23.542321%5D%2C%20%5B-46.728888%2C%20-23.554728%5D%5D%5D%2C%20%22type%22%3A%20%22Polygon%22%7D%2C%20%22id%22%3A%20%2286a8103b7ffffff%22%2C%20%22properties%22%3A%20%7B%22highlight%22%3A%20%7B%7D%2C%20%22style%22%3A%20%7B%22color%22%3A%20%22black%22%2C%20%22fillColor%22%3A%20%22%23008000ff%22%2C%20%22fillOpacity%22%3A%200.7%2C%20%22weight%22%3A%201%7D%2C%20%22value%22%3A%2064%7D%2C%20%22type%22%3A%20%22Feature%22%7D%5D%2C%20%22type%22%3A%20%22FeatureCollection%22%7D%2C%0A%20%20%20%20%20%20%20%20%20%20%20%20%7B%0A%20%20%20%20%20%20%20%20%20%20%20%20%7D%0A%20%20%20%20%20%20%20%20%29.addTo%28map_d6c5e40be16145bf874c23448c89ea99%20%29%3B%0A%20%20%20%20%20%20%20%20geo_json_edc6b133b6774e87a8eb0992d75ef14b.setStyle%28function%28feature%29%20%7Breturn%20feature.properties.style%3B%7D%29%3B%0A%20%20%20%20%20%20%20%20%0A%20%20%20%20%0A%20%20%20%20%20%20%20%20var%20geo_json_de7586bf94ae4736b348d1aab680ab9d%20%3D%20L.geoJson%28%0A%20%20%20%20%20%20%20%20%20%20%20%20%7B%22features%22%3A%20%5B%7B%22geometry%22%3A%20%7B%22coordinates%22%3A%20%5B%5B%5B-46.581337%2C%20-23.636775%5D%2C%20%5B-46.529194%2C%20-23.563965%5D%2C%20%5B-46.57692%2C%20-23.486515%5D%2C%20%5B-46.676755%2C%20-23.481905%5D%2C%20%5B-46.728888%2C%20-23.554728%5D%2C%20%5B-46.681196%2C%20-23.632149%5D%2C%20%5B-46.581337%2C%20-23.636775%5D%5D%5D%2C%20%22type%22%3A%20%22Polygon%22%7D%2C%20%22id%22%3A%20%2285a8100ffffffff%22%2C%20%22properties%22%3A%20%7B%22highlight%22%3A%20%7B%7D%2C%20%22style%22%3A%20%7B%22color%22%3A%20%22black%22%2C%20%22fillColor%22%3A%20%22%23ff0000ff%22%2C%20%22fillOpacity%22%3A%200.7%2C%20%22weight%22%3A%201%7D%2C%20%22value%22%3A%2086%7D%2C%20%22type%22%3A%20%22Feature%22%7D%2C%20%7B%22geometry%22%3A%20%7B%22coordinates%22%3A%20%5B%5B%5B-46.728888%2C%20-23.554728%5D%2C%20%5B-46.676755%2C%20-23.481905%5D%2C%20%5B-46.724438%2C%20-23.404355%5D%2C%20%5B-46.824219%2C%20-23.399658%5D%2C%20%5B-46.87634%2C%20-23.472496%5D%2C%20%5B-46.828692%2C%20-23.550016%5D%2C%20%5B-46.728888%2C%20-23.554728%5D%5D%5D%2C%20%22type%22%3A%20%22Polygon%22%7D%2C%20%22id%22%3A%20%2285a8103bfffffff%22%2C%20%22properties%22%3A%20%7B%22highlight%22%3A%20%7B%7D%2C%20%22style%22%3A%20%7B%22color%22%3A%20%22black%22%2C%20%22fillColor%22%3A%20%22%23008000ff%22%2C%20%22fillOpacity%22%3A%200.7%2C%20%22weight%22%3A%201%7D%2C%20%22value%22%3A%2048%7D%2C%20%22type%22%3A%20%22Feature%22%7D%5D%2C%20%22type%22%3A%20%22FeatureCollection%22%7D%2C%0A%20%20%20%20%20%20%20%20%20%20%20%20%7B%0A%20%20%20%20%20%20%20%20%20%20%20%20%7D%0A%20%20%20%20%20%20%20%20%29.addTo%28map_d6c5e40be16145bf874c23448c89ea99%20%29%3B%0A%20%20%20%20%20%20%20%20geo_json_de7586bf94ae4736b348d1aab680ab9d.setStyle%28function%28feature%29%20%7Breturn%20feature.properties.style%3B%7D%29%3B%0A%20%20%20%20%20%20%20%20%0A%20%20%20%20%0A%20%20%20%20%20%20%20%20%20%20%20%20var%20layer_control_f04dfda741e0470db99aa9261383fa84%20%3D%20%7B%0A%20%20%20%20%20%20%20%20%20%20%20%20%20%20%20%20base_layers%20%3A%20%7B%20%22cartodbpositron%22%20%3A%20tile_layer_1750ddc2b8e44a4ea8f1963e7b07bf93%2C%20%7D%2C%0A%20%20%20%20%20%20%20%20%20%20%20%20%20%20%20%20overlays%20%3A%20%7B%20%22Choropleth%209%22%20%3A%20geo_json_fff34afb04974526b6282f4c0a1fb792%2C%22Choropleth%208%22%20%3A%20geo_json_ab975e9e847c4143ad26eaff92a42e45%2C%22Choropleth%207%22%20%3A%20geo_json_7188ecb6fcf84b1681f632d46c6ee427%2C%22Choropleth%206%22%20%3A%20geo_json_edc6b133b6774e87a8eb0992d75ef14b%2C%22Choropleth%205%22%20%3A%20geo_json_de7586bf94ae4736b348d1aab680ab9d%2C%20%7D%0A%20%20%20%20%20%20%20%20%20%20%20%20%20%20%20%20%7D%3B%0A%20%20%20%20%20%20%20%20%20%20%20%20L.control.layers%28%0A%20%20%20%20%20%20%20%20%20%20%20%20%20%20%20%20layer_control_f04dfda741e0470db99aa9261383fa84.base_layers%2C%0A%20%20%20%20%20%20%20%20%20%20%20%20%20%20%20%20layer_control_f04dfda741e0470db99aa9261383fa84.overlays%2C%0A%20%20%20%20%20%20%20%20%20%20%20%20%20%20%20%20%7Bposition%3A%20%27bottomright%27%2C%0A%20%20%20%20%20%20%20%20%20%20%20%20%20%20%20%20%20collapsed%3A%20false%2C%0A%20%20%20%20%20%20%20%20%20%20%20%20%20%20%20%20%20autoZIndex%3A%20true%0A%20%20%20%20%20%20%20%20%20%20%20%20%20%20%20%20%7D%29.addTo%28map_d6c5e40be16145bf874c23448c89ea99%29%3B%0A%20%20%20%20%20%20%20%20%20%20%20%20%0A%20%20%20%20%20%20%20%20%0A%3C/script%3E onload=\"this.contentDocument.open();this.contentDocument.write(    decodeURIComponent(this.getAttribute('data-html')));this.contentDocument.close();\" allowfullscreen webkitallowfullscreen mozallowfullscreen></iframe></div></div>"
            ],
            "text/plain": [
              "<folium.folium.Map at 0x7f9cd57a22d0>"
            ]
          },
          "metadata": {
            "tags": []
          },
          "execution_count": 71
        },
        {
          "output_type": "stream",
          "text": [
            "time: 126 ms (started: 2021-07-20 01:28:24 +00:00)\n"
          ],
          "name": "stdout"
        }
      ]
    },
    {
      "cell_type": "code",
      "metadata": {
        "colab": {
          "base_uri": "https://localhost:8080/"
        },
        "id": "LGEOZz6IkFF4",
        "outputId": "7f497d8d-61ef-41ab-b6c7-be3f0f6a4294"
      },
      "source": [
        "df_2021_ALTOP = df_2021[df_2021['BAIRRO'] == 'ALTO DE PINHEIROS']\n",
        "df_2019_ALTOP = df_2019[df_2019['BAIRRO'] == 'ALTO DE PINHEIROS']"
      ],
      "execution_count": null,
      "outputs": [
        {
          "output_type": "stream",
          "text": [
            "time: 15.4 ms (started: 2021-07-20 01:39:01 +00:00)\n"
          ],
          "name": "stdout"
        }
      ]
    },
    {
      "cell_type": "code",
      "metadata": {
        "colab": {
          "base_uri": "https://localhost:8080/"
        },
        "id": "z5duXzsBkQgm",
        "outputId": "fb3b43f9-5b3e-4d8f-991f-0c4703caa09d"
      },
      "source": [
        "df_2019_ALTOP['RUBRICA'].value_counts()"
      ],
      "execution_count": null,
      "outputs": [
        {
          "output_type": "execute_result",
          "data": {
            "text/plain": [
              "Roubo (art. 157) - TRANSEUNTE                      51\n",
              "Roubo (art. 157) - OUTROS                          33\n",
              "Roubo (art. 157) - VEICULO                         18\n",
              "Roubo (art. 157) - INTERIOR DE VEICULO             13\n",
              "Roubo (art. 157) - CARGA                            6\n",
              "Outros nÃ£o criminal                                4\n",
              "Encontro de Pessoa                                  2\n",
              "Roubo (art. 157) - RESIDENCIA                       1\n",
              "Roubo (art. 157) - ESTABELECIMENTO COMERCIAL        1\n",
              "Roubo (art. 157) - INTERIOR TRANSPORTE COLETIVO     1\n",
              "Captura de procurado                                1\n",
              "ExtorsÃ£o (art. 158) - PESSOA                       1\n",
              "Roubo (art. 157) - INTERIOR ESTABELECIMENTO         1\n",
              "LocalizaÃ§Ã£o/ApreensÃ£o e Entrega de veÃ­culo      1\n",
              "Name: RUBRICA, dtype: int64"
            ]
          },
          "metadata": {
            "tags": []
          },
          "execution_count": 75
        },
        {
          "output_type": "stream",
          "text": [
            "time: 9.13 ms (started: 2021-07-20 01:40:16 +00:00)\n"
          ],
          "name": "stdout"
        }
      ]
    },
    {
      "cell_type": "code",
      "metadata": {
        "colab": {
          "base_uri": "https://localhost:8080/"
        },
        "id": "B237Zl67kjzz",
        "outputId": "1463c2cd-5e72-495f-f343-5a36569df23e"
      },
      "source": [
        "df_2021_ALTOP['RUBRICA'].value_counts()"
      ],
      "execution_count": null,
      "outputs": [
        {
          "output_type": "execute_result",
          "data": {
            "text/plain": [
              "Roubo (art. 157) - OUTROS                             35\n",
              "Roubo (art. 157) - TRANSEUNTE                         26\n",
              "Roubo (art. 157) - VEICULO                             7\n",
              "LocalizaÃ§Ã£o/ApreensÃ£o de veÃ­culo                   6\n",
              "LocalizaÃ§Ã£o/ApreensÃ£o e Entrega de objeto           6\n",
              "ReceptaÃ§Ã£o (art. 180) - VEICULO                      6\n",
              "Roubo (art. 157) - JOALHERIA                           6\n",
              "Roubo (art. 157) - INTERIOR DE VEICULO                 5\n",
              "LocalizaÃ§Ã£o/ApreensÃ£o e Entrega de veÃ­culo         2\n",
              "Roubo (art. 157) - Saidinha de Banco                   1\n",
              "Roubo (art. 157) - APLICATIVO DE MOBILIDADE URBANA     1\n",
              "Roubo (art. 157) - VEÃCULO COMPARTILHADO              1\n",
              "Roubo (art. 157) - INTERIOR ESTABELECIMENTO            1\n",
              "Name: RUBRICA, dtype: int64"
            ]
          },
          "metadata": {
            "tags": []
          },
          "execution_count": 76
        },
        {
          "output_type": "stream",
          "text": [
            "time: 11.8 ms (started: 2021-07-20 01:40:32 +00:00)\n"
          ],
          "name": "stdout"
        }
      ]
    }
  ]
}